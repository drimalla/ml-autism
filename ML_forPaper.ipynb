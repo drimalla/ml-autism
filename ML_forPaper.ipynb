{
 "cells": [
  {
   "cell_type": "markdown",
   "metadata": {},
   "source": [
    "### Import of Functions"
   ]
  },
  {
   "cell_type": "code",
   "execution_count": 1,
   "metadata": {},
   "outputs": [],
   "source": [
    "#basics\n",
    "import os\n",
    "import pandas as pd\n",
    "import numpy as np\n",
    "#import prep\n",
    "import math\n",
    "from statsmodels.stats.descriptivestats import sign_test\n",
    "from sklearn.metrics. ranking import _binary_clf_curve\n",
    "\n",
    "#graphics\n",
    "import matplotlib\n",
    "#matplotlib.use('agg')\n",
    "import matplotlib.pyplot as plt \n",
    "import seaborn as sns\n",
    "# fix random seed for reproducibility\n",
    "\n",
    "import pandas as pd\n",
    "\n",
    "import matplotlib.pyplot as plt\n",
    "import seaborn as sns\n",
    "from mpl_toolkits.mplot3d import Axes3D\n",
    "\n",
    "import mycharite\n",
    "from scipy.stats import chi2_contingency\n",
    "from statsmodels.stats.contingency_tables import mcnemar\n",
    "np.random.seed(42)"
   ]
  },
  {
   "cell_type": "markdown",
   "metadata": {},
   "source": [
    "## Load Results"
   ]
  },
  {
   "cell_type": "code",
   "execution_count": 2,
   "metadata": {},
   "outputs": [],
   "source": [
    "def load_results(path1, path2, feature, classifier='rf'):\n",
    "    pr_rf =[]\n",
    "    pr_svm =[]\n",
    "\n",
    "\n",
    "    if classifier=='regression':\n",
    "        data=pd.read_csv(path, sep=',', na_values=['?'])\n",
    "        pr_svm=data.iloc[0,1:].astype(float)        \n",
    "        pr_rf=data.iloc[1,1:].astype(float)\n",
    "        y_true=data.iloc[2,1:].astype(float)\n",
    "   \n",
    "    if classifier=='rf':\n",
    "        data=pd.read_csv(path1, sep=',', na_values=['?'])\n",
    "        pr_rf=data.iloc[1,1:81].astype('str').str[1:-1].str.split(' ', expand=True)[3].astype(float)\n",
    "        \n",
    "        feature_importance=pd.read_csv(path2, sep=',', na_values=['?'])\n",
    "        features=feature_importance.iloc[0,1:]\n",
    "        vpn=data.iloc[3,1:81].astype(str)\n",
    "        y_true=data.iloc[0,1:81].astype(float)\n",
    "\n",
    "        results=pd.DataFrame([pr_rf, y_true, vpn]).T\n",
    "        \n",
    "        results.columns=['pr_rf_'+feature, 'y_true_'+feature, 'vpn']\n",
    "        \n",
    "    return results, features, \n"
   ]
  },
  {
   "cell_type": "code",
   "execution_count": 3,
   "metadata": {},
   "outputs": [],
   "source": [
    "#Total\n",
    "path1='./gaze_Results.csv'\n",
    "path2='./gaze_Features.csv'\n",
    "gaze_results, gaze_features=load_results(path1, path2, 'gaze')\n",
    "\n",
    "#Total\n",
    "path1='./face_Results.csv'\n",
    "path2='./face_Features.csv'\n",
    "face_results, face_features=load_results(path1, path2, 'face')\n",
    "\n",
    "#Total\n",
    "path1='./face_full_Results.csv'\n",
    "path2='./face_full_Features.csv'\n",
    "face_full_results, face_full_features=load_results(path1, path2, 'face_full')\n",
    "\n",
    "#Total\n",
    "path1='./audio_Results.csv'\n",
    "path2='./audio_Features.csv'\n",
    "audio_results, audio_features=load_results(path1, path2, 'voice')\n",
    "\n",
    "#Total\n",
    "path1='./Clinical_Results.csv'\n",
    "path2='./Clinical_Features.csv'\n",
    "clinic_results, clinic_features=load_results(path1, path2, 'clinic')\n",
    "\n",
    "#Total\n",
    "path1='./all_only_aur_Results.csv'\n",
    "path2='./all_only_aur_Features.csv'\n",
    "full_results, full_features=load_results(path1, path2, 'full')"
   ]
  },
  {
   "cell_type": "code",
   "execution_count": 4,
   "metadata": {},
   "outputs": [],
   "source": [
    "#gaze_results\n",
    "\n",
    "gaze_face=pd.merge(gaze_results, face_results, on='vpn')\n",
    "gaze_face_full=pd.merge(gaze_face, face_full_results, on='vpn')\n",
    "gaze_face_voice=pd.merge(gaze_face_full, audio_results, on='vpn')\n",
    "gaze_face_voice_full=pd.merge(gaze_face_voice, full_results, on='vpn')\n",
    "ml_classifier=pd.merge(gaze_face_voice_full, clinic_results, on='vpn')\n"
   ]
  },
  {
   "cell_type": "code",
   "execution_count": 5,
   "metadata": {},
   "outputs": [
    {
     "name": "stdout",
     "output_type": "stream",
     "text": [
      "Proband 53 ist korrekt als NT gelabelt\n"
     ]
    }
   ],
   "source": [
    "df, df_audio, action_r, action_c, gaze, audio =mycharite.load('charite')\n",
    "df=mycharite.aq_charite(df)\n",
    "df=mycharite.ados_charite(df)\n",
    "df=mycharite.adapt_times(df)  \n",
    "experts=mycharite.load_experts(df)\n",
    "experts['vpn']=experts.vpn.astype(str)\n",
    "experts=experts.rename(columns={'ASC': 'expert_ASC'})\n",
    "experts=experts.rename(columns={'Value': 'pr_rf_experts'})\n",
    "ml_classifier_and_experts=pd.merge(ml_classifier, experts, on='vpn')\n"
   ]
  },
  {
   "cell_type": "code",
   "execution_count": 6,
   "metadata": {},
   "outputs": [
    {
     "ename": "NameError",
     "evalue": "name 'depth' is not defined",
     "output_type": "error",
     "traceback": [
      "\u001b[1;31m---------------------------------------------------------------------------\u001b[0m",
      "\u001b[1;31mNameError\u001b[0m                                 Traceback (most recent call last)",
      "\u001b[1;32m<ipython-input-6-9dc2728fec39>\u001b[0m in \u001b[0;36m<module>\u001b[1;34m\u001b[0m\n\u001b[0;32m      1\u001b[0m \u001b[0mml_classifier_and_experts\u001b[0m\u001b[1;33m[\u001b[0m\u001b[1;34m'pr_rf_majority'\u001b[0m\u001b[1;33m]\u001b[0m\u001b[1;33m=\u001b[0m\u001b[1;36m0.4\u001b[0m\u001b[1;33m\u001b[0m\u001b[1;33m\u001b[0m\u001b[0m\n\u001b[1;32m----> 2\u001b[1;33m \u001b[0mml_classifier_and_experts\u001b[0m\u001b[1;33m=\u001b[0m\u001b[0mdepth\u001b[0m\u001b[1;33m(\u001b[0m\u001b[0mml_classifier_and_experts\u001b[0m\u001b[1;33m,\u001b[0m \u001b[1;34m'majority'\u001b[0m\u001b[1;33m)\u001b[0m\u001b[1;33m\u001b[0m\u001b[1;33m\u001b[0m\u001b[0m\n\u001b[0m",
      "\u001b[1;31mNameError\u001b[0m: name 'depth' is not defined"
     ]
    }
   ],
   "source": [
    "ml_classifier_and_experts['pr_rf_majority']=0.4\n",
    "ml_classifier_and_experts=depth(ml_classifier_and_experts, 'majority')"
   ]
  },
  {
   "cell_type": "markdown",
   "metadata": {},
   "source": [
    "## Stats - in depth"
   ]
  },
  {
   "cell_type": "code",
   "execution_count": 21,
   "metadata": {},
   "outputs": [
    {
     "name": "stdout",
     "output_type": "stream",
     "text": [
      "face\n",
      "    count unique   top freq\n",
      "sex                        \n",
      "1.0    39      2  True   25\n",
      "2.0    40      2  True   20\n",
      "sex\n",
      "1.0    25.0\n",
      "2.0    20.0\n",
      "Name: correct_face, dtype: float64\n",
      "face_full\n",
      "    count unique    top freq\n",
      "sex                         \n",
      "1.0    39      2   True   34\n",
      "2.0    40      2  False   21\n",
      "sex\n",
      "1.0    34.0\n",
      "2.0    19.0\n",
      "Name: correct_face_full, dtype: float64\n",
      "voice\n",
      "    count unique   top freq\n",
      "sex                        \n",
      "1.0    39      2  True   27\n",
      "2.0    40      2  True   32\n",
      "sex\n",
      "1.0    27.0\n",
      "2.0    32.0\n",
      "Name: correct_voice, dtype: float64\n",
      "full\n",
      "    count unique   top freq\n",
      "sex                        \n",
      "1.0    39      2  True   33\n",
      "2.0    40      2  True   25\n",
      "sex\n",
      "1.0    33.0\n",
      "2.0    25.0\n",
      "Name: correct_full, dtype: float64\n",
      "experts\n",
      "    count unique   top freq\n",
      "sex                        \n",
      "1.0    39      2  True   30\n",
      "2.0    40      2  True   27\n",
      "sex\n",
      "1.0    30.0\n",
      "2.0    27.0\n",
      "Name: correct_experts, dtype: float64\n",
      "gaze\n",
      "    count unique   top freq\n",
      "sex                        \n",
      "1.0    39      2  True   25\n",
      "2.0    40      2  True   20\n",
      "sex\n",
      "1.0    25.0\n",
      "2.0    20.0\n",
      "Name: correct_gaze, dtype: float64\n"
     ]
    }
   ],
   "source": [
    "def depth(df, var):\n",
    "    \n",
    "    df['prediction_'+var]=(df['pr_rf_'+ var]>0.5)*1\n",
    "    if var=='experts':\n",
    "        df['prediction_'+var]=(df['pr_rf_'+ var]>5)*1\n",
    "        \n",
    "    df['correct_'+var]=df['asc']==df['prediction_'+var]\n",
    "        \n",
    "    df['false_'+var]=(df['correct_'+var]==False)\n",
    "    df['false_positive_'+var]=(df['correct_'+var]==False)&(df['asc']==0)\n",
    "    df['false_negative_'+var]=(df['correct_'+var]==False)&(df['asc']==1)\n",
    "\n",
    "    df['true_negatives_'+var]=(df['correct_'+var]==True)&(df['asc']==0)\n",
    "    df['true_positives_'+var]=(df['correct_'+var]==True)&(df['asc']==1)\n",
    "    \n",
    "    print (var)\n",
    "    print (df.groupby('vpn').mean().groupby(['sex'])['correct_'+var].describe())\n",
    "    print (df.groupby('vpn').mean().groupby(['sex'])['correct_'+var].sum())\n",
    "    \n",
    "    return df\n",
    "\n",
    "ml_classifier_and_experts=depth(ml_classifier_and_experts, 'face')\n",
    "ml_classifier_and_experts=depth(ml_classifier_and_experts, 'face_full')\n",
    "ml_classifier_and_experts=depth(ml_classifier_and_experts, 'voice')\n",
    "ml_classifier_and_experts=depth(ml_classifier_and_experts, 'full')\n",
    "ml_classifier_and_experts=depth(ml_classifier_and_experts, 'experts')\n",
    "ml_classifier_and_experts=depth(ml_classifier_and_experts, 'gaze')\n"
   ]
  },
  {
   "cell_type": "markdown",
   "metadata": {},
   "source": [
    "### gender analysis"
   ]
  },
  {
   "cell_type": "code",
   "execution_count": 45,
   "metadata": {},
   "outputs": [
    {
     "name": "stdout",
     "output_type": "stream",
     "text": [
      "0.7215189873417721\n",
      "0.7341772151898734\n"
     ]
    }
   ],
   "source": [
    "print (57/79)\n",
    "#experts.head()\n",
    "#np.sum(ml_classifier_and_experts.correct_full)\n",
    "print (58/79)"
   ]
  },
  {
   "cell_type": "code",
   "execution_count": 8,
   "metadata": {},
   "outputs": [
    {
     "name": "stdout",
     "output_type": "stream",
     "text": [
      "3.8804101669403397\n",
      "0.04885262112580293\n",
      "1\n"
     ]
    }
   ],
   "source": [
    "#female vs. male (face)\n",
    "\n",
    "obs = np.array([[33, 6], [25, 15]])\n",
    "chi2, p, dof, ex = chi2_contingency(obs)\n",
    "print (chi2)\n",
    "print (p)\n",
    "print (dof)"
   ]
  },
  {
   "cell_type": "code",
   "execution_count": 9,
   "metadata": {},
   "outputs": [
    {
     "name": "stdout",
     "output_type": "stream",
     "text": [
      "12.341278585649956\n",
      "0.0004430514679187348\n",
      "1\n"
     ]
    }
   ],
   "source": [
    "#female vs. male (total)\n",
    "\n",
    "obs = np.array([[34, 5], [19, 21]])\n",
    "chi2, p, dof, ex = chi2_contingency(obs)\n",
    "print (chi2)\n",
    "print (p)\n",
    "print (dof)"
   ]
  },
  {
   "cell_type": "code",
   "execution_count": 10,
   "metadata": {},
   "outputs": [
    {
     "name": "stdout",
     "output_type": "stream",
     "text": [
      "1.0783642324451155\n",
      "0.2990637767320855\n",
      "1\n"
     ]
    }
   ],
   "source": [
    "#female vs. male (gaze)\n",
    "\n",
    "obs = np.array([[25, 14], [20, 20]])\n",
    "chi2, p, dof, ex = chi2_contingency(obs)\n",
    "print (chi2)\n",
    "print (p)\n",
    "print (dof)"
   ]
  },
  {
   "cell_type": "code",
   "execution_count": 11,
   "metadata": {},
   "outputs": [
    {
     "name": "stdout",
     "output_type": "stream",
     "text": [
      "0.7086417590178189\n",
      "0.3998950840470571\n",
      "1\n"
     ]
    }
   ],
   "source": [
    "#female vs. male (voice)\n",
    "\n",
    "obs = np.array([[27, 12], [32, 8]])\n",
    "chi2, p, dof, ex = chi2_contingency(obs)\n",
    "print (chi2)\n",
    "print (p)\n",
    "print (dof)"
   ]
  },
  {
   "cell_type": "code",
   "execution_count": 12,
   "metadata": {},
   "outputs": [],
   "source": [
    "import scipy\n",
    "def correlation(df1, df2):\n",
    "\n",
    "    _, p1 =scipy.stats.shapiro(df1)        \n",
    "    _, p2 =scipy.stats.shapiro(df2) \n",
    "\n",
    "    if ((p1<0.05)|(p2<0.05)):\n",
    "        print ('not normally distributed: p1=' + str(p1) + ' ' + 'p2=' + str(p2))\n",
    "        print (scipy.stats.spearmanr(df1, df2))\n",
    "    else:\n",
    "        print ('normally distributed: p1=' + str(p1) + ' ' + 'p2=' + str(p2))\n",
    "        print (scipy.stats.pearsonr(df1, df2))"
   ]
  },
  {
   "cell_type": "code",
   "execution_count": 13,
   "metadata": {},
   "outputs": [],
   "source": [
    "ml_classifier_and_experts.ados_total=ml_classifier_and_experts.ados_total.astype(float)\n",
    "ml_classifier_and_experts.pr_rf_full=ml_classifier_and_experts.pr_rf_full.astype(float)  "
   ]
  },
  {
   "cell_type": "code",
   "execution_count": 99,
   "metadata": {},
   "outputs": [
    {
     "data": {
      "image/png": "[encoded data removed]",
      "text/plain": [
       "<Figure size 360x360 with 1 Axes>"
      ]
     },
     "metadata": {},
     "output_type": "display_data"
    },
    {
     "name": "stdout",
     "output_type": "stream",
     "text": [
      "not normally distributed: p1=0.10782752931118011 p2=2.7381224457917464e-12\n",
      "SpearmanrResult(correlation=0.483165927340415, pvalue=6.478892675270686e-06)\n"
     ]
    }
   ],
   "source": [
    "def simple_plot(df, x, y):\n",
    "    sns.set_style(\"white\")\n",
    "    #experts_AQ=experts[experts.asq>0]\n",
    "    g=sns.lmplot(x=x, y=y, data=df, #fit_reg=False,\n",
    "               legend=False,  scatter_kws={\"s\": 100})\n",
    "    plt.yticks(fontsize=16)    \n",
    "    plt.xticks(fontsize=16)  \n",
    "    plt.xlabel('ADOS', fontsize=18) \n",
    "    plt.ylabel('Classifier Prediction', fontsize=18)\n",
    "    #plt.legend(title='ASC', loc = \"upper left\", fontsize=16)\n",
    "    #plt.xlim(0,10)\n",
    "    #plt.ylim(0,1)\n",
    "    plt.savefig('Ados' + '_.pdf', format='pdf', bbox_inches = \"tight\")\n",
    "    plt.savefig('Ados' + '_.png', format='png', bbox_inches = \"tight\")\n",
    "    plt.show()\n",
    "\n",
    "simple_plot(ml_classifier_and_experts.reset_index(drop=True)[ml_classifier_and_experts.ados_total>0],\n",
    "            \"ados_total\", \"pr_rf_full\")\n",
    "\n",
    "correlation(ml_classifier_and_experts['pr_rf_full'],  ml_classifier_and_experts.ados_total)"
   ]
  },
  {
   "cell_type": "code",
   "execution_count": 98,
   "metadata": {},
   "outputs": [
    {
     "name": "stderr",
     "output_type": "stream",
     "text": [
      "C:\\Users\\Hanna.Drimalla\\AppData\\Local\\Continuum\\anaconda3\\lib\\site-packages\\scipy\\stats\\stats.py:1713: FutureWarning: Using a non-tuple sequence for multidimensional indexing is deprecated; use `arr[tuple(seq)]` instead of `arr[seq]`. In the future this will be interpreted as an array index, `arr[np.array(seq)]`, which will result either in an error or a different result.\n",
      "  return np.add.reduce(sorted[indexer] * weights, axis=axis) / sumval\n"
     ]
    },
    {
     "data": {
      "image/png": "[encoded data removed]",
      "text/plain": [
       "<Figure size 439.85x360 with 1 Axes>"
      ]
     },
     "metadata": {},
     "output_type": "display_data"
    },
    {
     "name": "stdout",
     "output_type": "stream",
     "text": [
      "not normally distributed: p1=0.10782752931118011 p2=0.003274305025115609\n",
      "SpearmanrResult(correlation=0.3515731637400539, pvalue=0.0014874381760502436)\n"
     ]
    }
   ],
   "source": [
    "def simple_plot(df, x, y):\n",
    "    sns.set_style(\"white\")\n",
    "    #experts_AQ=experts[experts.asq>0]\n",
    "    g=sns.lmplot(x=x, y=y, data=df, #fit_reg=False,\n",
    "               hue='asc', legend=False,  scatter_kws={\"s\": 100},\n",
    "               markers=[\"o\", \"v\"] ).add_legend(bbox_to_anchor = (1.1, 0.8),  title='', fontsize=16)\n",
    "    new_labels = ['NT', 'ASC']\n",
    "    for t, l in zip(g._legend.texts, new_labels): t.set_text(l)\n",
    "        \n",
    "    plt.yticks(fontsize=16)    \n",
    "    plt.xticks(fontsize=16)  \n",
    "    plt.xlabel('Age', fontsize=18) \n",
    "    plt.ylabel('Classifier Prediction', fontsize=18)\n",
    "    #plt.legend(title='ASC', loc = \"upper left\", fontsize=16)\n",
    "    #plt.xlim(0,10)\n",
    "    #plt.ylim(0,1)\n",
    "\n",
    "    plt.savefig('AGE' + '_.pdf', format='pdf', bbox_inches = \"tight\")\n",
    "    plt.savefig('AGE' + '_.png', format='png', bbox_inches = \"tight\")\n",
    "    plt.show()\n",
    "\n",
    "simple_plot(ml_classifier_and_experts.reset_index(drop=True), \"age\", \"pr_rf_full\")\n",
    "\n",
    "correlation(ml_classifier_and_experts['pr_rf_full'],  ml_classifier_and_experts.age)"
   ]
  },
  {
   "cell_type": "markdown",
   "metadata": {},
   "source": [
    "sex = 2 --> 'male'"
   ]
  },
  {
   "cell_type": "markdown",
   "metadata": {},
   "source": [
    "### compare classifier"
   ]
  },
  {
   "cell_type": "code",
   "execution_count": 30,
   "metadata": {},
   "outputs": [],
   "source": [
    "\n",
    "# define contingency table\n",
    "\n",
    "classifier1=ml_classifier_and_experts.correct_full\n",
    "classifier2=ml_classifier_and_experts.correct_experts\n",
    "\n",
    "def compare_classifiers(classifier1, classifier2):\n",
    "    a=np.sum((classifier1==True) & (classifier2==True))\n",
    "    b=np.sum((classifier1==True) & (classifier2==False))\n",
    "    c=np.sum((classifier1==False) & (classifier2==True))\n",
    "    d=np.sum((classifier1==False) & (classifier2==False))\n",
    "\n",
    "    table = [[a, b], [c, d]]\n",
    "    # calculate mcnemar test\n",
    "    result = mcnemar(table, exact=True)\n",
    "    # summarize the finding\n",
    "    print('statistic=%.3f, p-value=%.3f' % (result.statistic, result.pvalue))\n",
    "    # interpret the p-value\n",
    "    alpha = 0.05\n",
    "    if result.pvalue > alpha:\n",
    "        print('Same proportions of errors (fail to reject H0)')\n",
    "    else:\n",
    "        print('Different proportions of errors (reject H0)')"
   ]
  },
  {
   "cell_type": "code",
   "execution_count": 34,
   "metadata": {},
   "outputs": [
    {
     "name": "stdout",
     "output_type": "stream",
     "text": [
      "statistic=14.000, p-value=1.000\n",
      "Same proportions of errors (fail to reject H0)\n",
      "statistic=9.000, p-value=0.014\n",
      "Different proportions of errors (reject H0)\n",
      "statistic=17.000, p-value=0.868\n",
      "Same proportions of errors (fail to reject H0)\n",
      "statistic=10.000, p-value=0.011\n",
      "Different proportions of errors (reject H0)\n",
      "statistic=12.000, p-value=0.121\n",
      "Same proportions of errors (fail to reject H0)\n"
     ]
    }
   ],
   "source": [
    "compare_classifiers(classifier1, classifier2)\n",
    "compare_classifiers(ml_classifier_and_experts.correct_full, ml_classifier_and_experts.correct_majority)\n",
    "compare_classifiers(ml_classifier_and_experts.correct_gaze, ml_classifier_and_experts.correct_majority)\n",
    "compare_classifiers(ml_classifier_and_experts.correct_voice, ml_classifier_and_experts.correct_majority)\n",
    "compare_classifiers(ml_classifier_and_experts.correct_face_full, ml_classifier_and_experts.correct_majority)"
   ]
  },
  {
   "cell_type": "code",
   "execution_count": 38,
   "metadata": {},
   "outputs": [
    {
     "ename": "AttributeError",
     "evalue": "'DataFrame' object has no attribute 'correct_face_full'",
     "output_type": "error",
     "traceback": [
      "\u001b[1;31m---------------------------------------------------------------------------\u001b[0m",
      "\u001b[1;31mAttributeError\u001b[0m                            Traceback (most recent call last)",
      "\u001b[1;32m<ipython-input-38-3129a9c8f9e0>\u001b[0m in \u001b[0;36m<module>\u001b[1;34m\u001b[0m\n\u001b[1;32m----> 1\u001b[1;33m \u001b[0mcompare_classifiers\u001b[0m\u001b[1;33m(\u001b[0m\u001b[0mml_classifier_and_experts\u001b[0m\u001b[1;33m.\u001b[0m\u001b[0mcorrect_face_full\u001b[0m\u001b[1;33m,\u001b[0m \u001b[0mml_classifier_and_experts\u001b[0m\u001b[1;33m.\u001b[0m\u001b[0mcorrect_gaze\u001b[0m\u001b[1;33m)\u001b[0m\u001b[1;33m\u001b[0m\u001b[1;33m\u001b[0m\u001b[0m\n\u001b[0m",
      "\u001b[1;32m~\\Anaconda2\\envs\\py3\\lib\\site-packages\\pandas\\core\\generic.py\u001b[0m in \u001b[0;36m__getattr__\u001b[1;34m(self, name)\u001b[0m\n\u001b[0;32m   4374\u001b[0m             \u001b[1;32mif\u001b[0m \u001b[0mself\u001b[0m\u001b[1;33m.\u001b[0m\u001b[0m_info_axis\u001b[0m\u001b[1;33m.\u001b[0m\u001b[0m_can_hold_identifiers_and_holds_name\u001b[0m\u001b[1;33m(\u001b[0m\u001b[0mname\u001b[0m\u001b[1;33m)\u001b[0m\u001b[1;33m:\u001b[0m\u001b[1;33m\u001b[0m\u001b[1;33m\u001b[0m\u001b[0m\n\u001b[0;32m   4375\u001b[0m                 \u001b[1;32mreturn\u001b[0m \u001b[0mself\u001b[0m\u001b[1;33m[\u001b[0m\u001b[0mname\u001b[0m\u001b[1;33m]\u001b[0m\u001b[1;33m\u001b[0m\u001b[1;33m\u001b[0m\u001b[0m\n\u001b[1;32m-> 4376\u001b[1;33m             \u001b[1;32mreturn\u001b[0m \u001b[0mobject\u001b[0m\u001b[1;33m.\u001b[0m\u001b[0m__getattribute__\u001b[0m\u001b[1;33m(\u001b[0m\u001b[0mself\u001b[0m\u001b[1;33m,\u001b[0m \u001b[0mname\u001b[0m\u001b[1;33m)\u001b[0m\u001b[1;33m\u001b[0m\u001b[1;33m\u001b[0m\u001b[0m\n\u001b[0m\u001b[0;32m   4377\u001b[0m \u001b[1;33m\u001b[0m\u001b[0m\n\u001b[0;32m   4378\u001b[0m     \u001b[1;32mdef\u001b[0m \u001b[0m__setattr__\u001b[0m\u001b[1;33m(\u001b[0m\u001b[0mself\u001b[0m\u001b[1;33m,\u001b[0m \u001b[0mname\u001b[0m\u001b[1;33m,\u001b[0m \u001b[0mvalue\u001b[0m\u001b[1;33m)\u001b[0m\u001b[1;33m:\u001b[0m\u001b[1;33m\u001b[0m\u001b[1;33m\u001b[0m\u001b[0m\n",
      "\u001b[1;31mAttributeError\u001b[0m: 'DataFrame' object has no attribute 'correct_face_full'"
     ]
    }
   ],
   "source": [
    "compare_classifiers(ml_classifier_and_experts.correct_face_full, ml_classifier_and_experts.correct_gaze)\n"
   ]
  },
  {
   "cell_type": "markdown",
   "metadata": {},
   "source": [
    "\n",
    "## Graphics"
   ]
  },
  {
   "cell_type": "code",
   "execution_count": 19,
   "metadata": {},
   "outputs": [
    {
     "ename": "AttributeError",
     "evalue": "'DataFrame' object has no attribute 'Value'",
     "output_type": "error",
     "traceback": [
      "\u001b[1;31m---------------------------------------------------------------------------\u001b[0m",
      "\u001b[1;31mAttributeError\u001b[0m                            Traceback (most recent call last)",
      "\u001b[1;32m<ipython-input-19-4fa55555c09d>\u001b[0m in \u001b[0;36m<module>\u001b[1;34m\u001b[0m\n\u001b[0;32m      1\u001b[0m \u001b[0mplt\u001b[0m\u001b[1;33m.\u001b[0m\u001b[0mstyle\u001b[0m\u001b[1;33m.\u001b[0m\u001b[0muse\u001b[0m\u001b[1;33m(\u001b[0m\u001b[1;34m'seaborn-white'\u001b[0m\u001b[1;33m)\u001b[0m\u001b[1;33m\u001b[0m\u001b[1;33m\u001b[0m\u001b[0m\n\u001b[0;32m      2\u001b[0m \u001b[1;33m\u001b[0m\u001b[0m\n\u001b[1;32m----> 3\u001b[1;33m plt.scatter(ml_classifier_and_experts.Value[ml_classifier_and_experts.asc==True], \n\u001b[0m\u001b[0;32m      4\u001b[0m             ml_classifier_and_experts.pr_rf_face[ml_classifier_and_experts.asc==True], color='red')\n\u001b[0;32m      5\u001b[0m \u001b[1;33m\u001b[0m\u001b[0m\n",
      "\u001b[1;32m~\\AppData\\Local\\Continuum\\anaconda3\\lib\\site-packages\\pandas\\core\\generic.py\u001b[0m in \u001b[0;36m__getattr__\u001b[1;34m(self, name)\u001b[0m\n\u001b[0;32m   4374\u001b[0m             \u001b[1;32mif\u001b[0m \u001b[0mself\u001b[0m\u001b[1;33m.\u001b[0m\u001b[0m_info_axis\u001b[0m\u001b[1;33m.\u001b[0m\u001b[0m_can_hold_identifiers_and_holds_name\u001b[0m\u001b[1;33m(\u001b[0m\u001b[0mname\u001b[0m\u001b[1;33m)\u001b[0m\u001b[1;33m:\u001b[0m\u001b[1;33m\u001b[0m\u001b[1;33m\u001b[0m\u001b[0m\n\u001b[0;32m   4375\u001b[0m                 \u001b[1;32mreturn\u001b[0m \u001b[0mself\u001b[0m\u001b[1;33m[\u001b[0m\u001b[0mname\u001b[0m\u001b[1;33m]\u001b[0m\u001b[1;33m\u001b[0m\u001b[1;33m\u001b[0m\u001b[0m\n\u001b[1;32m-> 4376\u001b[1;33m             \u001b[1;32mreturn\u001b[0m \u001b[0mobject\u001b[0m\u001b[1;33m.\u001b[0m\u001b[0m__getattribute__\u001b[0m\u001b[1;33m(\u001b[0m\u001b[0mself\u001b[0m\u001b[1;33m,\u001b[0m \u001b[0mname\u001b[0m\u001b[1;33m)\u001b[0m\u001b[1;33m\u001b[0m\u001b[1;33m\u001b[0m\u001b[0m\n\u001b[0m\u001b[0;32m   4377\u001b[0m \u001b[1;33m\u001b[0m\u001b[0m\n\u001b[0;32m   4378\u001b[0m     \u001b[1;32mdef\u001b[0m \u001b[0m__setattr__\u001b[0m\u001b[1;33m(\u001b[0m\u001b[0mself\u001b[0m\u001b[1;33m,\u001b[0m \u001b[0mname\u001b[0m\u001b[1;33m,\u001b[0m \u001b[0mvalue\u001b[0m\u001b[1;33m)\u001b[0m\u001b[1;33m:\u001b[0m\u001b[1;33m\u001b[0m\u001b[1;33m\u001b[0m\u001b[0m\n",
      "\u001b[1;31mAttributeError\u001b[0m: 'DataFrame' object has no attribute 'Value'"
     ]
    }
   ],
   "source": [
    "plt.style.use('seaborn-white')\n",
    "\n",
    "plt.scatter(ml_classifier_and_experts.Value[ml_classifier_and_experts.asc==True], \n",
    "            ml_classifier_and_experts.pr_rf_face[ml_classifier_and_experts.asc==True], color='red')\n",
    "\n",
    "plt.scatter(ml_classifier_and_experts.Value[ml_classifier_and_experts.asc==False], \n",
    "            ml_classifier_and_experts.pr_rf_face[ml_classifier_and_experts.asc==False], color='blue')\n",
    "\n",
    "plt.xlabel('Expert Rating')\n",
    "plt.ylabel('Face Classifier')\n",
    "plt.xlim(0,10)\n",
    "plt.ylim(0,1)\n",
    "plt.show()"
   ]
  },
  {
   "cell_type": "code",
   "execution_count": 97,
   "metadata": {},
   "outputs": [
    {
     "data": {
      "text/plain": [
       "<Figure size 2160x576 with 0 Axes>"
      ]
     },
     "metadata": {},
     "output_type": "display_data"
    },
    {
     "data": {
      "image/png": "[encoded data removed]",
      "text/plain": [
       "<Figure size 439.85x360 with 1 Axes>"
      ]
     },
     "metadata": {},
     "output_type": "display_data"
    }
   ],
   "source": [
    "def simple_plot(df, x, y):\n",
    "    \n",
    "    plt.figure(figsize=(30, 8))  \n",
    "    \n",
    "    #fz=22 #16\n",
    "    #lw=3 #1.5\n",
    "    sns.set_style(\"white\") \n",
    "    \n",
    "    \n",
    "    #experts_AQ=experts[experts.asq>0]\n",
    "    g=sns.lmplot(x=x, y=y, data=df, fit_reg=False,\n",
    "               hue='asc', legend=False,  scatter_kws={\"s\": 100},\n",
    "               markers=[\"o\", \"v\"] ).add_legend(bbox_to_anchor = (0.37, 0.92),  \n",
    "                                               frameon=True, title='', fontsize=16)\n",
    "    new_labels = ['NT', 'ASC']\n",
    "    for t, l in zip(g._legend.texts, new_labels): t.set_text(l)\n",
    "     \n",
    "    #plt.tight_layout()\n",
    "    plt.yticks(fontsize=16)    \n",
    "    plt.xticks(fontsize=16)  \n",
    "    plt.xlabel('Expert Value', fontsize=18) \n",
    "    plt.ylabel('ML Classifier Value', fontsize=18)\n",
    "    #plt.legend(title='ASC', loc = \"upper left\", fontsize=16)\n",
    "    plt.xlim(0,10)\n",
    "    plt.ylim(0,1)\n",
    "    \n",
    "    plt.savefig('Classifier_comparison' + '.pdf', format='pdf', bbox_inches = \"tight\")\n",
    "    plt.savefig('Classifier_comparison' + '.png', format='png', bbox_inches = \"tight\")\n",
    "   \n",
    "    plt.show()\n",
    "    plt.close()\n",
    "\n",
    "\n",
    "simple_plot(ml_classifier_and_experts.reset_index(drop=True), \"pr_rf_experts\", \"pr_rf_full\")"
   ]
  },
  {
   "cell_type": "code",
   "execution_count": 93,
   "metadata": {},
   "outputs": [],
   "source": [
    "def gender_plot(df, x, y):\n",
    "    plt.figure(figsize=(20, 8))  \n",
    "    \n",
    "    kws = dict(s=50, linewidth=.5, edgecolor=\"w\")\n",
    "    g = sns.FacetGrid(df, col=\"sex\", hue=\"asc\", palette=\"Set1\",\n",
    "                      hue_order=[0, 1],  hue_kws=dict(marker=[\"o\", \"v\"]))\n",
    "    g = (g.map(plt.scatter, x , y,  **kws).add_legend(bbox_to_anchor = (1.1, 0.8)))\n",
    "    g.set(xlabel='Expert Value', ylabel='Face Classifier Value')#, size=18)\n",
    "    #plt.legend(title='Smoker', loc='upper left', labels=['Hell Yeh', 'Nah Bruh'])\n",
    "    new_labels = ['NT', 'ASC']\n",
    "    for t, l in zip(g._legend.texts, new_labels): t.set_text(l)\n",
    "\n",
    "\n",
    "    axes = g.axes.flatten()\n",
    "    axes[0].set_title(\"Female Participants\")\n",
    "    axes[1].set_title(\"Male Participants\")\n",
    "\n",
    "    plt.xlim(0,10)\n",
    "    plt.ylim(0,1)\n",
    "    plt.savefig('gender' +'.pdf', format='pdf', bbox_inches = \"tight\")\n",
    "    plt.savefig('gender' +'.png', format='png', bbox_inches = \"tight\")\n",
    "    plt.tight_layout()\n",
    "    plt.show()   \n",
    "    plt.close()\n",
    "\n",
    "\n"
   ]
  },
  {
   "cell_type": "code",
   "execution_count": 94,
   "metadata": {},
   "outputs": [
    {
     "data": {
      "text/plain": [
       "<Figure size 1440x576 with 0 Axes>"
      ]
     },
     "metadata": {},
     "output_type": "display_data"
    },
    {
     "data": {
      "image/png": "[encoded data removed]",
      "text/plain": [
       "<Figure size 473.625x216 with 2 Axes>"
      ]
     },
     "metadata": {},
     "output_type": "display_data"
    }
   ],
   "source": [
    "#gender_plot(ml_classifier_and_experts, 'pr_rf_experts', 'pr_rf_face')\n",
    "#gender_plot(ml_classifier_and_experts, 'pr_rf_experts', 'pr_rf_gaze')\n",
    "#gender_plot(ml_classifier_and_experts, 'pr_rf_experts', 'pr_rf_voice')\n",
    "#gender_plot(ml_classifier_and_experts, 'pr_rf_experts', 'pr_rf_face_full')\n",
    "gender_plot(ml_classifier_and_experts, 'pr_rf_experts', 'pr_rf_full')"
   ]
  },
  {
   "cell_type": "code",
   "execution_count": null,
   "metadata": {},
   "outputs": [],
   "source": [
    "predictions = {'voice': ml_classifier_and_experts.pr_rf_voice, \n",
    "               'face': ml_classifier_and_experts.pr_rf_face_full, \n",
    "               'gaze': ml_classifier_and_experts.pr_rf_gaze, \n",
    "               'total': ml_classifier_and_experts.pr_rf_full, \n",
    "               'experts': ml_classifier_and_experts.pr_rf_experts} \n",
    "from sklearn.metrics import roc_curve, auc\n",
    "\n",
    "def all_roc_graph(y_true, predictions, name): \n",
    "   \n",
    "    plt.figure(figsize=(12, 8))  \n",
    "    pred=0\n",
    "    fz=22 #16\n",
    "    lw=3 #1.5\n",
    "    sns.set_style(\"white\") \n",
    "    \n",
    "    colors=[ (0, 128, 128),  (0, 0, 128), (200, 128, 0), (128, 0, 0), (31, 119, 180), (255, 127, 14)]\n",
    "    linestyle = ['-', '-.', '--', ':', '-.', '-', '--', ':']\n",
    "    markers = [' ', ' ', ' ', ' ', 'o', 'x']\n",
    "    \n",
    "    plt.plot([-0.01, 1.01], [-0.01, 1.01], color=(0 / 255., 0 / 255., 0 / 255.), \n",
    "             linestyle='-',lw=0.5)\n",
    "    \n",
    "    for i in range(len(colors)): \n",
    "        r, g, b = colors[i]\n",
    "        colors[i] = (r / 255., g / 255., b / 255.) \n",
    "        \n",
    "    for key in predictions:\n",
    "        \n",
    "        fpr_nn, tpr_nn, thresholds_nn = roc_curve(y_true, predictions[key], drop_intermediate=False)\n",
    "        roc_auc_nn = auc(fpr_nn, tpr_nn)\n",
    "\n",
    "        plt.plot(fpr_nn, tpr_nn, label=key + ': AUC = %0.2f' % (roc_auc_nn),\n",
    "                 lw=lw,\n",
    "                 linestyle=linestyle[pred],\n",
    "                 color=colors[pred],\n",
    "                 marker=markers[pred]\n",
    "                )    \n",
    "        pred=pred+1      \n",
    "        \n",
    "   \n",
    "    plt.xlim([-0.01, 1.01])\n",
    "    plt.ylim([-0.01, 1.01])\n",
    "    plt.yticks(fontsize=fz)    \n",
    "    plt.xticks(fontsize=fz)  \n",
    "    plt.xlabel('False Positive Rate', fontsize=fz)\n",
    "    plt.ylabel('True Positive Rate', fontsize=fz)\n",
    "    plt.title('Receiver Operating Characteristic', fontsize=fz)\n",
    "    plt.legend(loc='lower right', fontsize=fz-2)   \n",
    "    plt.savefig('ROC_' + name +'.png', format='png')\n",
    "    plt.savefig('ROC_' + name +'.pdf', format='pdf')\n",
    "    plt.show()   \n",
    "    plt.close()\n",
    "    \n",
    "all_roc_graph(ml_classifier_and_experts.asc, predictions, 'ROC')\n"
   ]
  },
  {
   "cell_type": "code",
   "execution_count": 8,
   "metadata": {},
   "outputs": [
    {
     "data": {
      "image/png": "[encoded data removed]",
      "text/plain": [
       "<Figure size 864x576 with 1 Axes>"
      ]
     },
     "metadata": {},
     "output_type": "display_data"
    }
   ],
   "source": [
    "predictions = {'Stimme': ml_classifier_and_experts.pr_rf_voice, \n",
    "               'Gesicht': ml_classifier_and_experts.pr_rf_face_full, \n",
    "               'Blick': ml_classifier_and_experts.pr_rf_gaze, \n",
    "               'Gesamt': ml_classifier_and_experts.pr_rf_full, \n",
    "               'Experten': ml_classifier_and_experts.pr_rf_experts} \n",
    "from sklearn.metrics import roc_curve, auc\n",
    "\n",
    "def all_roc_graph(y_true, predictions, name): \n",
    "   \n",
    "    plt.figure(figsize=(12, 8))  \n",
    "    pred=0\n",
    "    fz=22 #16\n",
    "    lw=3 #1.5\n",
    "    sns.set_style(\"white\") \n",
    "    \n",
    "    colors=[ (0, 128, 128),  (0, 0, 128), (200, 128, 0), (128, 0, 0), (31, 119, 180), (255, 127, 14)]\n",
    "    linestyle = ['-', '-.', '--', ':', '-.', '-', '--', ':']\n",
    "    markers = [' ', ' ', ' ', ' ', 'o', 'x']\n",
    "    \n",
    "    plt.plot([-0.01, 1.01], [-0.01, 1.01], color=(0 / 255., 0 / 255., 0 / 255.), \n",
    "             linestyle='-',lw=0.5)\n",
    "    \n",
    "    for i in range(len(colors)): \n",
    "        r, g, b = colors[i]\n",
    "        colors[i] = (r / 255., g / 255., b / 255.) \n",
    "        \n",
    "    for key in predictions:\n",
    "        \n",
    "        fpr_nn, tpr_nn, thresholds_nn = roc_curve(y_true, predictions[key], drop_intermediate=False)\n",
    "        roc_auc_nn = auc(fpr_nn, tpr_nn)\n",
    "\n",
    "        plt.plot(fpr_nn, tpr_nn, label=key + ': AUC = %0.2f' % (roc_auc_nn),\n",
    "                 lw=lw,\n",
    "                 linestyle=linestyle[pred],\n",
    "                 color=colors[pred],\n",
    "                 marker=markers[pred]\n",
    "                )    \n",
    "        pred=pred+1      \n",
    "        \n",
    "   \n",
    "    plt.xlim([-0.01, 1.01])\n",
    "    plt.ylim([-0.01, 1.01])\n",
    "    plt.yticks(fontsize=fz)    \n",
    "    plt.xticks(fontsize=fz)  \n",
    "    plt.xlabel('Falsch-Positiv-Rate', fontsize=fz)\n",
    "    plt.ylabel('Richtig-Positiv-Rate', fontsize=fz)\n",
    "    plt.title('Receiver Operating Characteristic', fontsize=fz)\n",
    "    plt.legend(loc='lower right', fontsize=fz-2)   \n",
    "    plt.savefig('ROC_' + name +'.png', format='png')\n",
    "    plt.savefig('ROC_' + name +'.pdf', format='pdf')\n",
    "    plt.show()   \n",
    "    plt.close()\n",
    "    \n",
    "all_roc_graph(ml_classifier_and_experts.asc, predictions, 'ROC')\n"
   ]
  },
  {
   "cell_type": "code",
   "execution_count": null,
   "metadata": {},
   "outputs": [],
   "source": [
    "def three_d_plt(df, x, y, z):\n",
    "    #sns.set_style(\"whitegrid\", {'axes.grid' : False})\n",
    "\n",
    "    #plt.style.use('seaborn-whitegrid') \n",
    "    fig = plt.figure(figsize=(8,6))\n",
    "\n",
    "    ax = plt.axes(projection='3d')\n",
    "    #ax.grid(False)\n",
    "    ax.xaxis.pane.set_edgecolor('black')\n",
    "    ax.yaxis.pane.set_edgecolor('black')\n",
    "    ax.xaxis.pane.fill = False\n",
    "    ax.yaxis.pane.fill = False\n",
    "    ax.zaxis.pane.fill = False\n",
    "\n",
    "    ax.scatter(df['Value'],\n",
    "               df['pr_rf_face'], \n",
    "               df['pr_rf_gaze'], \n",
    "               alpha=0.8, s=30,\n",
    "               c=gaze_face_experts['asc'], \n",
    "               cmap='viridis', linewidth=0.5,\n",
    "               )\n",
    "    ax.set_xlabel('Expert Raters')\n",
    "    ax.set_ylabel('Face Classifier')\n",
    "    ax.set_zlabel('Voice Classifier')\n",
    "    ax.set_xlim(0,10)\n",
    "    ax.set_ylim(0,1)\n",
    "    ax.set_zlim(0,1)\n",
    "    ax.legend(labels=('NT', 'ASC'))\n",
    "    plt.show()\n",
    "    "
   ]
  },
  {
   "cell_type": "code",
   "execution_count": null,
   "metadata": {},
   "outputs": [],
   "source": [
    "three_d_plt(ml_classifier_and_experts, 'Value', 'pr_rf_face_full', 'pr_rf_voice')"
   ]
  },
  {
   "cell_type": "markdown",
   "metadata": {},
   "source": [
    "x-Achse: face\n",
    "y-Achse: voice\n",
    "z-Achse: rater\n",
    "color: tatsächliche Diagnose\n",
    "sign: gender"
   ]
  },
  {
   "cell_type": "code",
   "execution_count": null,
   "metadata": {},
   "outputs": [],
   "source": [
    "import scipy \n",
    "a=(ml_classifier_and_experts.pr_rf_voice>0.5)*1==gaze_face_experts.asc\n",
    "b=(ml_classifier_and_experts.Value>0.5)*1==gaze_face_experts.asc\n",
    "\n",
    "scipy.stats.wilcoxon(gaze_face_experts.pr_rf_voice, gaze_face_experts.Value)\n"
   ]
  },
  {
   "cell_type": "code",
   "execution_count": null,
   "metadata": {},
   "outputs": [],
   "source": []
  },
  {
   "cell_type": "code",
   "execution_count": null,
   "metadata": {},
   "outputs": [],
   "source": [
    "# AQ\n",
    "path='./results/AQ_LogRec_Results.csv'\n",
    "AQ=pd.read_csv(path, header=None, sep=';', na_values=['?'])\n",
    "AQ_pred=AQ.iloc[0,:].astype('str').str.split('  ', expand=True).iloc[:,1].str[0:-1].astype(float)\n",
    "y_true_AQ=AQ.iloc[1,:].astype(float)\n",
    "print (AQ_pred)"
   ]
  },
  {
   "cell_type": "code",
   "execution_count": null,
   "metadata": {},
   "outputs": [],
   "source": [
    "print len(y_true_AQ[y_true_AQ==1])\n",
    "print np.sum(y_true_AQ[y_true_AQ==1]==(AQ_pred[y_true_AQ==1]>0.6))\n",
    "print len(y_true_AQ[y_true_AQ==0])\n",
    "print np.sum(y_true_AQ[y_true_AQ==0]==(AQ_pred[y_true_AQ==0]>0.6))"
   ]
  },
  {
   "cell_type": "code",
   "execution_count": null,
   "metadata": {},
   "outputs": [],
   "source": [
    "#Total\n",
    "path='./results/SIandAQRF_SVM_Results.csv'\n",
    "pr_rf_combinded, pr_svm_combinded, _, y_true_combinded=load_results(path)"
   ]
  },
  {
   "cell_type": "code",
   "execution_count": 38,
   "metadata": {
    "collapsed": true
   },
   "outputs": [],
   "source": [
    "#Total\n",
    "path='./results/totalRF_SVM_Results.csv'\n",
    "pr_rf_total, pr_svm_total, _, y_true_total=load_results(path)\n",
    "\n",
    "#Face\n",
    "path='./results/smallRF_SVM_Results.csv'\n",
    "pr_rf_face, pr_svm_face, _, y_true_face=load_results(path)\n",
    "\n",
    "#Audio\n",
    "path='./results/audio_RF_SVM_Results.csv'\n",
    "pr_rf_audio, pr_svm_audio, _, y_true_audio=load_results(path)\n",
    "\n",
    "#Occurcence AU\n",
    "path='./results/occRF_SVM_Results.csv'\n",
    "pr_rf_occ, pr_svm_occ,_, y_true_occ=load_results(path)\n",
    "\n",
    "#Intensity AU\n",
    "path='./results/intRF_SVM_Results.csv'\n",
    "pr_rf_int, pr_svm_int,_, y_true_int=load_results(path)\n",
    "\n",
    "#Gaze AU\n",
    "path='./results/gazeRF_SVM_Results.csv'\n",
    "pr_rf_gaze, pr_svm_gaze,_, y_true_gaze=load_results(path)\n",
    "\n",
    "#CNNs\n",
    "\n",
    "path='./results/totalcnn_stacked_results.csv'\n",
    "_, _, pr_stackedCNN, y_true_CNN_stacked = load_results(path, 'nn')\n",
    "\n",
    "path='./results/totalsimple_cnnresults.csv'\n",
    "_, _, pr_simpleCNN, y_true_CNN_simple = load_results(path, 'nn')\n",
    "\n",
    "path='./results/totalresults_hyper_sep.csv'\n",
    "_, _, pr_pooledCNN, y_true_CNN_pooled = load_results(path, 'nn')\n"
   ]
  },
  {
   "cell_type": "code",
   "execution_count": 39,
   "metadata": {},
   "outputs": [
    {
     "name": "stdout",
     "output_type": "stream",
     "text": [
      "0.7435897435897436\n"
     ]
    }
   ],
   "source": [
    "def check_precision(pred, y_true):\n",
    "    precision = np.sum(((pred>0.5)*1)==y_true)/(len(y_true))\n",
    "    print precision\n",
    "\n",
    "check_precision(pr_svm_audio, y_true_audio)"
   ]
  },
  {
   "cell_type": "markdown",
   "metadata": {},
   "source": [
    "# Graphics"
   ]
  },
  {
   "cell_type": "code",
   "execution_count": 62,
   "metadata": {
    "collapsed": true
   },
   "outputs": [],
   "source": [
    "fz=22 #16\n",
    "lw=3 #1.5"
   ]
  },
  {
   "cell_type": "code",
   "execution_count": 65,
   "metadata": {
    "collapsed": true
   },
   "outputs": [],
   "source": [
    "def all_roc_graph(y_true, predictions, name='ROC_RF_SVM', aq='off', y_true_AQ=[], AQ_pred=[]): #, probs_hyper, probs_hyper_pool):\n",
    "    \n",
    "    plt.figure(figsize=(12, 8))  \n",
    "    pred=0\n",
    "    \n",
    "    sns.set_style(\"white\")\n",
    " \n",
    "    #colors = [(31, 119, 180), (255, 127, 14),  (44, 160, 44),  (148, 103, 189), (140, 86, 75), \n",
    "    #             (227, 119, 194), (127, 127, 127),  (188, 189, 34), (23, 190, 207)] \n",
    "    #colors=[(31, 119, 180), (255, 127, 14),  (44, 160, 44),  (148, 103, 189)]\n",
    "    \n",
    "    colors=[ (0, 128, 128),  (0, 0, 128), (200, 128, 0), (128, 0, 0), (31, 119, 180), (255, 127, 14)]\n",
    "    linestyle = ['-', '-.', '--', ':', '-.', '-', '--', ':']\n",
    "    markers = [' ', ' ', ' ', ' ', 'o', 'x']\n",
    "    \n",
    "    plt.plot([-0.01, 1.01], [-0.01, 1.01], color=(0 / 255., 0 / 255., 0 / 255.), \n",
    "             linestyle='-',lw=0.5)\n",
    "    \n",
    "    # Scale the RGB values to the [0, 1] range, which is the format matplotlib accepts.    \n",
    "    for i in range(len(colors)): \n",
    "        r, g, b = colors[i]\n",
    "        colors[i] = (r / 255., g / 255., b / 255.)    \n",
    "\n",
    "    for key in predictions:\n",
    "        fpr_nn, tpr_nn, thresholds_nn = roc_curve(y_true[key], predictions[key], drop_intermediate=False)\n",
    "        roc_auc_nn = auc(fpr_nn, tpr_nn)\n",
    "        plt.plot(fpr_nn, tpr_nn, label=key + ': AUC = %0.2f' % (roc_auc_nn), \n",
    "                 lw=lw,\n",
    "                 linestyle=linestyle[pred],\n",
    "                 color=colors[pred],\n",
    "                 marker=markers[pred]\n",
    "                )    \n",
    "        pred=pred+1\n",
    "        \n",
    "        \n",
    "        \n",
    "    if aq=='on':\n",
    "        fpr_nn, tpr_nn, thresholds_nn = roc_curve(y_true_AQ, AQ_pred, drop_intermediate=False)\n",
    "        roc_auc_nn = auc(fpr_nn, tpr_nn)\n",
    "        print pred\n",
    "        plt.plot(fpr_nn, tpr_nn, label='AQ Questionnaire: AUC = %0.2f' % (roc_auc_nn),\n",
    "                 lw=lw, linestyle=linestyle[pred], color=colors[pred])\n",
    "        pred=pred+1\n",
    "\n",
    "            \n",
    "   \n",
    "    plt.xlim([-0.01, 1.01])\n",
    "    plt.ylim([-0.01, 1.01])\n",
    "    plt.yticks(fontsize=fz)    \n",
    "    plt.xticks(fontsize=fz)  \n",
    "    plt.xlabel('False Positive Rate', fontsize=fz)\n",
    "    plt.ylabel('True Positive Rate', fontsize=fz)\n",
    "    plt.title('Receiver Operating Characteristic', fontsize=fz)\n",
    "    plt.legend(loc='lower right', fontsize=fz-2)   \n",
    "    plt.savefig('ROC_' + name +'.pdf', format='pdf')\n",
    "    plt.show()   \n",
    "    plt.close()\n"
   ]
  },
  {
   "cell_type": "markdown",
   "metadata": {},
   "source": [
    "## Fig.1: Comparison of all Learned Models (for the total DF)"
   ]
  },
  {
   "cell_type": "code",
   "execution_count": 66,
   "metadata": {
    "collapsed": true
   },
   "outputs": [],
   "source": [
    "predictions = {\"Random Forest\": pr_rf_total,\n",
    "               \"Support Vector Machine\": pr_svm_total, \n",
    "               #\"LSTM\": probs_lstm,\n",
    "              # \"Simple CNN\" : pr_simpleCNN, \n",
    "               \"Stacked CNN\": pr_stackedCNN, \n",
    "               \"Pooled CNN\": pr_pooledCNN}\n",
    "\n",
    "y_true = {\"Random Forest\": y_true_total,\n",
    "          \"Support Vector Machine\": y_true_total, \n",
    "          #\"Simple CNN\" : y_true_CNN_simple, \n",
    "          \"Stacked CNN\": y_true_CNN_stacked,\n",
    "          \"Pooled CNN\": y_true_CNN_pooled} #beim pooled kommen irgendwie andere Werte als beim Original raus...\n",
    "\n",
    "all_roc_graph(y_true, predictions, 'AllClassifiers')"
   ]
  },
  {
   "cell_type": "markdown",
   "metadata": {},
   "source": [
    "## Fig. 2: Comparison of Different Features (for the best Classifier RF)"
   ]
  },
  {
   "cell_type": "code",
   "execution_count": 67,
   "metadata": {
    "collapsed": true
   },
   "outputs": [],
   "source": [
    "plt.close()\n",
    "\n",
    "predictions = {\"Combined\": pr_rf_total,\n",
    "               \"Video\": pr_rf_face,\n",
    "               \"Audio\": pr_rf_audio, \n",
    "               \"AU Occurence\": pr_rf_occ,\n",
    "               \"AU Intensity\": pr_rf_int,\n",
    "               \"Gaze\": pr_rf_gaze}\n",
    "\n",
    "y_total= {\"Combined\": y_true_total, \n",
    "          \"Video\": y_true_face, \n",
    "          \"Audio\": y_true_audio, \n",
    "          \"AU Occurence\": y_true_occ,\n",
    "          \"AU Intensity\": y_true_int,\n",
    "          \"Gaze\": y_true_gaze}\n",
    "\n",
    "all_roc_graph(y_total, predictions, 'Feature_Comparison_RF')"
   ]
  },
  {
   "cell_type": "code",
   "execution_count": 79,
   "metadata": {
    "collapsed": true
   },
   "outputs": [],
   "source": [
    "plt.close()\n",
    "\n",
    "predictions = {\"Combined\": pr_rf_total,\n",
    "               \"Video\": pr_rf_face,\n",
    "               \"Audio\": pr_rf_audio, \n",
    "               #\"AU Occurence\": pr_rf_occ,\n",
    "               #\"AU Intensity\": pr_rf_int,\n",
    "               \"Gaze\": pr_rf_gaze}\n",
    "\n",
    "y_total= {\"Combined\": y_true_total, \n",
    "          \"Video\": y_true_face, \n",
    "          \"Audio\": y_true_audio, \n",
    "         # \"AU Occurence\": y_true_occ,\n",
    "         # \"AU Intensity\": y_true_int,\n",
    "          \"Gaze\": y_true_gaze}\n",
    "\n",
    "all_roc_graph(y_total, predictions, 'Feature_Comparison_RF')"
   ]
  },
  {
   "cell_type": "markdown",
   "metadata": {},
   "source": [
    "## Fig. 4: Regression - Scatter Plot"
   ]
  },
  {
   "cell_type": "code",
   "execution_count": 77,
   "metadata": {
    "collapsed": true
   },
   "outputs": [],
   "source": [
    "def regression_plot(predicition, true, name):\n",
    "    plt.close()\n",
    "    plt.figure(figsize=(12,8))\n",
    "    ax=sns.regplot(predicition, true, ci=None, scatter_kws={'s':100})#, label='small')\n",
    "      \n",
    "    plt.yticks(fontsize=fz)    \n",
    "    plt.xticks(fontsize=fz)  \n",
    "    plt.xlabel('True Values', fontsize=fz)\n",
    "    plt.ylabel('Predicted Values ', fontsize=fz)\n",
    "    plt.title(name, fontsize=fz)\n",
    "    \n",
    "    ax.set(xlabel='Predicted Value', ylabel='True Value')\n",
    "    \n",
    "    plt.savefig('Regression.pdf', format='pdf')\n",
    "    plt.savefig('Regression.eps', format='eps')\n",
    "    plt.show()  \n",
    "    #plt.close()\n",
    "    \n",
    "    print stats.pearsonr(predicition, true) #nv getestet"
   ]
  },
  {
   "cell_type": "code",
   "execution_count": 78,
   "metadata": {},
   "outputs": [
    {
     "name": "stdout",
     "output_type": "stream",
     "text": [
      "(0.393025514977708, 0.07037895291238871)\n"
     ]
    }
   ],
   "source": [
    "#load and plot regressio data (predicition vs. true value)\n",
    "\n",
    "path='./results/workingregressionADIsocial.csv'\n",
    "\n",
    "adir_rf, adir_svm, _, adir_true=load_results(path, 'regression')\n",
    "\n",
    "regression_plot(adir_rf, adir_true, 'ADI-R Social Subscale')"
   ]
  },
  {
   "cell_type": "markdown",
   "metadata": {},
   "source": [
    "# Statistical Testing"
   ]
  },
  {
   "cell_type": "code",
   "execution_count": 24,
   "metadata": {
    "collapsed": true
   },
   "outputs": [],
   "source": [
    "def evaluate(y_true, predictions):\n",
    "    i=0\n",
    "    stat_key=[]\n",
    "    stat_M=[]\n",
    "    stat_Mp=[]\n",
    "    stat_R=[]\n",
    "    stat_Rp=[]\n",
    "\n",
    "    for key in predictions:        \n",
    "        pred=predictions[key]>0.5\n",
    "        correcte_pred=np.array((y_true[key]==pred)*1) # Prüft, ob korrekte Vorhersage durch Classifier\n",
    "        correcte_mayority_pred=np.array((np.ones(len(y_true[key]))==y_true[key])*1) #Baseline: Mehrheitsklasse zum vergleichen\n",
    "        \n",
    "        print key\n",
    "        print sign_test((correcte_pred-correcte_mayority_pred), mu0=0) #returns M = (N(+) - N(-))/2 and p\n",
    "        print stats.pointbiserialr(y_true[key], pred)\n",
    "        for second in predictions:\n",
    "                second_pred=predictions[second]>0.5\n",
    "                correcte_second_pred=np.array((y_true[second]==second_pred)*1)\n",
    "                try:\n",
    "                    print str(second) + \" vs. \" + str(key)\n",
    "                    print sign_test((correcte_pred-correcte_second_pred), mu0=0)\n",
    "                except:\n",
    "                    print 'comparison not possible'\n"
   ]
  },
  {
   "cell_type": "code",
   "execution_count": 25,
   "metadata": {},
   "outputs": [
    {
     "name": "stdout",
     "output_type": "stream",
     "text": [
      "AU Intensity\n",
      "(9.5, 0.012660335802414201)\n",
      "PointbiserialrResult(correlation=0.3757237916122186, pvalue=0.0005472005761318717)\n",
      "AU Intensity vs. AU Intensity\n",
      "(0.0, 1.0)\n",
      "Audio vs. AU Intensity\n",
      "comparison not possible\n",
      "Gaze vs. AU Intensity\n",
      "(7.0, 0.028816719655878835)\n",
      "Video vs. AU Intensity\n",
      "(-0.5, 0.9999999999999994)\n",
      "AU Occurence vs. AU Intensity\n",
      "(4.5, 0.06356811523437494)\n",
      "Total vs. AU Intensity\n",
      "comparison not possible\n",
      "Audio\n",
      "(11.0, 0.0016414913408482337)\n",
      "PointbiserialrResult(correlation=0.4826170890658404, pvalue=7.650873953676914e-06)\n",
      "AU Intensity vs. Audio\n",
      "comparison not possible\n",
      "Audio vs. Audio\n",
      "(0.0, 1.0)\n",
      "Gaze vs. Audio\n",
      "comparison not possible\n",
      "Video vs. Audio\n",
      "comparison not possible\n",
      "AU Occurence vs. Audio\n",
      "comparison not possible\n",
      "Total vs. Audio\n",
      "comparison not possible\n",
      "Gaze\n",
      "(2.5, 0.5900533317766368)\n",
      "PointbiserialrResult(correlation=0.006553975008278078, pvalue=0.9536932053939093)\n",
      "AU Intensity vs. Gaze\n",
      "(-7.0, 0.028816719655878835)\n",
      "Audio vs. Gaze\n",
      "comparison not possible\n",
      "Gaze vs. Gaze\n",
      "(0.0, 1.0)\n",
      "Video vs. Gaze\n",
      "(-7.5, 0.020073851919732995)\n",
      "AU Occurence vs. Gaze\n",
      "(-2.5, 0.49955983320251085)\n",
      "Total vs. Gaze\n",
      "comparison not possible\n",
      "Video\n",
      "(10.0, 0.007787436305743515)\n",
      "PointbiserialrResult(correlation=0.4008037467417989, pvalue=0.0002089909791746621)\n",
      "AU Intensity vs. Video\n",
      "(0.5, 0.9999999999999994)\n",
      "Audio vs. Video\n",
      "comparison not possible\n",
      "Gaze vs. Video\n",
      "(7.5, 0.020073851919732995)\n",
      "Video vs. Video\n",
      "(0.0, 1.0)\n",
      "AU Occurence vs. Video\n",
      "(5.0, 0.13249816396273675)\n",
      "Total vs. Video\n",
      "comparison not possible\n",
      "AU Occurence\n",
      "(5.0, 0.21160856876151615)\n",
      "PointbiserialrResult(correlation=0.14232362344493815, pvalue=0.20498837510226353)\n",
      "AU Intensity vs. AU Occurence\n",
      "(-4.5, 0.06356811523437494)\n",
      "Audio vs. AU Occurence\n",
      "comparison not possible\n",
      "Gaze vs. AU Occurence\n",
      "(2.5, 0.49955983320251085)\n",
      "Video vs. AU Occurence\n",
      "(-5.0, 0.13249816396273675)\n",
      "AU Occurence vs. AU Occurence\n",
      "(0.0, 1.0)\n",
      "Total vs. AU Occurence\n",
      "comparison not possible\n",
      "Total\n",
      "(11.5, 0.001088538206474253)\n",
      "PointbiserialrResult(correlation=0.5323637614801341, pvalue=6.25330726658431e-07)\n",
      "AU Intensity vs. Total\n",
      "comparison not possible\n",
      "Audio vs. Total\n",
      "comparison not possible\n",
      "Gaze vs. Total\n",
      "comparison not possible\n",
      "Video vs. Total\n",
      "comparison not possible\n",
      "AU Occurence vs. Total\n",
      "comparison not possible\n",
      "Total vs. Total\n",
      "(0.0, 1.0)\n"
     ]
    }
   ],
   "source": [
    "\n",
    "predictions = {\"Total\": pr_rf_total,\n",
    "               \"Video\": pr_rf_face,\n",
    "               \"Audio\": pr_rf_audio, \n",
    "               \"AU Occurence\": pr_rf_occ,\n",
    "               \"AU Intensity\": pr_rf_int,\n",
    "               \"Gaze\": pr_rf_gaze}\n",
    "\n",
    "y_total= {\"Total\": y_true_total, \n",
    "          \"Video\": y_true_face, \n",
    "          \"Audio\": y_true_audio, \n",
    "          \"AU Occurence\": y_true_occ,\n",
    "          \"AU Intensity\": y_true_int,\n",
    "          \"Gaze\": y_true_gaze}\n",
    "\n",
    "evaluate(y_total, predictions)\n"
   ]
  },
  {
   "cell_type": "code",
   "execution_count": 26,
   "metadata": {},
   "outputs": [
    {
     "name": "stdout",
     "output_type": "stream",
     "text": [
      "Support Vector Machine\n",
      "(9.5, 0.006608822842281368)\n",
      "PointbiserialrResult(correlation=0.42458654189312234, pvalue=0.00011881208261328908)\n",
      "Support Vector Machine vs. Support Vector Machine\n",
      "(0.0, 1.0)\n",
      "Pooled CNN vs. Support Vector Machine\n",
      "comparison not possible\n",
      "Simple CNN vs. Support Vector Machine\n",
      "comparison not possible\n",
      "AQ vs. Support Vector Machine\n",
      "(-9.5, 6.604194641113283e-05)\n",
      "Stacked CNN vs. Support Vector Machine\n",
      "comparison not possible\n",
      "Random Forest vs. Support Vector Machine\n",
      "(-2.0, 0.3876953125000001)\n",
      "Pooled CNN\n",
      "(5.0, 0.17417114727072655)\n",
      "PointbiserialrResult(correlation=0.2050691248325695, pvalue=0.07555827683053104)\n",
      "Support Vector Machine vs. Pooled CNN\n",
      "comparison not possible\n",
      "Pooled CNN vs. Pooled CNN\n",
      "(0.0, 1.0)\n",
      "Simple CNN vs. Pooled CNN\n",
      "(3.5, 0.3488888794490776)\n",
      "AQ vs. Pooled CNN\n",
      "comparison not possible\n",
      "Stacked CNN vs. Pooled CNN\n",
      "(5.0, 0.16414940178310666)\n",
      "Random Forest vs. Pooled CNN\n",
      "comparison not possible\n",
      "Simple CNN\n",
      "(1.5, 0.7659918242447937)\n",
      "PointbiserialrResult(correlation=0.016933350266692036, pvalue=0.8845645427687945)\n",
      "Support Vector Machine vs. Simple CNN\n",
      "comparison not possible\n",
      "Pooled CNN vs. Simple CNN\n",
      "(-3.5, 0.3488888794490776)\n",
      "Simple CNN vs. Simple CNN\n",
      "(0.0, 1.0)\n",
      "AQ vs. Simple CNN\n",
      "comparison not possible\n",
      "Stacked CNN vs. Simple CNN\n",
      "(1.5, 0.7358788008568806)\n",
      "Random Forest vs. Simple CNN\n",
      "comparison not possible\n",
      "AQ\n",
      "(19.5, 3.8198777474463005e-11)\n",
      "PointbiserialrResult(correlation=0.9219299500947247, pvalue=1.275261151172499e-32)\n",
      "Support Vector Machine vs. AQ\n",
      "(9.5, 6.604194641113283e-05)\n",
      "Pooled CNN vs. AQ\n",
      "comparison not possible\n",
      "Simple CNN vs. AQ\n",
      "comparison not possible\n",
      "AQ vs. AQ\n",
      "(0.0, 1.0)\n",
      "Stacked CNN vs. AQ\n",
      "comparison not possible\n",
      "Random Forest vs. AQ\n",
      "(7.5, 0.000274658203125)\n",
      "Stacked CNN\n",
      "(0.0, 1.0)\n",
      "PointbiserialrResult(correlation=-0.07757911135427192, pvalue=0.5053374793959553)\n",
      "Support Vector Machine vs. Stacked CNN\n",
      "comparison not possible\n",
      "Pooled CNN vs. Stacked CNN\n",
      "(-5.0, 0.16414940178310666)\n",
      "Simple CNN vs. Stacked CNN\n",
      "(-1.5, 0.7358788008568806)\n",
      "AQ vs. Stacked CNN\n",
      "comparison not possible\n",
      "Stacked CNN vs. Stacked CNN\n",
      "(0.0, 1.0)\n",
      "Random Forest vs. Stacked CNN\n",
      "comparison not possible\n",
      "Random Forest\n",
      "(11.5, 0.001088538206474253)\n",
      "PointbiserialrResult(correlation=0.5323637614801341, pvalue=6.25330726658431e-07)\n",
      "Support Vector Machine vs. Random Forest\n",
      "(2.0, 0.3876953125000001)\n",
      "Pooled CNN vs. Random Forest\n",
      "comparison not possible\n",
      "Simple CNN vs. Random Forest\n",
      "comparison not possible\n",
      "AQ vs. Random Forest\n",
      "(-7.5, 0.000274658203125)\n",
      "Stacked CNN vs. Random Forest\n",
      "comparison not possible\n",
      "Random Forest vs. Random Forest\n",
      "(0.0, 1.0)\n"
     ]
    }
   ],
   "source": [
    "predictions = {\"Random Forest\": pr_rf_total,\n",
    "               \"Support Vector Machine\": pr_svm_total, \n",
    "               #\"LSTM\": probs_lstm,\n",
    "               \"Simple CNN\" : pr_simpleCNN, \n",
    "               \"Stacked CNN\": pr_stackedCNN, \n",
    "               \"Pooled CNN\": pr_pooledCNN,\n",
    "              \"AQ\": AQ_pred}\n",
    "\n",
    "y_total = {\"Random Forest\": y_true_total,\n",
    "          \"Support Vector Machine\": y_true_total, \n",
    "          \"Simple CNN\" : y_true_CNN_simple, \n",
    "          \"Stacked CNN\": y_true_CNN_stacked,\n",
    "          \"Pooled CNN\": y_true_CNN_pooled,\n",
    "          \"AQ\": y_true_AQ}\n",
    "\n",
    "evaluate(y_total, predictions)"
   ]
  },
  {
   "cell_type": "code",
   "execution_count": null,
   "metadata": {
    "collapsed": true
   },
   "outputs": [],
   "source": [
    "'svc__C': [1, 5, 10, 50],\n",
    "'svc__gamma': [0.0001, 0.0005, 0.001, 0.005]\n",
    "            \n",
    "a=[1.00000000e-03,   1.00000000e-02,   1.00000000e-01,  1.00000000e+00,   1.00000000e+01,   1.00000000e+02]"
   ]
  },
  {
   "cell_type": "code",
   "execution_count": null,
   "metadata": {
    "collapsed": true
   },
   "outputs": [],
   "source": [
    "def reg_cor(x, y, x_label, y_label):\n",
    "    plt.figure(figsize=(12,8))\n",
    "    sns.regplot(x, y)\n",
    "    plt.yticks(fontsize=14)    \n",
    "    plt.xticks(fontsize=14)  \n",
    "    plt.xlabel(x_label, fontsize=16) \n",
    "    plt.ylabel(y_label, fontsize=16) \n",
    "    plt.savefig(x_label + y_label + '_Regression_Correlation.png')\n",
    "    plt.show()\n",
    "    plt.close()\n",
    "    \n",
    "plt.scatter(df[df.asc==1].groupby('vpn').adir_social.mean(), df[df.asc==1].groupby('vpn').asq.mean())\n",
    "plt.show()\n",
    "\n",
    "\n",
    "sns.regplot(df[df.ados_total>0].groupby('vpn').mean().asq, df[df.ados_total>0].groupby('vpn').mean().ados_social)\n",
    "plt.show()\n",
    "\n",
    "plt.scatter(df[df.ados_total>0].groupby('vpn').mean().asq, df[df.ados_total>0].groupby('vpn').mean().ados_commu)\n",
    "plt.show()"
   ]
  },
  {
   "cell_type": "code",
   "execution_count": null,
   "metadata": {
    "collapsed": true
   },
   "outputs": [],
   "source": []
  }
 ],
 "metadata": {
  "kernelspec": {
   "display_name": "Python 3",
   "language": "python",
   "name": "python3"
  },
  "language_info": {
   "codemirror_mode": {
    "name": "ipython",
    "version": 3
   },
   "file_extension": ".py",
   "mimetype": "text/x-python",
   "name": "python",
   "nbconvert_exporter": "python",
   "pygments_lexer": "ipython3",
   "version": "3.7.1"
  }
 },
 "nbformat": 4,
 "nbformat_minor": 2
}
