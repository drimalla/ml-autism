{
 "cells": [
  {
   "cell_type": "markdown",
   "metadata": {},
   "source": [
    "# Paper"
   ]
  },
  {
   "cell_type": "markdown",
   "metadata": {},
   "source": [
    "#### Import Functions"
   ]
  },
  {
   "cell_type": "code",
   "execution_count": null,
   "metadata": {
    "collapsed": true
   },
   "outputs": [],
   "source": [
    "%matplotlib inline\n",
    "\n",
    "#import pyvttbl as pt\n",
    "from statsmodels.formula.api import ols\n",
    "import statsmodels.stats.api as sms\n",
    "import statsmodels.api as sm\n",
    "\n",
    "import statsmodels.formula.api as smf\n",
    "\n",
    "import numpy as np\n",
    "import sklearn\n",
    "import pandas as pd\n",
    "#import preprocess2\n",
    "#import prepare\n",
    "import matplotlib.pyplot as plt\n",
    "import seaborn as sns\n",
    "import scipy\n",
    "\n",
    "from scipy import stats\n",
    "import warnings\n",
    "from scipy.stats.mstats import zscore\n",
    "import matplotlib\n",
    "#matplotlib.use('TkAgg')  \n",
    "from mpl_toolkits.mplot3d import Axes3D\n",
    "from sklearn import decomposition\n",
    "from sklearn.decomposition import PCA as sklearnPCA\n",
    "from sklearn.preprocessing import StandardScaler\n",
    "import scipy.cluster.hierarchy as hac\n",
    "from sklearn.pipeline import Pipeline\n",
    "from sklearn.preprocessing import PolynomialFeatures\n",
    "from sklearn.linear_model import LinearRegression\n",
    "#from sklearn.model_selection import cross_val_score\n",
    "import mne\n",
    "import imageio\n",
    "import datetime as dt\n",
    "import os \n"
   ]
  },
  {
   "cell_type": "markdown",
   "metadata": {},
   "source": [
    "#### Loading the Data"
   ]
  },
  {
   "cell_type": "code",
   "execution_count": null,
   "metadata": {
    "collapsed": true
   },
   "outputs": [],
   "source": [
    "df=pd.read_csv('./final_df_mb.csv', sep=',', na_values=['?']) "
   ]
  },
  {
   "cell_type": "markdown",
   "metadata": {},
   "source": [
    "## Participants (Demographics and Sample Characteristics)"
   ]
  },
  {
   "cell_type": "code",
   "execution_count": null,
   "metadata": {
    "collapsed": true
   },
   "outputs": [],
   "source": [
    "df=df[df.vpn!=26] # hier ist irgendetwas schief gegangen - die Zeiten stimmen nicht!! \n",
    "df=df[df.vpn!=33] # hier ist irgendetwas schief gegangen - die Zeiten stimmen nicht!! \n",
    "df=df[df.vpn!=34] # extrem unruhig - und Ausreißer-Werte bei LEV\n",
    "df=df[df.vpn!=37] # extrem unruhig\n",
    "df=df[df.conversation!='base'].reset_index() #delete the trigger and base"
   ]
  },
  {
   "cell_type": "code",
   "execution_count": null,
   "metadata": {
    "collapsed": true
   },
   "outputs": [],
   "source": [
    "df['participant_speaks']=(df.conversation=='joy_proband') | (df.conversation=='disgust_proband') | (df.conversation=='neutral_proband')#if conversation==\n",
    "df=df[(df.participant_speaks==False)&(df.conversation!='intro')].reset_index(drop=True)"
   ]
  },
  {
   "cell_type": "code",
   "execution_count": null,
   "metadata": {
    "collapsed": true
   },
   "outputs": [],
   "source": [
    "df['ZYG_z']=scipy.stats.zscore(df['ZYG'])\n",
    "df['COR_z']=scipy.stats.zscore(df['COR'])\n",
    "df['LEV_z']=scipy.stats.zscore(df['LEV'])"
   ]
  },
  {
   "cell_type": "code",
   "execution_count": null,
   "metadata": {},
   "outputs": [],
   "source": [
    "print ('number of particpants ' + str(len(df.groupby('vpn'))))\n",
    "#print 'number of females ' + str(len(df[df.gender==1].groupby('vpn')))\n",
    "print ('min age ' + str(np.min(df.groupby('vpn').mean().years)))\n",
    "print ('max age ' + str(np.max(df.groupby('vpn').mean().years)))\n",
    "print ('mean age ' + str(np.mean(df.groupby('vpn').mean().years)))\n",
    "print ('std age ' + str(np.std(df.groupby('vpn').mean().years)))\n",
    "print ('AQ above cut-off of 17: ' + str(np.sum(df.groupby('vpn').mean().AQsum>17)))\n",
    "print ('mean AQ' + str(np.mean(df.groupby('vpn').mean().AQsum)))\n",
    "print ('mean AQ' + str(np.std(df.groupby('vpn').mean().AQsum)))\n",
    "print ('mind. high-school education: ' + str(np.sum(df.groupby('vpn').mean().education>5)))\n",
    "print ('WST: ' + str(np.sum(df.groupby('vpn').mean().WST<20)))"
   ]
  },
  {
   "cell_type": "markdown",
   "metadata": {},
   "source": [
    "## EMG Activity over Timecourse of Conversation"
   ]
  },
  {
   "cell_type": "code",
   "execution_count": null,
   "metadata": {},
   "outputs": [],
   "source": [
    "colors=['blue', 'green','red']\n",
    "#final=df[(df.vpn==34)]# | (df.vpn!=33)]\n",
    "final=df\n",
    "muscles=['ZYG_z', 'COR_z', 'LEV_z']\n",
    "\n",
    "for conv in np.unique(final.conversation):\n",
    "    i=0\n",
    "    for m in muscles:\n",
    "        plt.plot(np.array(final[(final['conversation']==conv)].groupby(['counter']).mean().reset_index()['counter']), \n",
    "                 np.array(final[(final['conversation']==conv)].groupby(['counter']).mean().reset_index(drop=True)[m]),\n",
    "                 color=colors[i])\n",
    "        plt.title(str(conv))\n",
    "        #plt.ylim(0, 200)\n",
    "        i=i+1\n",
    "    plt.show()"
   ]
  },
  {
   "cell_type": "code",
   "execution_count": null,
   "metadata": {},
   "outputs": [],
   "source": [
    "plt.hist(df.groupby('vpn').mean()['ZYG_z'])\n",
    "plt.show()\n",
    "plt.hist(df.groupby('vpn').mean()['COR_z'])\n",
    "plt.show()\n",
    "plt.hist(df.groupby('vpn').mean()['LEV_z'])\n",
    "plt.show()"
   ]
  },
  {
   "cell_type": "code",
   "execution_count": null,
   "metadata": {
    "collapsed": true
   },
   "outputs": [],
   "source": [
    "df_figure=df.rename(columns={'ZYG_z': 'ZYG (zstd.)', 'COR_z': 'COR (zstd.)', 'LEV_z': 'LEV (zstd.)'})\n",
    "di = {\"neutral_speaker\":\"1.Table Setting\",\n",
    "      \"joy_speaker\":\"2.Liked Food\",\n",
    "      \"disgust_speaker\":\"3.Disliked Food\"}\n",
    "df_figure=df_figure.replace({\"conversation\": di})"
   ]
  },
  {
   "cell_type": "code",
   "execution_count": null,
   "metadata": {},
   "outputs": [],
   "source": [
    "g=sns.heatmap(df_figure[(df_figure.participant_speaks==False) &(df.conversation!='intro')].groupby('conversation').mean()[['ZYG (zstd.)', 'COR (zstd.)', 'LEV (zstd.)']], \n",
    "              cmap='Blues')##,  vmin=-0.3, vmax=0.4)\n",
    "#cmap='RdBu_r',\n",
    "\n",
    "#print (df[df.participant_speaks==True].groupby('conversation').mean()[['ZYG_z', 'COR_z']])\n",
    "\n",
    "#plt.set\n",
    "plt.xticks(fontsize=14) \n",
    "plt.yticks(fontsize=14) \n",
    "plt.xlabel('Muscle', fontsize=18) \n",
    "plt.ylabel('Conversation Part', fontsize=18)\n",
    "plt.title('Participant Listening')\n",
    "plt.savefig('Muscles_Listening_' +'.pdf', format='pdf', bbox_inches = \"tight\")\n",
    "plt.savefig('Muscles_Listening_' +'.png', format='png', bbox_inches = \"tight\")\n",
    "plt.tight_layout()\n",
    "plt.show()   \n",
    "plt.close()"
   ]
  },
  {
   "cell_type": "code",
   "execution_count": null,
   "metadata": {},
   "outputs": [],
   "source": [
    "\n",
    "print (df_figure[(df_figure.participant_speaks==False) &(df_figure.conversation!='intro')].groupby('conversation').mean()[['ZYG (zstd.)', 'COR (zstd.)', 'LEV (zstd.)']])\n",
    "print (df_figure[(df_figure.participant_speaks==False) &(df_figure.conversation!='intro')][['ZYG (zstd.)', 'COR (zstd.)', 'LEV (zstd.)', 'conversation']].groupby('conversation').std())\n"
   ]
  },
  {
   "cell_type": "code",
   "execution_count": null,
   "metadata": {
    "collapsed": true
   },
   "outputs": [],
   "source": [
    "df1=df[df.conversation=='neutral_speaker'].groupby('vpn').mean()\n",
    "df2=df[df.conversation=='joy_speaker'].groupby('vpn').mean()\n",
    "df3=df[df.conversation=='disgust_speaker'].groupby('vpn').mean()"
   ]
  },
  {
   "cell_type": "code",
   "execution_count": null,
   "metadata": {},
   "outputs": [],
   "source": [
    "import mystats\n",
    "mystats.two_dep_sample_tests(df1, df2, 'ZYG_z')\n",
    "mystats.two_dep_sample_tests(df1, df3, 'ZYG_z')\n",
    "\n",
    "mystats.two_dep_sample_tests(df1, df2, 'COR_z')\n",
    "mystats.two_dep_sample_tests(df1, df3, 'COR_z')\n"
   ]
  },
  {
   "cell_type": "code",
   "execution_count": null,
   "metadata": {},
   "outputs": [],
   "source": [
    "\n",
    "mystats.two_dep_sample_tests(df1, df2, 'LEV_z')\n",
    "mystats.two_dep_sample_tests(df1, df3, 'LEV_z')\n",
    "0.008"
   ]
  },
  {
   "cell_type": "markdown",
   "metadata": {},
   "source": [
    "## Correlation of EMG and Questionnaire Values"
   ]
  },
  {
   "cell_type": "code",
   "execution_count": null,
   "metadata": {},
   "outputs": [],
   "source": [
    "emotion=3\n",
    "muscle=3\n",
    "\n",
    "neutral_cor=df[df.conversation=='neutral_speaker'].groupby('vpn').mean()['COR_z']\n",
    "neutral_zyg=df[df.conversation=='neutral_speaker'].groupby('vpn').mean()['ZYG_z']\n",
    "neutral_lev=df[df.conversation=='neutral_speaker'].groupby('vpn').mean()['LEV_z']\n",
    "         \n",
    "pos_cor=df[df.conversation=='joy_speaker'].groupby('vpn').mean()['COR_z']   \n",
    "pos_zyg=df[df.conversation=='joy_speaker'].groupby('vpn').mean()['ZYG_z']\n",
    "pos_lev=df[df.conversation=='joy_speaker'].groupby('vpn').mean()['LEV_z']\n",
    "         \n",
    "neg_cor=df[df.conversation=='disgust_speaker'].groupby('vpn').mean()['COR_z']        \n",
    "neg_zyg=df[df.conversation=='disgust_speaker'].groupby('vpn').mean()['ZYG_z']\n",
    "neg_lev=df[df.conversation=='disgust_speaker'].groupby('vpn').mean()['LEV_z']\n",
    "\n",
    "print ('Effect of Muscle and Emotion')\n",
    "data=np.array(pd.concat([neutral_cor, neutral_zyg, neutral_lev, \n",
    "                         pos_cor, pos_zyg, pos_lev, \n",
    "                         neg_cor, neg_zyg, neg_lev], axis=1))\n",
    "factorlevels=[emotion, muscle]\n",
    "\n",
    "print (mne.stats.f_mway_rm(data, factorlevels, effects='A*B'))"
   ]
  },
  {
   "cell_type": "code",
   "execution_count": null,
   "metadata": {},
   "outputs": [],
   "source": [
    "zyg=df[(df_figure.participant_speaks==False) &(df.conversation!='intro')].groupby(['vpn']).mean()[['ZYG_z', 'AQsum']].reset_index()\n",
    "zyg['muscle']='ZYG'\n",
    "zyg['activity']=zyg.ZYG_z\n",
    "cor=df[(df_figure.participant_speaks==False) &(df.conversation!='intro')].groupby(['vpn']).mean()[['COR_z', 'AQsum']].reset_index()\n",
    "cor['muscle']='COR'\n",
    "cor['activity']=cor.COR_z\n",
    "data=pd.concat([zyg, cor], sort=True)\n",
    "\n",
    "model = sm.MixedLM.from_formula(\"activity ~ AQsum*muscle \", data[data.AQsum>0], groups=data['vpn'])\n",
    "mdf = model.fit()\n",
    "print(mdf.summary())"
   ]
  },
  {
   "cell_type": "code",
   "execution_count": null,
   "metadata": {},
   "outputs": [],
   "source": [
    "zyg=df[(df_figure.participant_speaks==False) &(df.conversation!='intro')].groupby(['vpn']).mean()[['ZYG_z', 'AQsum']].reset_index()\n",
    "zyg['muscle']='ZYG'\n",
    "zyg['activity']=zyg.ZYG_z\n",
    "cor=df[(df_figure.participant_speaks==False) &(df.conversation!='intro')].groupby(['vpn']).mean()[['COR_z', 'AQsum']].reset_index()\n",
    "cor['muscle']='COR'\n",
    "cor['activity']=cor.COR_z\n",
    "\n",
    "lev=df[(df_figure.participant_speaks==False) &(df.conversation!='intro')].groupby(['vpn']).mean()[['LEV_z', 'AQsum']].reset_index()\n",
    "lev['muscle']='LEV'\n",
    "lev['activity']=lev.LEV_z\n",
    "data=pd.concat([zyg, cor, lev], sort=True)\n",
    "\n",
    "model = sm.MixedLM.from_formula(\"activity ~ AQsum*muscle \", data[data.AQsum>0], groups=data['vpn'])\n",
    "mdf = model.fit()\n",
    "print(mdf.summary())"
   ]
  },
  {
   "cell_type": "code",
   "execution_count": null,
   "metadata": {},
   "outputs": [],
   "source": [
    "data=df[(df_figure.participant_speaks==False) &(df.conversation!='intro')].groupby(['conversation', 'vpn']).mean().reset_index()\n",
    "\n",
    "model = sm.MixedLM.from_formula(\"ZYG_z ~ AQsum\", data, groups=data['vpn'])\n",
    "mdf = model.fit()\n",
    "print(mdf.summary())\n",
    "\n",
    "\n",
    "model = sm.MixedLM.from_formula(\"COR_z ~ AQsum\", data, groups=data['vpn'])\n",
    "mdf = model.fit()\n",
    "print(mdf.summary())\n",
    "\n",
    "\n",
    "model = sm.MixedLM.from_formula(\"LEV_z ~ AQsum\", data, groups=data['vpn'])\n",
    "mdf = model.fit()\n",
    "print(mdf.summary())\n"
   ]
  },
  {
   "cell_type": "markdown",
   "metadata": {},
   "source": [
    "## Correlation of Food Preferences and EMG actvity"
   ]
  },
  {
   "cell_type": "code",
   "execution_count": null,
   "metadata": {},
   "outputs": [],
   "source": [
    "plt.scatter(df[df.conversation=='joy_speaker'].groupby('vpn').mean()['ZYG'],\n",
    "            df[df.conversation=='joy_speaker'].groupby('vpn').mean()['pizza'])\n",
    "plt.show()\n",
    "\n",
    "print (scipy.stats.spearmanr(final[final.conversation=='joy_speaker'].groupby('vpn').mean()['ZYG'],\n",
    "            df[df.conversation=='joy_speaker'].groupby('vpn').mean()['pizza']))\n",
    "\n",
    "plt.scatter(df[df.conversation=='disgust_speaker'].groupby('vpn').mean()['LEV'],\n",
    "            df[df.conversation=='disgust_speaker'].groupby('vpn').mean()['hering'])\n",
    "plt.show()\n",
    "\n",
    "print (scipy.stats.spearmanr(df[df.conversation=='joy_speaker'].groupby('vpn').mean()['LEV'],\n",
    "            df[df.conversation=='joy_speaker'].groupby('vpn').mean()['hering']))\n",
    "plt.show()"
   ]
  }
 ],
 "metadata": {
  "kernelspec": {
   "display_name": "Python 3",
   "language": "python",
   "name": "python3"
  },
  "language_info": {
   "codemirror_mode": {
    "name": "ipython",
    "version": 3
   },
   "file_extension": ".py",
   "mimetype": "text/x-python",
   "name": "python",
   "nbconvert_exporter": "python",
   "pygments_lexer": "ipython3",
   "version": "3.6.3"
  }
 },
 "nbformat": 4,
 "nbformat_minor": 2
}
