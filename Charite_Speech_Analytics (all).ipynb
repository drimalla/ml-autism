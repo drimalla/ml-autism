{
 "cells": [
  {
   "cell_type": "code",
   "execution_count": 1,
   "metadata": {
    "collapsed": true
   },
   "outputs": [],
   "source": [
    "# Audio Analysis"
   ]
  },
  {
   "cell_type": "code",
   "execution_count": 11,
   "metadata": {},
   "outputs": [],
   "source": [
    "from __future__ import division\n",
    "\n",
    "%matplotlib inline\n",
    "import os\n",
    "import subprocess\n",
    "import numpy as np\n",
    "import scipy\n",
    "#import librosa\n",
    "import matplotlib.pyplot as plt\n",
    "\n",
    "import pandas as pd\n",
    "import datetime as dt\n",
    "import imageio\n",
    "\n",
    "import sklearn\n",
    "from sklearn.preprocessing import scale\n",
    "import seaborn as sns\n",
    "from scipy import stats\n",
    "\n",
    "import mycharite\n",
    "import mystats"
   ]
  },
  {
   "cell_type": "code",
   "execution_count": 12,
   "metadata": {},
   "outputs": [],
   "source": [
    "df, df_audio, action_r, action_c, gaze, audio =mycharite.load('charite')\n",
    "df_audio['asc']=(df_audio.asd==11)*1"
   ]
  },
  {
   "cell_type": "code",
   "execution_count": 13,
   "metadata": {},
   "outputs": [],
   "source": [
    "df_audio=df_audio.rename(columns={'0' : 'spectrum_0', '1': 'spectrum_1', '2': 'spectrum_2', \n",
    "                      '3' : 'spectrum_3', '4': 'spectrum_4', '5': 'spectrum_5',\n",
    "                      '6' : 'spectrum_6', '7': 'spectrum_7', '8': 'spectrum_8',\n",
    "                      '9' : 'spectrum_9', '10': 'spectrum_10', '11': 'spectrum_11',\n",
    "                      '12' : 'spectrum_12', '13': 'spectrum_13', '14': 'spectrum_14',\n",
    "                      '15' : 'spectrum_15', '16': 'spectrum_16', '17': 'spectrum_17',\n",
    "                      '18' : 'spectrum_18', '19': 'spectrum_19', '20': 'spectrum_20',\n",
    "                      '21' : 'spectrum_21', '22': 'spectrum_22', '23': 'spectrum_23',\n",
    "                      '24': 'spectrum_24', '25' : 'spectrum_25', '26': 'spectrum_26', \n",
    "                      '27': 'spectrum_27', '28' : 'spectrum_28', '29': 'spectrum_29',\n",
    "                      '30': 'spectrum_30', '31' : 'spectrum_31', '32': 'spectrum_32', \n",
    "                      '33': 'spectrum_33',  '34' : 'spectrum_34', '35': 'spectrum_35',\n",
    "                      '36': 'spectrum_36',  '37' : 'spectrum_37', '38': 'spectrum_38', \n",
    "                      '39': 'spectrum_39'                          \n",
    "          })"
   ]
  },
  {
   "cell_type": "code",
   "execution_count": 52,
   "metadata": {},
   "outputs": [],
   "source": [
    "df_audio.columns\n",
    "df_audio=df_audio.rename(columns={'disgust_proband': 'disgust_participant', \n",
    "                      'neutral_proband' : 'neutral_participant', \n",
    "                          'joy_proband': 'joy_participant'\n",
    "                      })\n",
    "\n",
    "df_audio=mycharite.adapt_times(df_audio)"
   ]
  },
  {
   "cell_type": "code",
   "execution_count": 53,
   "metadata": {},
   "outputs": [],
   "source": [
    "df_audio['participant_speaks']=(df_audio.conversation=='joy_participant') | (df_audio.conversation=='disgust_participant') | (df_audio.conversation=='neutral_proband')#if conversation==\n",
    "df_audio=df_audio[(df_audio.participant_speaks==True)&(df_audio.conversation!='intro')].reset_index(drop=True)"
   ]
  },
  {
   "cell_type": "code",
   "execution_count": 54,
   "metadata": {},
   "outputs": [
    {
     "name": "stdout",
     "output_type": "stream",
     "text": [
      "pitch\n",
      "     count      mean       std       min       25%       50%       75%  \\\n",
      "asc                                                                      \n",
      "0     43.0  0.009357  0.004973  0.000874  0.005527  0.009287  0.012040   \n",
      "1     36.0  0.009771  0.008447  0.000764  0.004291  0.007316  0.013049   \n",
      "\n",
      "          max  \n",
      "asc            \n",
      "0    0.026104  \n",
      "1    0.039642  \n",
      "localJitter\n",
      "     count      mean       std       min       25%       50%       75%  \\\n",
      "asc                                                                      \n",
      "0     43.0  0.031869  0.005871  0.020124  0.027812  0.032152  0.035723   \n",
      "1     36.0  0.031901  0.004961  0.024945  0.028150  0.030387  0.035205   \n",
      "\n",
      "          max  \n",
      "asc            \n",
      "0    0.047048  \n",
      "1    0.043453  \n",
      "localabsoluteJitter\n",
      "     count      mean       std       min       25%       50%      75%  \\\n",
      "asc                                                                     \n",
      "0     43.0  0.000210  0.000077  0.000089  0.000145  0.000193  0.00028   \n",
      "1     36.0  0.000194  0.000065  0.000107  0.000136  0.000186  0.00025   \n",
      "\n",
      "          max  \n",
      "asc            \n",
      "0    0.000351  \n",
      "1    0.000325  \n",
      "rapJitter\n",
      "     count      mean       std       min       25%       50%       75%  \\\n",
      "asc                                                                      \n",
      "0     43.0  0.016971  0.003263  0.010250  0.014690  0.017234  0.019046   \n",
      "1     36.0  0.017022  0.002861  0.013127  0.014901  0.016211  0.018734   \n",
      "\n",
      "          max  \n",
      "asc            \n",
      "0    0.025343  \n",
      "1    0.023981  \n",
      "ppq5Jitter\n",
      "     count      mean       std       min       25%       50%       75%  \\\n",
      "asc                                                                      \n",
      "0     43.0  0.019357  0.003687  0.011133  0.017181  0.019469  0.021595   \n",
      "1     36.0  0.019582  0.003184  0.015451  0.017615  0.018763  0.021028   \n",
      "\n",
      "          max  \n",
      "asc            \n",
      "0    0.029966  \n",
      "1    0.027541  \n",
      "ddpJitter\n",
      "     count      mean       std       min       25%       50%       75%  \\\n",
      "asc                                                                      \n",
      "0     43.0  0.050912  0.009789  0.030751  0.044071  0.051701  0.057138   \n",
      "1     36.0  0.051067  0.008582  0.039381  0.044702  0.048632  0.056201   \n",
      "\n",
      "          max  \n",
      "asc            \n",
      "0    0.076028  \n",
      "1    0.071943  \n",
      "localShimmer\n",
      "     count      mean       std       min       25%       50%       75%  \\\n",
      "asc                                                                      \n",
      "0     43.0  0.169847  0.014304  0.141719  0.158005  0.170161  0.181357   \n",
      "1     36.0  0.168275  0.012713  0.143857  0.159793  0.167189  0.177500   \n",
      "\n",
      "          max  \n",
      "asc            \n",
      "0    0.201765  \n",
      "1    0.192433  \n",
      "localdbShimmer\n",
      "     count      mean       std       min       25%       50%       75%  \\\n",
      "asc                                                                      \n",
      "0     43.0  1.523330  0.088802  1.322999  1.461027  1.524218  1.580690   \n",
      "1     36.0  1.516239  0.072579  1.399545  1.465135  1.506284  1.574994   \n",
      "\n",
      "          max  \n",
      "asc            \n",
      "0    1.700734  \n",
      "1    1.662747  \n",
      "apq3Shimmer\n",
      "     count      mean       std       min       25%       50%       75%  \\\n",
      "asc                                                                      \n",
      "0     43.0  0.076233  0.008973  0.055643  0.068324  0.076707  0.082635   \n",
      "1     36.0  0.074529  0.008691  0.057554  0.067914  0.073156  0.080813   \n",
      "\n",
      "          max  \n",
      "asc            \n",
      "0    0.094016  \n",
      "1    0.088802  \n",
      "apq5Shimmer\n",
      "     count      mean       std       min       25%       50%       75%  \\\n",
      "asc                                                                      \n",
      "0     43.0  0.109951  0.011708  0.086042  0.100147  0.111370  0.120019   \n",
      "1     36.0  0.108899  0.010374  0.093492  0.101792  0.108497  0.115803   \n",
      "\n",
      "          max  \n",
      "asc            \n",
      "0    0.134767  \n",
      "1    0.130318  \n",
      "apq11Shimmer\n",
      "     count      mean       std       min       25%       50%       75%  \\\n",
      "asc                                                                      \n",
      "0     43.0  0.184063  0.020400  0.148713  0.172302  0.182521  0.193984   \n",
      "1     36.0  0.186257  0.019351  0.140954  0.171686  0.189847  0.197061   \n",
      "\n",
      "          max  \n",
      "asc            \n",
      "0    0.237415  \n",
      "1    0.224105  \n",
      "ddaShimmer\n",
      "     count      mean       std       min       25%       50%       75%  \\\n",
      "asc                                                                      \n",
      "0     43.0  0.228699  0.026918  0.166928  0.204973  0.230120  0.247906   \n",
      "1     36.0  0.223586  0.026073  0.172661  0.203741  0.219468  0.242439   \n",
      "\n",
      "          max  \n",
      "asc            \n",
      "0    0.282049  \n",
      "1    0.266407  \n",
      "JitterPCA\n",
      "     count      mean       std       min       25%       50%      75%  \\\n",
      "asc                                                                     \n",
      "0     43.0 -0.096190  3.194494 -7.061042 -2.078696 -0.345741  1.71506   \n",
      "1     36.0  0.179479  2.826984 -4.235808 -2.507214  0.048343  2.20360   \n",
      "\n",
      "          max  \n",
      "asc            \n",
      "0    7.861338  \n",
      "1    7.382558  \n",
      "ShimmerPCA\n",
      "     count      mean       std       min       25%       50%       75%  \\\n",
      "asc                                                                      \n",
      "0     43.0 -0.037181  1.119998 -2.432277 -0.784072 -0.150756  0.845058   \n",
      "1     36.0  0.031723  0.902371 -1.795466 -0.454330  0.030054  0.537269   \n",
      "\n",
      "          max  \n",
      "asc            \n",
      "0    1.994480  \n",
      "1    2.532643  \n",
      "meanF0Hz\n",
      "           count        mean        std         min         25%         50%  \\\n",
      "asc sex_x                                                                     \n",
      "0   1.0     22.0  209.081140  17.969128  173.246320  198.317278  211.419587   \n",
      "    2.0     21.0  121.683718  11.675372  104.063666  110.816112  120.456694   \n",
      "1   1.0     17.0  218.908373  16.161452  196.476654  211.691954  218.232149   \n",
      "    2.0     19.0  139.666881  16.223139  113.658914  128.310751  134.674682   \n",
      "\n",
      "                  75%         max  \n",
      "asc sex_x                          \n",
      "0   1.0    220.389160  249.019955  \n",
      "    2.0    127.645124  145.872027  \n",
      "1   1.0    224.137394  249.191539  \n",
      "    2.0    149.654630  174.410636  \n",
      "stdevF0Hz\n",
      "           count       mean       std        min        25%        50%  \\\n",
      "asc sex_x                                                                \n",
      "0   1.0     22.0  55.873722  9.330833  39.505542  51.783467  55.437344   \n",
      "    2.0     21.0  33.028661  6.823935  22.308720  28.110935  32.529138   \n",
      "1   1.0     17.0  59.370370  9.549012  42.716595  55.826357  58.997409   \n",
      "    2.0     19.0  37.733713  9.490565  20.556304  29.556381  39.088021   \n",
      "\n",
      "                 75%        max  \n",
      "asc sex_x                        \n",
      "0   1.0    59.179761  73.295903  \n",
      "    2.0    37.394937  50.097725  \n",
      "1   1.0    64.784317  78.041454  \n",
      "    2.0    45.185142  54.986475  \n",
      "HNR\n",
      "           count       mean       std       min        25%        50%  \\\n",
      "asc sex_x                                                               \n",
      "0   1.0     22.0  10.323388  1.471678  7.300449   9.183981  10.604793   \n",
      "    2.0     21.0   6.907820  2.122374 -0.847675   6.397270   7.336074   \n",
      "1   1.0     17.0  10.836088  1.424675  8.447267  10.220963  10.496430   \n",
      "    2.0     19.0   8.500284  1.435019  6.569379   7.674755   8.138523   \n",
      "\n",
      "                 75%        max  \n",
      "asc sex_x                        \n",
      "0   1.0    11.265395  13.369221  \n",
      "    2.0     7.995485   9.526844  \n",
      "1   1.0    11.650211  13.818102  \n",
      "    2.0     9.333755  12.213301  \n"
     ]
    }
   ],
   "source": [
    "var=['pitch', 'localJitter', 'localabsoluteJitter', 'rapJitter', 'ppq5Jitter',\n",
    "   'ddpJitter', 'localShimmer', 'localdbShimmer', 'apq3Shimmer',\n",
    "   'apq5Shimmer', 'apq11Shimmer', 'ddaShimmer', 'JitterPCA', 'ShimmerPCA']\n",
    "\n",
    "\n",
    "for i in var:\n",
    "    print (i)\n",
    "    print (df_audio.groupby('vpn').mean().groupby(['asc'])[i].describe())\n",
    "    \n",
    "    \n",
    "var=['meanF0Hz', 'stdevF0Hz', 'HNR']\n",
    "\n",
    "\n",
    "for i in var:\n",
    "    print (i)\n",
    "    print (df_audio.groupby('vpn').mean().groupby(['asc', 'sex_x'])[i].describe())"
   ]
  },
  {
   "cell_type": "code",
   "execution_count": null,
   "metadata": {},
   "outputs": [],
   "source": [
    "def spectrogram_one(df_audio):\n",
    "    data=np.array(df_audio.groupby('timestamp').mean()[audio].T)\n",
    "    ax = sns.heatmap(data)\n",
    "    plt.show()\n",
    "    \n",
    "def spectrogram(df_audio, name):\n",
    "    plt.close()\n",
    "    data=(df_audio.groupby('asc').mean()[audio[3:14]].T)\n",
    "    #mfccs = sklearn.preprocessing.scale(data, axis=0)\n",
    "    print (data)\n",
    "    ax = sns.heatmap(np.array(data)) #, vmin=-2, vmax=2)\n",
    "    plt.savefig('Heatmap' + name +'.png')\n",
    "    plt.show()"
   ]
  },
  {
   "cell_type": "code",
   "execution_count": null,
   "metadata": {},
   "outputs": [
    {
     "name": "stdout",
     "output_type": "stream",
     "text": [
      "pitch\n",
      "not normally distributed: p1=0.043163083493709564 p2=5.963338480796665e-06\n",
      "Mann-Whitney-U-Test: U=702.0p=0.2407701222427745\n",
      "Effectsize:0.09302325581395354\n",
      "Dataframe one\n",
      "median:0.009286680213786045\n",
      "Dataframe two\n",
      "median:0.00731629233236979\n",
      "meanF0Hz\n",
      "not normally distributed: p1=0.00019014526333194226 p2=0.0036984586622565985\n",
      "Mann-Whitney-U-Test: U=627.0p=0.07463595898021429\n",
      "Effectsize:0.18992248062015504\n",
      "Dataframe one\n",
      "median:173.24632048165844\n",
      "Dataframe two\n",
      "median:169.1916178357003\n",
      "stdevF0Hz\n",
      "normally distributed - now variance homogenity is checked:\n",
      "Ttest_indResult(statistic=-1.0042917603793067, pvalue=0.3183836412218215)\n",
      "Effect Size for Independent T-Test\n",
      "-0.22980835124201204\n",
      "Dataframe one\n",
      "mean:44.716831827427576\n",
      "Confidence Intervall\n",
      "(40.37307435416579, 49.060589300689365)\n",
      "Dataframe two\n",
      "mean:47.9510231074687\n",
      "Confidence Intervall\n",
      "(43.07107898708432, 52.83096722785308)\n",
      "HNR\n",
      "not normally distributed: p1=0.009847617708146572 p2=0.4734492301940918\n",
      "Mann-Whitney-U-Test: U=612.0p=0.05594399752919348\n",
      "Effectsize:0.2093023255813954\n",
      "Dataframe one\n",
      "median:8.777829041525248\n",
      "Dataframe two\n",
      "median:9.599823325770576\n",
      "localJitter\n",
      "not normally distributed: p1=0.9717790484428406 p2=0.03816039115190506\n",
      "Mann-Whitney-U-Test: U=755.0p=0.4277485155672396\n",
      "Effectsize:0.02454780361757103\n",
      "Dataframe one\n",
      "median:0.03215191939929131\n",
      "Dataframe two\n",
      "median:0.030387436563259623\n",
      "localabsoluteJitter\n",
      "not normally distributed: p1=0.006543060299009085 p2=0.00977124273777008\n",
      "Mann-Whitney-U-Test: U=667.0p=0.1472367673863183\n",
      "Effectsize:0.13824289405684753\n",
      "Dataframe one\n",
      "median:0.00019294238106647458\n",
      "Dataframe two\n",
      "median:0.00018622906128393278\n",
      "rapJitter\n",
      "not normally distributed: p1=0.9155248403549194 p2=0.024593371897935867\n",
      "Mann-Whitney-U-Test: U=753.0p=0.4200378393751312\n",
      "Effectsize:0.027131782945736482\n",
      "Dataframe one\n",
      "median:0.017233798334961387\n",
      "Dataframe two\n",
      "median:0.0162106479843171\n",
      "ppq5Jitter\n",
      "not normally distributed: p1=0.7936164140701294 p2=0.029987959191203117\n",
      "Mann-Whitney-U-Test: U=769.0p=0.48233389855080705\n",
      "Effectsize:0.006459948320413411\n",
      "Dataframe one\n",
      "median:0.019469187006505233\n",
      "Dataframe two\n",
      "median:0.018762930645028666\n",
      "ddpJitter\n"
     ]
    }
   ],
   "source": [
    "def group_comparison(df):\n",
    "    var=['pitch','meanF0Hz', 'stdevF0Hz', 'HNR',\n",
    "       'localJitter', 'localabsoluteJitter', 'rapJitter', 'ppq5Jitter',\n",
    "       'ddpJitter', 'localShimmer', 'localdbShimmer', 'apq3Shimmer',\n",
    "       'apq5Shimmer', 'apq11Shimmer', 'ddaShimmer', 'JitterPCA', 'ShimmerPCA']\n",
    "\n",
    "    for i in var:\n",
    "        print (i)\n",
    "        df1=df[df.asc==0].groupby('vpn').mean()\n",
    "        df2=df[df.asc==1].groupby('vpn').mean()\n",
    "        mystats.two_ind_sample_tests(df1, df2, i)\n",
    "        \n",
    "group_comparison(df_audio[df_audio.conversation!='intro'])"
   ]
  },
  {
   "cell_type": "code",
   "execution_count": null,
   "metadata": {},
   "outputs": [],
   "source": [
    "group_comparison(df_audio[df_audio.sex_x==1])"
   ]
  },
  {
   "cell_type": "code",
   "execution_count": null,
   "metadata": {},
   "outputs": [],
   "source": [
    "group_comparison(df_audio[df_audio.sex_x==2])"
   ]
  },
  {
   "cell_type": "code",
   "execution_count": null,
   "metadata": {},
   "outputs": [],
   "source": [
    "def group_comparison_median(df):\n",
    "    var=['pitch','meanF0Hz', 'stdevF0Hz', 'HNR',\n",
    "       'localJitter', 'localabsoluteJitter', 'rapJitter', 'ppq5Jitter',\n",
    "       'ddpJitter', 'localShimmer', 'localdbShimmer', 'apq3Shimmer',\n",
    "       'apq5Shimmer', 'apq11Shimmer', 'ddaShimmer', 'JitterPCA', 'ShimmerPCA']\n",
    "\n",
    "    for i in var:\n",
    "        print (i)\n",
    "        df1=df[df.asc==0].groupby('vpn').median()\n",
    "        df2=df[df.asc==1].groupby('vpn').median()\n",
    "        mystats.two_ind_sample_tests(df1, df2, i)\n",
    "        (df1=df[df.asc==0].groupby('vpn').median()\n",
    "        df2=df[df.asc==1].groupby('vpn').median()\n",
    "        \n",
    "group_comparison_median(df_audio[df_audio.conversation!='intro'])"
   ]
  },
  {
   "cell_type": "code",
   "execution_count": null,
   "metadata": {},
   "outputs": [],
   "source": [
    "group_comparison_median(df_audio[df_audio.sex_x==1])"
   ]
  },
  {
   "cell_type": "code",
   "execution_count": null,
   "metadata": {},
   "outputs": [],
   "source": [
    "group_comparison_median(df_audio[df_audio.sex_x==2])"
   ]
  },
  {
   "cell_type": "code",
   "execution_count": null,
   "metadata": {},
   "outputs": [],
   "source": [
    "import pandas as pd\n",
    "from statsmodels.formula.api import ols\n",
    "from statsmodels.stats.anova import anova_lm\n",
    "from statsmodels.graphics.factorplots import interaction_plot\n",
    "import matplotlib.pyplot as plt\n",
    "from scipy import stats\n",
    "def eta_squared(aov):\n",
    "    aov['eta_sq'] = 'NaN'\n",
    "    aov['eta_sq'] = aov[:-1]['sum_sq']/sum(aov['sum_sq'])\n",
    "    return aov\n",
    " \n",
    "def omega_squared(aov):\n",
    "    mse = aov['sum_sq'][-1]/aov['df'][-1]\n",
    "    aov['omega_sq'] = 'NaN'\n",
    "    aov['omega_sq'] = (aov[:-1]['sum_sq']-(aov[:-1]['df']*mse))/(sum(aov['sum_sq'])+mse)\n",
    "    return aov\n"
   ]
  },
  {
   "cell_type": "code",
   "execution_count": null,
   "metadata": {},
   "outputs": [],
   "source": [
    "var=['pitch','meanF0Hz', 'stdevF0Hz', 'HNR',\n",
    "       'localJitter', 'localabsoluteJitter', 'rapJitter', 'ppq5Jitter',\n",
    "       'ddpJitter', 'localShimmer', 'localdbShimmer', 'apq3Shimmer',\n",
    "       'apq5Shimmer', 'apq11Shimmer', 'ddaShimmer', 'JitterPCA', 'ShimmerPCA']\n",
    "\n",
    "#PITCH IS ENERGY\n",
    "\n",
    "formula = 'HNR ~ C(sex_x) + C(asc)'\n",
    "model = ols(formula, df_audio.groupby('vpn').median()).fit()\n",
    "aov_table = anova_lm(model, typ=2)\n",
    "eta_squared(aov_table)\n",
    "omega_squared(aov_table)\n",
    "print(aov_table)\n",
    "\n",
    "\n",
    "formula = 'meanF0Hz ~ C(sex_x) + C(asc)'\n",
    "model = ols(formula, df_audio.groupby('vpn').mean()).fit()\n",
    "aov_table = anova_lm(model, typ=2)\n",
    "eta_squared(aov_table)\n",
    "omega_squared(aov_table)\n",
    "print(aov_table)\n",
    "\n",
    "\n",
    "formula = 'stdevF0Hz ~ C(sex_x) + C(asc)'\n",
    "model = ols(formula, df_audio.groupby('vpn').mean()).fit()\n",
    "aov_table = anova_lm(model, typ=2)\n",
    "eta_squared(aov_table)\n",
    "omega_squared(aov_table)\n",
    "print(aov_table)\n",
    "\n",
    "formula = 'localabsoluteJitter ~ C(sex_x) + C(asc)'\n",
    "model = ols(formula, df_audio.groupby('vpn').mean()).fit()\n",
    "aov_table = anova_lm(model, typ=2)\n",
    "eta_squared(aov_table)\n",
    "omega_squared(aov_table)\n",
    "print(aov_table)"
   ]
  },
  {
   "cell_type": "code",
   "execution_count": 29,
   "metadata": {},
   "outputs": [],
   "source": [
    "#df_audio['sex']=df_audio.sex_x"
   ]
  },
  {
   "cell_type": "code",
   "execution_count": 8,
   "metadata": {},
   "outputs": [
    {
     "name": "stdout",
     "output_type": "stream",
     "text": [
      "pitch\n"
     ]
    },
    {
     "data": {
      "image/png": "[encoded data removed]",
      "text/plain": [
       "<Figure size 432x288 with 1 Axes>"
      ]
     },
     "metadata": {
      "needs_background": "light"
     },
     "output_type": "display_data"
    },
    {
     "name": "stdout",
     "output_type": "stream",
     "text": [
      "meanF0Hz\n"
     ]
    },
    {
     "data": {
      "image/png": "[encoded data removed]",
      "text/plain": [
       "<Figure size 432x288 with 1 Axes>"
      ]
     },
     "metadata": {
      "needs_background": "light"
     },
     "output_type": "display_data"
    },
    {
     "name": "stdout",
     "output_type": "stream",
     "text": [
      "stdevF0Hz\n"
     ]
    },
    {
     "data": {
      "image/png": "[encoded data removed]",
      "text/plain": [
       "<Figure size 432x288 with 1 Axes>"
      ]
     },
     "metadata": {
      "needs_background": "light"
     },
     "output_type": "display_data"
    },
    {
     "name": "stdout",
     "output_type": "stream",
     "text": [
      "HNR\n"
     ]
    },
    {
     "data": {
      "image/png": "[encoded data removed]",
      "text/plain": [
       "<Figure size 432x288 with 1 Axes>"
      ]
     },
     "metadata": {
      "needs_background": "light"
     },
     "output_type": "display_data"
    },
    {
     "name": "stdout",
     "output_type": "stream",
     "text": [
      "localJitter\n"
     ]
    },
    {
     "data": {
      "image/png": "[encoded data removed]",
      "text/plain": [
       "<Figure size 432x288 with 1 Axes>"
      ]
     },
     "metadata": {
      "needs_background": "light"
     },
     "output_type": "display_data"
    },
    {
     "name": "stdout",
     "output_type": "stream",
     "text": [
      "localabsoluteJitter\n"
     ]
    },
    {
     "data": {
      "image/png": "[encoded data removed]",
      "text/plain": [
       "<Figure size 432x288 with 1 Axes>"
      ]
     },
     "metadata": {
      "needs_background": "light"
     },
     "output_type": "display_data"
    },
    {
     "name": "stdout",
     "output_type": "stream",
     "text": [
      "rapJitter\n"
     ]
    },
    {
     "data": {
      "image/png": "[encoded data removed]",
      "text/plain": [
       "<Figure size 432x288 with 1 Axes>"
      ]
     },
     "metadata": {
      "needs_background": "light"
     },
     "output_type": "display_data"
    },
    {
     "name": "stdout",
     "output_type": "stream",
     "text": [
      "ppq5Jitter\n"
     ]
    },
    {
     "data": {
      "image/png": "[encoded data removed]",
      "text/plain": [
       "<Figure size 432x288 with 1 Axes>"
      ]
     },
     "metadata": {
      "needs_background": "light"
     },
     "output_type": "display_data"
    },
    {
     "name": "stdout",
     "output_type": "stream",
     "text": [
      "ddpJitter\n"
     ]
    },
    {
     "data": {
      "image/png": "[encoded data removed]",
      "text/plain": [
       "<Figure size 432x288 with 1 Axes>"
      ]
     },
     "metadata": {
      "needs_background": "light"
     },
     "output_type": "display_data"
    },
    {
     "name": "stdout",
     "output_type": "stream",
     "text": [
      "localShimmer\n"
     ]
    },
    {
     "data": {
      "image/png": "[encoded data removed]",
      "text/plain": [
       "<Figure size 432x288 with 1 Axes>"
      ]
     },
     "metadata": {
      "needs_background": "light"
     },
     "output_type": "display_data"
    },
    {
     "name": "stdout",
     "output_type": "stream",
     "text": [
      "localdbShimmer\n"
     ]
    },
    {
     "data": {
      "image/png": "[encoded data removed]",
      "text/plain": [
       "<Figure size 432x288 with 1 Axes>"
      ]
     },
     "metadata": {
      "needs_background": "light"
     },
     "output_type": "display_data"
    },
    {
     "name": "stdout",
     "output_type": "stream",
     "text": [
      "apq3Shimmer\n"
     ]
    },
    {
     "data": {
      "image/png": "[encoded data removed]",
      "text/plain": [
       "<Figure size 432x288 with 1 Axes>"
      ]
     },
     "metadata": {
      "needs_background": "light"
     },
     "output_type": "display_data"
    },
    {
     "name": "stdout",
     "output_type": "stream",
     "text": [
      "apq5Shimmer\n"
     ]
    },
    {
     "data": {
      "image/png": "[encoded data removed]",
      "text/plain": [
       "<Figure size 432x288 with 1 Axes>"
      ]
     },
     "metadata": {
      "needs_background": "light"
     },
     "output_type": "display_data"
    },
    {
     "name": "stdout",
     "output_type": "stream",
     "text": [
      "apq11Shimmer\n"
     ]
    },
    {
     "data": {
      "image/png": "[encoded data removed]",
      "text/plain": [
       "<Figure size 432x288 with 1 Axes>"
      ]
     },
     "metadata": {
      "needs_background": "light"
     },
     "output_type": "display_data"
    },
    {
     "name": "stdout",
     "output_type": "stream",
     "text": [
      "ddaShimmer\n"
     ]
    },
    {
     "data": {
      "image/png": "[encoded data removed]",
      "text/plain": [
       "<Figure size 432x288 with 1 Axes>"
      ]
     },
     "metadata": {
      "needs_background": "light"
     },
     "output_type": "display_data"
    },
    {
     "name": "stdout",
     "output_type": "stream",
     "text": [
      "JitterPCA\n"
     ]
    },
    {
     "data": {
      "image/png": "[encoded data removed]",
      "text/plain": [
       "<Figure size 432x288 with 1 Axes>"
      ]
     },
     "metadata": {
      "needs_background": "light"
     },
     "output_type": "display_data"
    },
    {
     "name": "stdout",
     "output_type": "stream",
     "text": [
      "ShimmerPCA\n"
     ]
    },
    {
     "data": {
      "image/png": "[encoded data removed]",
      "text/plain": [
       "<Figure size 432x288 with 1 Axes>"
      ]
     },
     "metadata": {
      "needs_background": "light"
     },
     "output_type": "display_data"
    },
    {
     "name": "stdout",
     "output_type": "stream",
     "text": [
      "spectrum_0\n"
     ]
    },
    {
     "data": {
      "image/png": "[encoded data removed]",
      "text/plain": [
       "<Figure size 432x288 with 1 Axes>"
      ]
     },
     "metadata": {
      "needs_background": "light"
     },
     "output_type": "display_data"
    },
    {
     "name": "stdout",
     "output_type": "stream",
     "text": [
      "spectrum_1\n"
     ]
    },
    {
     "data": {
      "image/png": "[encoded data removed]",
      "text/plain": [
       "<Figure size 432x288 with 1 Axes>"
      ]
     },
     "metadata": {
      "needs_background": "light"
     },
     "output_type": "display_data"
    },
    {
     "name": "stdout",
     "output_type": "stream",
     "text": [
      "spectrum_2\n"
     ]
    },
    {
     "data": {
      "image/png": "[encoded data removed]",
      "text/plain": [
       "<Figure size 432x288 with 1 Axes>"
      ]
     },
     "metadata": {
      "needs_background": "light"
     },
     "output_type": "display_data"
    },
    {
     "name": "stdout",
     "output_type": "stream",
     "text": [
      "spectrum_4\n"
     ]
    },
    {
     "data": {
      "image/png": "[encoded data removed]",
      "text/plain": [
       "<Figure size 432x288 with 1 Axes>"
      ]
     },
     "metadata": {
      "needs_background": "light"
     },
     "output_type": "display_data"
    },
    {
     "name": "stdout",
     "output_type": "stream",
     "text": [
      "spectrum_3\n"
     ]
    },
    {
     "data": {
      "image/png": "[encoded data removed]",
      "text/plain": [
       "<Figure size 432x288 with 1 Axes>"
      ]
     },
     "metadata": {
      "needs_background": "light"
     },
     "output_type": "display_data"
    },
    {
     "name": "stdout",
     "output_type": "stream",
     "text": [
      "spectrum_5\n"
     ]
    },
    {
     "data": {
      "image/png": "[encoded data removed]",
      "text/plain": [
       "<Figure size 432x288 with 1 Axes>"
      ]
     },
     "metadata": {
      "needs_background": "light"
     },
     "output_type": "display_data"
    },
    {
     "name": "stdout",
     "output_type": "stream",
     "text": [
      "spectrum_6\n"
     ]
    },
    {
     "data": {
      "image/png": "[encoded data removed]",
      "text/plain": [
       "<Figure size 432x288 with 1 Axes>"
      ]
     },
     "metadata": {
      "needs_background": "light"
     },
     "output_type": "display_data"
    },
    {
     "name": "stdout",
     "output_type": "stream",
     "text": [
      "spectrum_7\n"
     ]
    },
    {
     "data": {
      "image/png": "[encoded data removed]",
      "text/plain": [
       "<Figure size 432x288 with 1 Axes>"
      ]
     },
     "metadata": {
      "needs_background": "light"
     },
     "output_type": "display_data"
    },
    {
     "name": "stdout",
     "output_type": "stream",
     "text": [
      "spectrum_8\n"
     ]
    },
    {
     "data": {
      "image/png": "[encoded data removed]",
      "text/plain": [
       "<Figure size 432x288 with 1 Axes>"
      ]
     },
     "metadata": {
      "needs_background": "light"
     },
     "output_type": "display_data"
    },
    {
     "name": "stdout",
     "output_type": "stream",
     "text": [
      "spectrum_9\n"
     ]
    },
    {
     "data": {
      "image/png": "[encoded data removed]",
      "text/plain": [
       "<Figure size 432x288 with 1 Axes>"
      ]
     },
     "metadata": {
      "needs_background": "light"
     },
     "output_type": "display_data"
    },
    {
     "name": "stdout",
     "output_type": "stream",
     "text": [
      "spectrum_10\n"
     ]
    },
    {
     "data": {
      "image/png": "[encoded data removed]",
      "text/plain": [
       "<Figure size 432x288 with 1 Axes>"
      ]
     },
     "metadata": {
      "needs_background": "light"
     },
     "output_type": "display_data"
    },
    {
     "name": "stdout",
     "output_type": "stream",
     "text": [
      "spectrum_11\n"
     ]
    },
    {
     "data": {
      "image/png": "[encoded data removed]",
      "text/plain": [
       "<Figure size 432x288 with 1 Axes>"
      ]
     },
     "metadata": {
      "needs_background": "light"
     },
     "output_type": "display_data"
    },
    {
     "name": "stdout",
     "output_type": "stream",
     "text": [
      "spectrum_12\n"
     ]
    },
    {
     "data": {
      "image/png": "[encoded data removed]",
      "text/plain": [
       "<Figure size 432x288 with 1 Axes>"
      ]
     },
     "metadata": {
      "needs_background": "light"
     },
     "output_type": "display_data"
    },
    {
     "name": "stdout",
     "output_type": "stream",
     "text": [
      "spectrum_13\n"
     ]
    },
    {
     "data": {
      "image/png": "[encoded data removed]",
      "text/plain": [
       "<Figure size 432x288 with 1 Axes>"
      ]
     },
     "metadata": {
      "needs_background": "light"
     },
     "output_type": "display_data"
    },
    {
     "name": "stdout",
     "output_type": "stream",
     "text": [
      "spectrum_14\n"
     ]
    },
    {
     "data": {
      "image/png": "[encoded data removed]",
      "text/plain": [
       "<Figure size 432x288 with 1 Axes>"
      ]
     },
     "metadata": {
      "needs_background": "light"
     },
     "output_type": "display_data"
    },
    {
     "name": "stdout",
     "output_type": "stream",
     "text": [
      "spectrum_15\n"
     ]
    },
    {
     "data": {
      "image/png": "[encoded data removed]",
      "text/plain": [
       "<Figure size 432x288 with 1 Axes>"
      ]
     },
     "metadata": {
      "needs_background": "light"
     },
     "output_type": "display_data"
    },
    {
     "name": "stdout",
     "output_type": "stream",
     "text": [
      "spectrum_16\n"
     ]
    },
    {
     "data": {
      "image/png": "[encoded data removed]",
      "text/plain": [
       "<Figure size 432x288 with 1 Axes>"
      ]
     },
     "metadata": {
      "needs_background": "light"
     },
     "output_type": "display_data"
    },
    {
     "name": "stdout",
     "output_type": "stream",
     "text": [
      "spectrum_17\n"
     ]
    },
    {
     "data": {
      "image/png": "[encoded data removed]",
      "text/plain": [
       "<Figure size 432x288 with 1 Axes>"
      ]
     },
     "metadata": {
      "needs_background": "light"
     },
     "output_type": "display_data"
    },
    {
     "name": "stdout",
     "output_type": "stream",
     "text": [
      "spectrum_18\n"
     ]
    },
    {
     "data": {
      "image/png": "[encoded data removed]",
      "text/plain": [
       "<Figure size 432x288 with 1 Axes>"
      ]
     },
     "metadata": {
      "needs_background": "light"
     },
     "output_type": "display_data"
    },
    {
     "name": "stdout",
     "output_type": "stream",
     "text": [
      "spectrum_19\n"
     ]
    },
    {
     "data": {
      "image/png": "[encoded data removed]",
      "text/plain": [
       "<Figure size 432x288 with 1 Axes>"
      ]
     },
     "metadata": {
      "needs_background": "light"
     },
     "output_type": "display_data"
    },
    {
     "name": "stdout",
     "output_type": "stream",
     "text": [
      "spectrum_20\n"
     ]
    },
    {
     "data": {
      "image/png": "[encoded data removed]",
      "text/plain": [
       "<Figure size 432x288 with 1 Axes>"
      ]
     },
     "metadata": {
      "needs_background": "light"
     },
     "output_type": "display_data"
    },
    {
     "name": "stdout",
     "output_type": "stream",
     "text": [
      "spectrum_21\n"
     ]
    },
    {
     "data": {
      "image/png": "[encoded data removed]",
      "text/plain": [
       "<Figure size 432x288 with 1 Axes>"
      ]
     },
     "metadata": {
      "needs_background": "light"
     },
     "output_type": "display_data"
    },
    {
     "name": "stdout",
     "output_type": "stream",
     "text": [
      "spectrum_22\n"
     ]
    },
    {
     "data": {
      "image/png": "[encoded data removed]",
      "text/plain": [
       "<Figure size 432x288 with 1 Axes>"
      ]
     },
     "metadata": {
      "needs_background": "light"
     },
     "output_type": "display_data"
    },
    {
     "name": "stdout",
     "output_type": "stream",
     "text": [
      "spectrum_23\n"
     ]
    },
    {
     "data": {
      "image/png": "[encoded data removed]",
      "text/plain": [
       "<Figure size 432x288 with 1 Axes>"
      ]
     },
     "metadata": {
      "needs_background": "light"
     },
     "output_type": "display_data"
    },
    {
     "name": "stdout",
     "output_type": "stream",
     "text": [
      "spectrum_24\n"
     ]
    },
    {
     "data": {
      "image/png": "[encoded data removed]",
      "text/plain": [
       "<Figure size 432x288 with 1 Axes>"
      ]
     },
     "metadata": {
      "needs_background": "light"
     },
     "output_type": "display_data"
    },
    {
     "name": "stdout",
     "output_type": "stream",
     "text": [
      "spectrum_25\n"
     ]
    },
    {
     "data": {
      "image/png": "[encoded data removed]",
      "text/plain": [
       "<Figure size 432x288 with 1 Axes>"
      ]
     },
     "metadata": {
      "needs_background": "light"
     },
     "output_type": "display_data"
    },
    {
     "name": "stdout",
     "output_type": "stream",
     "text": [
      "spectrum_26\n"
     ]
    },
    {
     "data": {
      "image/png": "[encoded data removed]",
      "text/plain": [
       "<Figure size 432x288 with 1 Axes>"
      ]
     },
     "metadata": {
      "needs_background": "light"
     },
     "output_type": "display_data"
    },
    {
     "name": "stdout",
     "output_type": "stream",
     "text": [
      "spectrum_27\n"
     ]
    },
    {
     "data": {
      "image/png": "[encoded data removed]",
      "text/plain": [
       "<Figure size 432x288 with 1 Axes>"
      ]
     },
     "metadata": {
      "needs_background": "light"
     },
     "output_type": "display_data"
    },
    {
     "name": "stdout",
     "output_type": "stream",
     "text": [
      "spectrum_28\n"
     ]
    },
    {
     "data": {
      "image/png": "[encoded data removed]",
      "text/plain": [
       "<Figure size 432x288 with 1 Axes>"
      ]
     },
     "metadata": {
      "needs_background": "light"
     },
     "output_type": "display_data"
    },
    {
     "name": "stdout",
     "output_type": "stream",
     "text": [
      "spectrum_29\n"
     ]
    },
    {
     "data": {
      "image/png": "[encoded data removed]",
      "text/plain": [
       "<Figure size 432x288 with 1 Axes>"
      ]
     },
     "metadata": {
      "needs_background": "light"
     },
     "output_type": "display_data"
    },
    {
     "name": "stdout",
     "output_type": "stream",
     "text": [
      "spectrum_30\n"
     ]
    },
    {
     "data": {
      "image/png": "[encoded data removed]",
      "text/plain": [
       "<Figure size 432x288 with 1 Axes>"
      ]
     },
     "metadata": {
      "needs_background": "light"
     },
     "output_type": "display_data"
    },
    {
     "name": "stdout",
     "output_type": "stream",
     "text": [
      "spectrum_31\n"
     ]
    },
    {
     "data": {
      "image/png": "[encoded data removed]",
      "text/plain": [
       "<Figure size 432x288 with 1 Axes>"
      ]
     },
     "metadata": {
      "needs_background": "light"
     },
     "output_type": "display_data"
    },
    {
     "name": "stdout",
     "output_type": "stream",
     "text": [
      "spectrum_32\n"
     ]
    },
    {
     "data": {
      "image/png": "[encoded data removed]",
      "text/plain": [
       "<Figure size 432x288 with 1 Axes>"
      ]
     },
     "metadata": {
      "needs_background": "light"
     },
     "output_type": "display_data"
    },
    {
     "name": "stdout",
     "output_type": "stream",
     "text": [
      "spectrum_33\n"
     ]
    },
    {
     "data": {
      "image/png": "[encoded data removed]",
      "text/plain": [
       "<Figure size 432x288 with 1 Axes>"
      ]
     },
     "metadata": {
      "needs_background": "light"
     },
     "output_type": "display_data"
    },
    {
     "name": "stdout",
     "output_type": "stream",
     "text": [
      "spectrum_34\n"
     ]
    },
    {
     "data": {
      "image/png": "[encoded data removed]",
      "text/plain": [
       "<Figure size 432x288 with 1 Axes>"
      ]
     },
     "metadata": {
      "needs_background": "light"
     },
     "output_type": "display_data"
    },
    {
     "name": "stdout",
     "output_type": "stream",
     "text": [
      "spectrum_35\n"
     ]
    },
    {
     "data": {
      "image/png": "[encoded data removed]",
      "text/plain": [
       "<Figure size 432x288 with 1 Axes>"
      ]
     },
     "metadata": {
      "needs_background": "light"
     },
     "output_type": "display_data"
    },
    {
     "name": "stdout",
     "output_type": "stream",
     "text": [
      "spectrum_36\n"
     ]
    },
    {
     "data": {
      "image/png": "[encoded data removed]",
      "text/plain": [
       "<Figure size 432x288 with 1 Axes>"
      ]
     },
     "metadata": {
      "needs_background": "light"
     },
     "output_type": "display_data"
    },
    {
     "name": "stdout",
     "output_type": "stream",
     "text": [
      "spectrum_37\n"
     ]
    },
    {
     "data": {
      "image/png": "[encoded data removed]",
      "text/plain": [
       "<Figure size 432x288 with 1 Axes>"
      ]
     },
     "metadata": {
      "needs_background": "light"
     },
     "output_type": "display_data"
    },
    {
     "name": "stdout",
     "output_type": "stream",
     "text": [
      "spectrum_38\n"
     ]
    },
    {
     "data": {
      "image/png": "[encoded data removed]",
      "text/plain": [
       "<Figure size 432x288 with 1 Axes>"
      ]
     },
     "metadata": {
      "needs_background": "light"
     },
     "output_type": "display_data"
    },
    {
     "name": "stdout",
     "output_type": "stream",
     "text": [
      "spectrum_39\n"
     ]
    },
    {
     "data": {
      "image/png": "[encoded data removed]",
      "text/plain": [
       "<Figure size 432x288 with 1 Axes>"
      ]
     },
     "metadata": {
      "needs_background": "light"
     },
     "output_type": "display_data"
    }
   ],
   "source": [
    "a=0\n",
    "for i in audio:\n",
    "    print (i)\n",
    "    plt.hist(((df_audio[df_audio.asc==0].groupby('vpn').mean()[i])))\n",
    "    plt.show()\n"
   ]
  },
  {
   "cell_type": "code",
   "execution_count": 9,
   "metadata": {},
   "outputs": [
    {
     "ename": "SyntaxError",
     "evalue": "invalid syntax (<ipython-input-9-de9f99a3dcc2>, line 1)",
     "output_type": "error",
     "traceback": [
      "\u001b[1;36m  File \u001b[1;32m\"<ipython-input-9-de9f99a3dcc2>\"\u001b[1;36m, line \u001b[1;32m1\u001b[0m\n\u001b[1;33m    y, sr = librosa.load(audio_file, sr=None) // sr is none so librosa can sample the audion using the convenient sr\u001b[0m\n\u001b[1;37m                                                             ^\u001b[0m\n\u001b[1;31mSyntaxError\u001b[0m\u001b[1;31m:\u001b[0m invalid syntax\n"
     ]
    }
   ],
   "source": [
    "y, sr = librosa.load(audio_file, sr=None) // sr is none so librosa can sample the audion using the convenient sr\n",
    "mfccs = librosa.feature.mfcc(y, sr, n_mfcc=13, hop_length=int(0.010sr), n_fft=int(0.025sr))\n",
    "-To set the width of window to 25 ms you have tu multiply the sr and 0.025.The reason behind that is that sr is the number of samples in one second. so to get the number of samples in 25ms you have to multiply by 0.025.\n",
    "-same thing for the stride, to get a stride of 10 ms, you need to multiply the sr and 0.010."
   ]
  },
  {
   "cell_type": "code",
   "execution_count": null,
   "metadata": {
    "collapsed": true
   },
   "outputs": [],
   "source": [
    "# Graphs for audio\n",
    "\n",
    "time = [i*rate for i in range(1,rmse.shape[1]+1)] #get corresponding time values for frames\n",
    "plt.figure(1)\n",
    "plt.plot(time, rmse[0])\n",
    "plt.show()\n",
    "\n",
    "\n",
    "y, sr = librosa.load(conv_path)\n",
    "S=librosa.feature.melspectrogram(y=y, sr=sr)\n",
    "librosa.display.specshow(librosa.power_to_db(D, ref=np.max), y_axis='log', x_axis='time')\n",
    "plt.title('Power spectrogram')\n",
    "plt.colorbar(format='%+2.0f dB')\n",
    "plt.tight_layout()\n",
    "plt.show()\n",
    "\n",
    "zcrs = librosa.feature.zero_crossing_rate(data)\n",
    "plt.figure(2)\n",
    "plt.plot(time, zcrs[0])\n",
    "plt.show()"
   ]
  },
  {
   "cell_type": "code",
   "execution_count": null,
   "metadata": {
    "collapsed": true
   },
   "outputs": [],
   "source": []
  },
  {
   "cell_type": "code",
   "execution_count": null,
   "metadata": {
    "collapsed": true
   },
   "outputs": [],
   "source": []
  },
  {
   "cell_type": "code",
   "execution_count": null,
   "metadata": {
    "collapsed": true
   },
   "outputs": [],
   "source": []
  }
 ],
 "metadata": {
  "kernelspec": {
   "display_name": "Python 3",
   "language": "python",
   "name": "python3"
  },
  "language_info": {
   "codemirror_mode": {
    "name": "ipython",
    "version": 3
   },
   "file_extension": ".py",
   "mimetype": "text/x-python",
   "name": "python",
   "nbconvert_exporter": "python",
   "pygments_lexer": "ipython3",
   "version": "3.7.1"
  }
 },
 "nbformat": 4,
 "nbformat_minor": 2
}
