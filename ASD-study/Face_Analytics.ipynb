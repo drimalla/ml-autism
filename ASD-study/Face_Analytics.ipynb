{
 "cells": [
  {
   "cell_type": "markdown",
   "metadata": {
    "collapsed": true
   },
   "source": [
    "## Combining the CSV of all Participants"
   ]
  },
  {
   "cell_type": "code",
   "execution_count": null,
   "metadata": {},
   "outputs": [],
   "source": [
    "import os\n",
    "import sys\n",
    "print (os.getcwd())\n",
    "sys.path.append('/home/Hanna.Drimalla/ml-autism/scripts')\n",
    "\n",
    "import pandas as pd\n",
    "import datetime as dt\n",
    "import imageio\n",
    "import numpy as np\n",
    "import subprocess\n",
    "import seaborn as sns\n",
    "import matplotlib.pyplot as plt\n",
    "\n",
    "import scipy\n",
    "from scipy import stats\n",
    "from statsmodels.formula.api import ols\n",
    "from statsmodels.stats.anova import anova_lm\n",
    "from statsmodels.graphics.factorplots import interaction_plot\n",
    "from statsmodels.regression.mixed_linear_model import MixedLMParams\n",
    "from statsmodels.stats.weightstats import DescrStatsW\n",
    "\n",
    "import mystats \n",
    "\n",
    "import statsmodels.stats.api as sms\n",
    "import statsmodels.api as sm\n",
    "import statsmodels.formula.api as smf\n",
    "import sklearn\n",
    "\n",
    "from scipy.stats.mstats import zscore\n",
    "from mpl_toolkits.mplot3d import Axes3D\n",
    "from sklearn import decomposition\n",
    "from sklearn.decomposition import PCA as sklearnPCA\n",
    "from sklearn.preprocessing import StandardScaler\n",
    "import scipy.cluster.hierarchy as hac\n",
    "from sklearn.pipeline import Pipeline\n",
    "from sklearn.preprocessing import PolynomialFeatures\n",
    "from sklearn.linear_model import LinearRegression\n",
    "\n",
    "import mycharite\n",
    "\n",
    "import warnings\n",
    "warnings.simplefilter('ignore')"
   ]
  },
  {
   "cell_type": "markdown",
   "metadata": {},
   "source": [
    "## Analysis of SSI-Video itself"
   ]
  },
  {
   "cell_type": "code",
   "execution_count": null,
   "metadata": {},
   "outputs": [],
   "source": [
    "study='charite'\n",
    "VIT=mycharite.load_VIT_actress_AU()\n",
    "\n",
    "print (len(VIT))\n",
    "VIT=VIT[VIT.success==1].reset_index(drop=True) #exclude non-sucessfull tracks\n",
    "print (len(VIT))\n",
    "print ('all non-successfully tracked frames excluded')\n",
    "\n",
    "VIT=VIT[VIT.confidence>0.75].reset_index(drop=True)\n",
    "print ('all frames excluded that were tracked with a lower confidence than 0.75')\n",
    "print (len(VIT))\n",
    "\n",
    "\n",
    "#VIT=mycharite.outlier_trials(VIT,['AU06_r', 'AU12_r','AU15_r', 'AU09_r', 'AU04_r'], 'sd')\n",
    "print (len(VIT))\n",
    "\n",
    "#a=VIT[VIT.conversation_part>1].groupby('frame').mean()[['AU06_r', 'AU12_r','AU15_r', 'AU09_r', 'AU04_r']]\n",
    "a=VIT[VIT.conversation_part>1].groupby('conversation_part').mean()[['AU06_c', 'AU12_c','AU15_c', 'AU09_c', 'AU04_c']]\n",
    "\n",
    "print (a)\n",
    "\n",
    "plt.plot(a)\n",
    "#plt.legend(['AU06_c', 'AU12_c', 'AU15_c', 'AU09_c',  'AU04_c'])# da stimmt was mit der LEgende nicht!!\n",
    "plt.savefig('AU_actress.png')\n",
    "plt.show()\n",
    "\n",
    "a=VIT[VIT.conversation_part>1].groupby('conversation_part').std()[['AU06_c', 'AU12_c','AU15_c', 'AU09_c', 'AU04_c']]\n",
    "print (a)"
   ]
  },
  {
   "cell_type": "code",
   "execution_count": null,
   "metadata": {},
   "outputs": [],
   "source": [
    "var=['AU06_r', 'AU12_r','AU15_r', 'AU09_r', 'AU04_r']\n",
    "#speaking\n",
    "print ('joy')\n",
    "for i in var:\n",
    "    print (i)\n",
    "\n",
    "    print (np.mean(VIT[VIT.conversation_part==4][i]))\n",
    "\n",
    "print ('disgust')\n",
    "for i in var:\n",
    "    print (i)\n",
    "    print (np.mean(VIT[VIT.conversation_part==6][i]))"
   ]
  },
  {
   "cell_type": "code",
   "execution_count": null,
   "metadata": {},
   "outputs": [],
   "source": [
    "var=['AU06_r', 'AU12_r','AU15_r', 'AU09_r', 'AU04_r']\n",
    "#speaking\n",
    "print ('joy')\n",
    "for i in var:\n",
    "    print (i)\n",
    "\n",
    "    print (np.mean(VIT[VIT.conversation_part==5][i]))\n",
    "\n",
    "print ('disgust')\n",
    "for i in var:\n",
    "    print (i)\n",
    "    print (np.mean(VIT[VIT.conversation_part==7][i]))"
   ]
  },
  {
   "cell_type": "code",
   "execution_count": null,
   "metadata": {},
   "outputs": [],
   "source": [
    "#speaking\n",
    "var=['AU06_c', 'AU12_c']\n",
    "for i in var:\n",
    "    print (i)\n",
    "    speaks=VIT[(VIT.conversation_part==2) | (VIT.conversation_part==4) | (VIT.conversation_part==6)]\n",
    "    listens=VIT[(VIT.conversation_part==3) | (VIT.conversation_part==5) | (VIT.conversation_part==7)]\n",
    "    print(np.mean(speaks[i]))\n",
    "    print(np.mean(listens[i]))\n",
    "    #mystats.two_ind_sample_tests(speaks, listens, i)"
   ]
  },
  {
   "cell_type": "code",
   "execution_count": null,
   "metadata": {
    "collapsed": true
   },
   "outputs": [],
   "source": [
    "def what_is():\n",
    "    for i in set(VIT.conversation_part):\n",
    "        print (i)\n",
    "        print (len(VIT[VIT.conversation_part==i])/25)\n",
    "\n",
    "    print (len(VIT)/25)\n",
    "    len(onep)/30\n",
    "\n",
    "    df_vpn=df[df.vpn==4]\n",
    "\n",
    "    for i in set(df_vpn.conversation):\n",
    "        print (i)\n",
    "        print (len(df_vpn[df_vpn.conversation==i])/25)\n",
    "\n",
    "    print (len(VIT)/25)\n",
    "    len(df_vpn)/30"
   ]
  },
  {
   "cell_type": "markdown",
   "metadata": {},
   "source": [
    "# Analysis of Charite Data"
   ]
  },
  {
   "cell_type": "markdown",
   "metadata": {},
   "source": [
    "### Load dataframe"
   ]
  },
  {
   "cell_type": "code",
   "execution_count": null,
   "metadata": {},
   "outputs": [],
   "source": [
    "VIT=mycharite.load_VIT_actress_AU()\n",
    "df, df_audio, action_r, action_c, gaze, audio =mycharite.load('charite')\n",
    "mimicry, new_features=mycharite.calc_mim(df, VIT)\n",
    "df=pd.merge(df, mimicry, on='vpn')\n",
    "\n",
    "df=mycharite.aq_charite(df)\n",
    "df=mycharite.ados_charite(df)\n",
    "df=mycharite.adapt_times(df)"
   ]
  },
  {
   "cell_type": "code",
   "execution_count": null,
   "metadata": {
    "scrolled": false
   },
   "outputs": [],
   "source": [
    "#mycharite.check(df)\n",
    "print ('NT ' + str(sum(df.groupby('vpn').mean().asc==0)))\n",
    "print ('ASC ' + str(sum(df.groupby('vpn').mean().asc==1)))"
   ]
  },
  {
   "cell_type": "code",
   "execution_count": null,
   "metadata": {},
   "outputs": [],
   "source": [
    "print (len(action_r))"
   ]
  },
  {
   "cell_type": "markdown",
   "metadata": {},
   "source": [
    "### Korrelation of Diagnosis and AQ"
   ]
  },
  {
   "cell_type": "code",
   "execution_count": null,
   "metadata": {},
   "outputs": [],
   "source": [
    "from scipy import stats\n",
    "df_aq=df.groupby('vpn').mean().dropna(subset=['asq']).reset_index(drop=True)\n",
    "print (stats.pointbiserialr(df_aq.asc, df_aq.asq))"
   ]
  },
  {
   "cell_type": "markdown",
   "metadata": {},
   "source": [
    "### Distribution of AQ in NT and ASC"
   ]
  },
  {
   "cell_type": "code",
   "execution_count": null,
   "metadata": {},
   "outputs": [],
   "source": [
    "df[df.asq>0].groupby('vpn').mean().groupby('asc')['asq'].describe()"
   ]
  },
  {
   "cell_type": "markdown",
   "metadata": {},
   "source": [
    "### Was the Feature Extraction Successfull and Complete for all Subjects?"
   ]
  },
  {
   "cell_type": "code",
   "execution_count": null,
   "metadata": {
    "collapsed": true
   },
   "outputs": [],
   "source": [
    "def show_success_vpn(df):\n",
    "    for i in set(df.vpn):\n",
    "        print (i)\n",
    "        print (len(df[df.vpn==i]))      \n",
    "        print ('sucess')\n",
    "        print (np.mean(df[df.vpn==i].success))  # Number of sucessfull trackted trials!\n",
    "        print (np.mean(df[df.vpn==i].success)/len(df[df.vpn==i]))  "
   ]
  },
  {
   "cell_type": "markdown",
   "metadata": {},
   "source": [
    "#### Unterscheiden sich die Gruppen hinsichtlich, wie gut sie erkannt wurden?"
   ]
  },
  {
   "cell_type": "code",
   "execution_count": null,
   "metadata": {},
   "outputs": [],
   "source": [
    "print (np.mean(df.success))\n",
    "print (np.std(df.success))\n",
    "\n",
    "print (np.mean(df.confidence))\n",
    "print (np.std(df.confidence))\n",
    "print (np.mean(df.confidence)-3*np.std(df.confidence))\n",
    "print (np.min(df.groupby('vpn').mean().confidence))\n",
    "\n",
    "print ('NT')\n",
    "print (np.mean(df[df.asc==0].groupby('vpn').mean().success))\n",
    "print (np.std(df[df.asc==0].groupby('vpn').mean().confidence))\n",
    "print (np.mean(df[df.asc==0].groupby('vpn').mean().confidence))\n",
    "\n",
    "print ('ASC')\n",
    "print (np.mean(df[df.asc==1].groupby('vpn').mean().success))\n",
    "print (np.mean(df[df.asc==1].groupby('vpn').mean().confidence))\n",
    "print (np.std(df[df.asc==1].groupby('vpn').mean().confidence))\n",
    "\n",
    "print (scipy.stats.ttest_ind(df[df.asc==0].groupby('vpn').mean().confidence, \n",
    "                             df[df.asc==1].groupby('vpn').mean().confidence))"
   ]
  },
  {
   "cell_type": "markdown",
   "metadata": {
    "collapsed": true
   },
   "source": [
    "### Exclude non-confident trials and Outliers"
   ]
  },
  {
   "cell_type": "code",
   "execution_count": null,
   "metadata": {},
   "outputs": [],
   "source": [
    "df=mycharite.exclude_outlier(df)"
   ]
  },
  {
   "cell_type": "code",
   "execution_count": null,
   "metadata": {
    "collapsed": true
   },
   "outputs": [],
   "source": [
    "def outlier_detection(df):\n",
    "    var=['AU06_r', 'AU12_r', 'AU04_r']\n",
    "    for vpn in set(df.vpn):\n",
    "        df.loc[(df.vpn==vpn), :]=mycharite.outlier_trials(df.loc[(df.vpn==vpn), :], var, 'iq')\n",
    "    return df\n",
    "\n",
    "# this excludes a lot of frames - thus might not be useful as non-normally distributed"
   ]
  },
  {
   "cell_type": "markdown",
   "metadata": {},
   "source": [
    "### Descriptives"
   ]
  },
  {
   "cell_type": "code",
   "execution_count": null,
   "metadata": {},
   "outputs": [],
   "source": [
    "face=['AU04_r', 'AU06_r', 'AU09_r', 'AU12_r']\n",
    "new_features=new_features+face\n",
    "for i in new_features:\n",
    "    print (i)\n",
    "    print (df.groupby('vpn').mean().groupby('asc')[i].describe())"
   ]
  },
  {
   "cell_type": "markdown",
   "metadata": {},
   "source": [
    "###  Smoothing the Signal"
   ]
  },
  {
   "cell_type": "code",
   "execution_count": null,
   "metadata": {
    "collapsed": true
   },
   "outputs": [],
   "source": [
    "def smooth(df):\n",
    "    round_df=df\n",
    "    for i in set(df.vpn):\n",
    "        for au in action_r:\n",
    "            round_df.loc[round_df.vpn==i, au]=round_df.loc[round_df.vpn==i, au].rolling(30, win_type='triang').mean()\n",
    "    return round_df"
   ]
  },
  {
   "cell_type": "markdown",
   "metadata": {},
   "source": [
    "# 1) Mimicry of Joy and Disgust "
   ]
  },
  {
   "cell_type": "markdown",
   "metadata": {},
   "source": [
    "First, we checked whether the participants showed a similar feeling as the actress in the conversation part of disgust and joy. We compared the facial expression with the facial expression of the neutral part."
   ]
  },
  {
   "cell_type": "code",
   "execution_count": null,
   "metadata": {
    "collapsed": true
   },
   "outputs": [],
   "source": [
    "df['AU_joy']=(df.AU12_r + df.AU06_r)/2\n",
    "df['AU_disgust']=df.AU04_r"
   ]
  },
  {
   "cell_type": "code",
   "execution_count": null,
   "metadata": {
    "collapsed": true
   },
   "outputs": [],
   "source": [
    "df_neutral=df[((df.conversation=='neutral_speaker')|(df.conversation=='neutral_participant'))].groupby(['vpn']).mean().reset_index(drop=True)"
   ]
  },
  {
   "cell_type": "markdown",
   "metadata": {},
   "source": [
    "## Joy"
   ]
  },
  {
   "cell_type": "code",
   "execution_count": null,
   "metadata": {},
   "outputs": [],
   "source": [
    "#compared to neutral\n",
    "df_joy=df[((df.conversation=='joy_speaker') |(df.conversation=='joy_participant'))].groupby(['vpn']).mean().reset_index(drop=True)\n",
    "print ('AU06_C')\n",
    "mystats.two_dep_sample_tests(df_neutral, df_joy, 'AU06_c')\n",
    "print ('AU12_C')\n",
    "mystats.two_dep_sample_tests(df_neutral, df_joy, 'AU12_c')\n",
    "\n",
    "#compared to neutral\n",
    "df_joy=df[((df.conversation=='joy_speaker') |(df.conversation=='joy_participant'))].groupby(['vpn']).mean().reset_index(drop=True)\n",
    "print ('AU06_r')\n",
    "mystats.two_dep_sample_tests(df_neutral, df_joy, 'AU06_r')\n",
    "print ('AU12_r')\n",
    "mystats.two_dep_sample_tests(df_neutral, df_joy, 'AU12_r')"
   ]
  },
  {
   "cell_type": "markdown",
   "metadata": {},
   "source": [
    "## Disgust"
   ]
  },
  {
   "cell_type": "code",
   "execution_count": null,
   "metadata": {},
   "outputs": [],
   "source": [
    "#compared to neutral\n",
    "df_disgust=df[((df.conversation=='disgust_speaker')|(df.conversation=='disgust_participant'))].groupby(['vpn']).mean().reset_index(drop=True)\n",
    "#my.two_ind_sample_tests(df_disgust, df_neutral, 'AU04_r')\n",
    "\n",
    "mystats.two_dep_sample_tests(df_neutral, df_disgust, 'AU04_c')\n",
    "mystats.two_dep_sample_tests(df_neutral, df_disgust, 'AU04_r')"
   ]
  },
  {
   "cell_type": "markdown",
   "metadata": {},
   "source": [
    "## 2) Statistical Comparing the AU of ASD and NT"
   ]
  },
  {
   "cell_type": "code",
   "execution_count": null,
   "metadata": {
    "collapsed": true
   },
   "outputs": [],
   "source": [
    "def group_comparison(df):\n",
    "    print ('joy')\n",
    "    df_joy=df[((df.conversation=='joy_speaker') |(df.conversation=='joy_participant'))].groupby(['vpn']).mean().reset_index(drop=True)\n",
    "\n",
    "    df_nt=df_joy[df_joy.asc==0]\n",
    "    df_asc=df_joy[df_joy.asc==1]\n",
    "\n",
    "    print ('AU_06c')\n",
    "    mystats.two_ind_sample_tests(df_nt, df_asc, 'AU06_c')\n",
    "\n",
    "    print ('AU_06r')\n",
    "    mystats.two_ind_sample_tests(df_nt, df_asc, 'AU06_r')\n",
    "\n",
    "    print ('AU12_c')\n",
    "    U,p= scipy.stats.mannwhitneyu(df_nt['AU12_c'], df_asc['AU12_c'])\n",
    "    mystats.two_ind_sample_tests(df_nt, df_asc, 'AU12_c')\n",
    "    n1=len(df_nt['AU12_c'])\n",
    "    n2=len(df_asc['AU12_c'])\n",
    "    effectsize=1-(2*U/(n1*n2))\n",
    "    print (effectsize)\n",
    "    print ('AU_12r')\n",
    "    mystats.two_ind_sample_tests(df_nt, df_asc, 'AU12_r')\n",
    "\n",
    "\n",
    "    print ('disgust')\n",
    "    df_disgust=df[((df.conversation=='disgust_speaker')|(df.conversation=='disgust_participant'))].groupby(['vpn']).mean().reset_index(drop=True)\n",
    "\n",
    "    df_nt=df_disgust[df_disgust.asc==0]\n",
    "    df_asc=df_disgust[df_disgust.asc==1]\n",
    "    print('AU04_c')\n",
    "    mystats.two_ind_sample_tests(df_nt, df_asc, 'AU04_c')\n",
    "    print('AU04_r')\n",
    "    mystats.two_ind_sample_tests(df_nt, df_asc, 'AU04_r')\n",
    "\n",
    "\n",
    "    print ('complete conversation')\n",
    "    df=df[df.conversation!='intro']\n",
    "\n",
    "    df_nt=df[df.asc==0].groupby(['vpn']).mean().reset_index(drop=True)\n",
    "    df_asc=df[df.asc==1].groupby(['vpn']).mean().reset_index(drop=True)\n",
    "    print ('AU12_C')\n",
    "    mystats.two_ind_sample_tests(df_nt, df_asc, 'AU12_c')\n",
    "    print ('AU12_r')\n",
    "    mystats.two_ind_sample_tests(df_nt, df_asc, 'AU12_r')\n",
    "    print ('AU06_C')\n",
    "    mystats.two_ind_sample_tests(df_nt, df_asc, 'AU06_c')\n",
    "    print ('AU06_r')\n",
    "    mystats.two_ind_sample_tests(df_nt, df_asc, 'AU06_r')"
   ]
  },
  {
   "cell_type": "code",
   "execution_count": null,
   "metadata": {},
   "outputs": [],
   "source": [
    "group_comparison(df)"
   ]
  },
  {
   "cell_type": "code",
   "execution_count": null,
   "metadata": {
    "collapsed": true
   },
   "outputs": [],
   "source": [
    "def mimicry_group_conversation(df, features):\n",
    "    print ('complete conversation')\n",
    "    df=df[df.conversation!='intro']\n",
    "    \n",
    "    df_nt=df[df.asc==0].groupby(['vpn']).mean().reset_index(drop=True)\n",
    "    df_asc=df[df.asc==1].groupby(['vpn']).mean().reset_index(drop=True)\n",
    "    for fea in features:\n",
    "\n",
    "        print (fea)\n",
    "        mystats.two_ind_sample_tests(df_nt[df_nt[fea]>0], df_asc[df_asc[fea]>0], fea)\n",
    "    "
   ]
  },
  {
   "cell_type": "code",
   "execution_count": null,
   "metadata": {},
   "outputs": [],
   "source": [
    "features=['correlation_AU06_c', 'correlation_AU12_c', 'correlation_AU15_r',\n",
    "   'correlation_AU09_r', 'correlation_AU04_r', 'correlation_AU15_c',\n",
    "   'correlation_AU09_c', 'correlation_AU04_c',\n",
    "         'correlation_gaze_angle_x', 'correlation_gaze_angle_y']\n",
    "\n",
    "mimicry_group_conversation(df, features)"
   ]
  },
  {
   "cell_type": "code",
   "execution_count": null,
   "metadata": {},
   "outputs": [],
   "source": [
    "mimicry_group_conversation(df, features)"
   ]
  },
  {
   "cell_type": "code",
   "execution_count": null,
   "metadata": {
    "collapsed": true
   },
   "outputs": [],
   "source": [
    "#FEMALE\n",
    "def gender_based_analysis (df):\n",
    "    print ('female')\n",
    "    group_comparison(df[df.sex==1])\n",
    "    print ('male')\n",
    "    group_comparison(df[df.sex==2])"
   ]
  },
  {
   "cell_type": "code",
   "execution_count": null,
   "metadata": {},
   "outputs": [],
   "source": [
    "def time_plot(df, var, title):\n",
    "    plt.plot(np.array(df[df.asc==1].reset_index(drop=True).groupby(['counter']).mean()[var]), color='green')\n",
    "    plt.plot(np.array(df[df.asc==0].reset_index(drop=True).groupby(['counter']).mean()[var]), color='blue')\n",
    "    #scale!!!\n",
    "    plt.title(str(title))\n",
    "    plt.show()\n",
    "  \n",
    "   \n",
    "for con in np.unique(df.conversation):\n",
    "    time_plot(df[df.conversation==con], 'AU12_r', con) #sc"
   ]
  },
  {
   "cell_type": "code",
   "execution_count": null,
   "metadata": {
    "collapsed": true
   },
   "outputs": [],
   "source": [
    "df['proband']=(df.conversation=='joy_participant')|(df.conversation=='disgust_participant')|(df.conversation=='neutral_participant')\n",
    "df['actress']=(df.conversation=='joy_speaker')|(df.conversation=='disgust_speaker')|(df.conversation=='neutral_speaker')\n",
    "df.loc[(df.conversation!='intro'), \"whospeaks\"] = df[['proband', 'actress']].idxmax(axis=1) "
   ]
  },
  {
   "cell_type": "code",
   "execution_count": null,
   "metadata": {
    "collapsed": true
   },
   "outputs": [],
   "source": [
    "df.columns\n",
    "from sklearn.preprocessing import LabelEncoder\n",
    "\n",
    "LE = LabelEncoder()\n",
    "df['conversationpart'] = LE.fit_transform(df['conversation'])"
   ]
  },
  {
   "cell_type": "code",
   "execution_count": null,
   "metadata": {},
   "outputs": [],
   "source": [
    "print ('AU12')\n",
    "data=df[df.sex==1].groupby(['vpn', 'conversationpart']).mean().reset_index()\n",
    "model = sm.MixedLM.from_formula('AU12_c' + \" ~ asc*conversationpart\", data, groups=data['vpn']) #, re_formula=\"~conversationpart\")\n",
    "mdf = model.fit()\n",
    "print(mdf.summary())"
   ]
  },
  {
   "cell_type": "code",
   "execution_count": null,
   "metadata": {},
   "outputs": [],
   "source": [
    "plt.hist(df.groupby(['vpn']).mean().reset_index().AU12_r)\n",
    "plt.show()"
   ]
  },
  {
   "cell_type": "markdown",
   "metadata": {},
   "source": [
    "## Mimicry-Analysis"
   ]
  },
  {
   "cell_type": "code",
   "execution_count": null,
   "metadata": {},
   "outputs": [],
   "source": [
    "new_features=['AU06_r', 'AU12_r']\n",
    "for i in new_features:\n",
    "    print (i)\n",
    "    plt.hist(df[df.asc==0].groupby(['vpn']).mean().reset_index()[i], color='blue')\n",
    "    print (np.mean(df[df.asc==0].groupby(['vpn']).mean().reset_index()[i]))\n",
    "    plt.hist(df[df.asc==1].groupby(['vpn']).mean().reset_index()[i], color='red')\n",
    "    print (np.mean(df[df.asc==1].groupby(['vpn']).mean().reset_index()[i]))\n",
    "    plt.show()\n",
    "    print (scipy.stats.ttest_ind((df[df.asc==0].groupby(['vpn']).mean().reset_index()[i]), \n",
    "           (df[df.asc==1].groupby(['vpn']).mean().reset_index()[i])))"
   ]
  },
  {
   "cell_type": "code",
   "execution_count": null,
   "metadata": {},
   "outputs": [],
   "source": [
    "print ('AU12')\n",
    "data=df.groupby(['vpn', 'conversationpart']).mean().reset_index()\n",
    "model = sm.MixedLM.from_formula('AU12_c' + \" ~ asc+sex\", data, groups=data['vpn']) #, re_formula=\"~conversationpart\")\n",
    "mdf = model.fit()\n",
    "print(mdf.summary())\n",
    "\n",
    "print ('AU12')\n",
    "data=df.groupby(['vpn', 'conversationpart']).mean().reset_index()\n",
    "model = sm.MixedLM.from_formula('AU12_r' + \" ~ asc\", data, groups=data['vpn']) #, re_formula=\"~conversationpart\")\n",
    "mdf = model.fit()\n",
    "print(mdf.summary())"
   ]
  },
  {
   "cell_type": "code",
   "execution_count": null,
   "metadata": {},
   "outputs": [],
   "source": [
    "print ('AU12')\n",
    "data=df[df.sex==2].groupby(['vpn', 'conversationpart']).mean().reset_index()\n",
    "model = sm.MixedLM.from_formula('AU12_c' + \" ~ asc*conversationpart\", data, groups=data['vpn']) #, re_formula=\"~conversationpart\")\n",
    "mdf = model.fit()\n",
    "print(mdf.summary())"
   ]
  },
  {
   "cell_type": "code",
   "execution_count": null,
   "metadata": {},
   "outputs": [],
   "source": [
    "print ('AU12')\n",
    "data=df[df.sex==1].groupby(['vpn', 'conversationpart']).mean().reset_index()\n",
    "model = sm.MixedLM.from_formula('AU12_r' + \" ~ asc*conversationpart\", data, groups=data['vpn']) #, re_formula=\"~conversationpart\")\n",
    "mdf = model.fit()\n",
    "print(mdf.summary())"
   ]
  },
  {
   "cell_type": "code",
   "execution_count": null,
   "metadata": {},
   "outputs": [],
   "source": [
    "print ('AU12')\n",
    "data=df[df.sex==2].groupby(['vpn', 'conversationpart']).mean().reset_index()\n",
    "model = sm.MixedLM.from_formula('AU12_r' + \" ~ asc*conversationpart\", data, groups=data['vpn']) #, re_formula=\"~conversationpart\")\n",
    "mdf = model.fit()\n",
    "print(mdf.summary())"
   ]
  },
  {
   "cell_type": "code",
   "execution_count": null,
   "metadata": {},
   "outputs": [],
   "source": [
    "print ('AU12')\n",
    "data=df.groupby(['vpn', 'conversationpart']).mean().reset_index()\n",
    "model = sm.MixedLM.from_formula('AU06_r' + \" ~ asc*conversationpart\", data, groups=data['vpn']) #, re_formula=\"~conversationpart\")\n",
    "mdf = model.fit()\n",
    "print(mdf.summary())"
   ]
  },
  {
   "cell_type": "code",
   "execution_count": null,
   "metadata": {},
   "outputs": [],
   "source": [
    "def AUboxplot_ASC_NT(df):\n",
    "    relevant_AU=['AU06_r', 'AU12_r']#, 'AU09_r','AU15_r', 'AU04_r']\n",
    "    for i in relevant_AU:\n",
    "        plt.figure(figsize=(18, 8)) \n",
    "        fig=sns.violinplot(x='conversation', y=i, hue='asc', data=df)\n",
    "        plt.yticks(fontsize=16)    \n",
    "        plt.xticks(fontsize=16)  \n",
    "        plt.xlabel('Conversation Parts', fontsize=18) \n",
    "        plt.ylabel(('Intensity of Action Unit ' + str(i)), fontsize=18)\n",
    "        plt.legend(title='ASC', loc = \"upper left\", fontsize=16)\n",
    "        plt.savefig('AU_'+ str(i) + '_.png')\n",
    "        #print (df[df.asc==0].reset_index(drop=True).groupby(['vpn', 'conversation']).mean()[i])\n",
    "        plt.show()\n",
    "AUboxplot_ASC_NT(df)"
   ]
  },
  {
   "cell_type": "code",
   "execution_count": null,
   "metadata": {},
   "outputs": [],
   "source": [
    "relevant_AU=['AU06_r', 'AU12_r']#, 'AU09_r','AU15_r', 'AU04_r']\n",
    "for i in relevant_AU:\n",
    "    plt.figure(figsize=(18, 8)) \n",
    "    fig=sns.violinplot(x='asc', y=i, data=df)\n",
    "    plt.yticks(fontsize=16)    \n",
    "    plt.xticks(fontsize=16)  \n",
    "    plt.xlabel('Conversation Parts', fontsize=18) \n",
    "    plt.ylabel(('Intensity of Action Unit ' + str(i)), fontsize=18)\n",
    "    plt.legend(title='ASC', loc = \"upper left\", fontsize=16)\n",
    "    plt.savefig('AU_'+ str(i) + '_.png')\n",
    "    #print (df[df.asc==0].reset_index(drop=True).groupby(['vpn', 'conversation']).mean()[i])\n",
    "    plt.show()\n"
   ]
  },
  {
   "cell_type": "code",
   "execution_count": null,
   "metadata": {},
   "outputs": [],
   "source": [
    "relevant_AU=['AU06_r', 'AU12_r']#, 'AU09_r','AU15_r', 'AU04_r']\n",
    "sns.set_style(\"whitegrid\")\n",
    "sns.set_context(\"talk\")\n",
    "for i in relevant_AU:\n",
    "    plt.figure(figsize=(6, 8)) \n",
    "    fig=sns.boxplot(x='asc', y=i, data=df, whis=1.5, palette=sns.color_palette(\"colorblind\"))\n",
    "    plt.yticks(fontsize=16)    \n",
    "    plt.xticks(fontsize=16)  \n",
    "    plt.xlabel('Group', fontsize=18) \n",
    "    plt.ylabel(('Intensity of Action Unit ' + str(i)), fontsize=18)\n",
    "    #plt.legend(title='ASC', loc = \"upper left\", fontsize=16)\n",
    "    plt.savefig('AU_'+ str(i) + '_.png')\n",
    "    plt.savefig('AU_'+ str(i) + '_.pdf')\n",
    "    #print (df[df.asc==0].reset_index(drop=True).groupby(['vpn', 'conversation']).mean()[i])\n",
    "    plt.show()"
   ]
  },
  {
   "cell_type": "code",
   "execution_count": null,
   "metadata": {
    "collapsed": true
   },
   "outputs": [],
   "source": [
    "# Association with Markers"
   ]
  },
  {
   "cell_type": "code",
   "execution_count": null,
   "metadata": {
    "collapsed": true
   },
   "outputs": [],
   "source": [
    "demog=pd.read_csv('./charite/demo_data_charite.csv', encoding='latin-1')"
   ]
  },
  {
   "cell_type": "code",
   "execution_count": null,
   "metadata": {
    "collapsed": true
   },
   "outputs": [],
   "source": [
    "def associations(ados):\n",
    "    var=['AU12_r', 'AU12_c', 'AU06_r', 'AU06_c']\n",
    "\n",
    "\n",
    "    for v in var:\n",
    "        print (v)\n",
    "        print('ados-social')\n",
    "        a=ados[(ados.asc==1)&(ados.conversation!='intro')].groupby('vpn').mean()[['ados_social', v]].dropna()\n",
    "        mystats.correlation(a.ados_social, a[v])\n",
    "        print('aq')\n",
    "        a=ados[(ados.asc==1)&(ados.conversation!='intro')].groupby('vpn').mean()[['asq', v]].dropna()\n",
    "        mystats.correlation(a.asq, a[v])\n",
    "        print('ados')\n",
    "        a=ados[(ados.asc==0)&(ados.conversation!='intro')].groupby('vpn').mean()[['asq', v]].dropna()\n",
    "        mystats.correlation(a.asq, a[v])"
   ]
  },
  {
   "cell_type": "code",
   "execution_count": null,
   "metadata": {},
   "outputs": [],
   "source": [
    "associations(df[df.sex==1])"
   ]
  },
  {
   "cell_type": "code",
   "execution_count": null,
   "metadata": {},
   "outputs": [],
   "source": [
    "associations(df[df.sex==2])"
   ]
  },
  {
   "cell_type": "code",
   "execution_count": null,
   "metadata": {},
   "outputs": [],
   "source": [
    "stats.ttest_ind(df[(df.asd==11) & (df.sex==1)].groupby('vpn').mean().asq.dropna(),\n",
    "                df[(df.asd==11) & (df.sex==2)].groupby('vpn').mean().asq.dropna())"
   ]
  },
  {
   "cell_type": "code",
   "execution_count": null,
   "metadata": {},
   "outputs": [],
   "source": [
    "stats.ttest_ind(df[(df.asd==11) & (df.sex==1)].groupby('vpn').mean().ados_total.dropna(), \n",
    "                df[(df.asd==11) & (df.sex==2)].groupby('vpn').mean().ados_total.dropna())"
   ]
  },
  {
   "cell_type": "code",
   "execution_count": null,
   "metadata": {},
   "outputs": [],
   "source": [
    "print (np.mean(df[(df.asd==11) & (df.sex==1)].groupby('vpn').mean().ados_total.dropna()))\n",
    "print (np.mean(df[(df.asd==11) & (df.sex==2)].groupby('vpn').mean().ados_total.dropna()))\n",
    "\n",
    "stats.ttest_ind(df[(df.asd==11) & (df.sex==1)].groupby('vpn').mean().ados_total.dropna(), \n",
    "       df[(df.asd==11) & (df.sex==2)].groupby('vpn').mean().ados_total.dropna())"
   ]
  },
  {
   "cell_type": "code",
   "execution_count": null,
   "metadata": {},
   "outputs": [],
   "source": [
    "print (np.mean(df[(df.asd==11) & (df.sex==1)].groupby('vpn').mean().asq.dropna()))\n",
    "print (np.mean(df[(df.asd==11) & (df.sex==2)].groupby('vpn').mean().asq.dropna()))\n",
    "\n",
    "\n",
    "stats.ttest_ind(df[(df.asd==11) & (df.sex==1)].groupby('vpn').mean().asq.dropna(), \n",
    "       df[(df.asd==11) & (df.sex==2)].groupby('vpn').mean().asq.dropna())"
   ]
  },
  {
   "cell_type": "code",
   "execution_count": null,
   "metadata": {
    "collapsed": true
   },
   "outputs": [],
   "source": []
  },
  {
   "cell_type": "code",
   "execution_count": null,
   "metadata": {
    "collapsed": true
   },
   "outputs": [],
   "source": []
  }
 ],
 "metadata": {
  "kernelspec": {
   "display_name": "Python 3",
   "language": "python",
   "name": "python3"
  },
  "language_info": {
   "codemirror_mode": {
    "name": "ipython",
    "version": 3
   },
   "file_extension": ".py",
   "mimetype": "text/x-python",
   "name": "python",
   "nbconvert_exporter": "python",
   "pygments_lexer": "ipython3",
   "version": "3.6.3"
  }
 },
 "nbformat": 4,
 "nbformat_minor": 2
}
