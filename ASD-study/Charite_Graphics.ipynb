{
 "cells": [
  {
   "cell_type": "markdown",
   "metadata": {
    "collapsed": true
   },
   "source": [
    "## Combining the CSV of all Participants"
   ]
  },
  {
   "cell_type": "markdown",
   "metadata": {},
   "source": [
    "import seaborn as sns\n",
    "import matplotlib as plt\n",
    "import matplotlib.pyplot as plt\n",
    "\n",
    "sns.boxplot(df[action_r])\n",
    "sns.plt.show()\n",
    "print df[action_c].mean()\n",
    "\n",
    "df.loc[(df.vpn==18), ['conversation_start',\n",
    "       'neutral_speaker_start', 'neutral_proband_start',\n",
    "       'neutral_proband_end', 'joy_speaker_start', 'joy_proband_start',\n",
    "       'joy_proband_end', 'disgust_speaker_start', 'disgust_proband_start',\n",
    "       'disgust_proband_end']]"
   ]
  },
  {
   "cell_type": "code",
   "execution_count": null,
   "metadata": {
    "collapsed": true
   },
   "outputs": [],
   "source": [
    "## probably decision for dynamic analysis after looking into the video"
   ]
  },
  {
   "cell_type": "markdown",
   "metadata": {},
   "source": [
    "### Import of Functions"
   ]
  },
  {
   "cell_type": "code",
   "execution_count": null,
   "metadata": {},
   "outputs": [],
   "source": [
    "import os\n",
    "import sys\n",
    "print (os.getcwd())\n",
    "sys.path.append('/home/Hanna.Drimalla/ml-autism/scripts')\n",
    "\n",
    "import pandas as pd\n",
    "import datetime as dt\n",
    "import imageio\n",
    "import numpy as np\n",
    "import subprocess\n",
    "import seaborn as sns\n",
    "import matplotlib.pyplot as plt\n",
    "#from keras.models import Sequential, Model"
   ]
  },
  {
   "cell_type": "code",
   "execution_count": null,
   "metadata": {
    "collapsed": true
   },
   "outputs": [],
   "source": [
    "! pip seaborn"
   ]
  },
  {
   "cell_type": "code",
   "execution_count": null,
   "metadata": {
    "collapsed": true
   },
   "outputs": [],
   "source": [
    "from bokeh.plotting import figure\n",
    "from bokeh.io import output_notebook, push_notebook, show, reset_output\n",
    "from bokeh.models import CustomJS, Slider\n",
    "\n",
    "from ipywidgets import interact\n",
    "from bokeh.io import push_notebook, show, output_notebook\n",
    "from bokeh.plotting import figure\n",
    "\n",
    "from bokeh.io import curdoc\n",
    "from bokeh.layouts import row, widgetbox\n",
    "from bokeh.models import ColumnDataSource\n",
    "from bokeh.models.widgets import Slider, TextInput\n",
    "from bokeh.embed import file_html"
   ]
  },
  {
   "cell_type": "code",
   "execution_count": null,
   "metadata": {
    "collapsed": true
   },
   "outputs": [],
   "source": [
    "import mycharite"
   ]
  },
  {
   "cell_type": "markdown",
   "metadata": {},
   "source": [
    "### Load dataframe"
   ]
  },
  {
   "cell_type": "code",
   "execution_count": null,
   "metadata": {},
   "outputs": [],
   "source": [
    "# load dataframe\n",
    "df, df_audio, action_r, action_c, gaze, audio =mycharite.load('charite')\n",
    "df=mycharite.aq_charite(df)\n",
    "df=mycharite.ados_charite(df)\n",
    "\n",
    "print ('NT ' + str(sum(df.groupby('vpn').mean().asc==0)))\n",
    "print ('ASC ' + str(sum(df.groupby('vpn').mean().asc==1)))\n",
    "\n",
    "df=mycharite.exclude_outlier(df)\n",
    "\n",
    "print ('NT ' + str(sum(df.groupby('vpn').mean().asc==0)))\n",
    "print ('ASC ' + str(sum(df.groupby('vpn').mean().asc==1)))\n",
    "\n",
    "df=mycharite.adapt_times(df)"
   ]
  },
  {
   "cell_type": "markdown",
   "metadata": {},
   "source": [
    "### Distribution of AQ in NT and ASC"
   ]
  },
  {
   "cell_type": "code",
   "execution_count": null,
   "metadata": {
    "collapsed": true
   },
   "outputs": [],
   "source": [
    "def aq_distribution(df):\n",
    "    plt.figure(figsize=(12, 8))  \n",
    "    sns.distplot(df_aq[df_aq.asc==0].asq, color='darkgreen', kde=False, label='Neurotypical Sample')\n",
    "    sns.distplot(df_aq[df_aq.asc==1].asq, color='darkblue', kde=False, label='Clinical Sample')\n",
    "    plt.yticks(fontsize=16)    \n",
    "    plt.xticks(fontsize=16)  \n",
    "    plt.ylabel('Number of Participants', fontsize=18)\n",
    "    plt.xlabel('AQ Values', fontsize=18)\n",
    "    plt.legend(loc='upper right', fontsize=16)   \n",
    "    plt.savefig('Distribution.png')\n",
    "    plt.show()\n",
    "    plt.close()"
   ]
  },
  {
   "cell_type": "markdown",
   "metadata": {},
   "source": [
    "### Was the Feature Extraction Successfull and Complete for all Subjects?"
   ]
  },
  {
   "cell_type": "code",
   "execution_count": null,
   "metadata": {},
   "outputs": [],
   "source": [
    "def show_success_vpn(df):\n",
    "    for i in set(df.vpn):\n",
    "        print i\n",
    "        print len(df[df.vpn==i])      \n",
    "        print 'sucess'\n",
    "        print np.mean(df[df.vpn==i].success)  # Number of sucessfull trackted trials!"
   ]
  },
  {
   "cell_type": "markdown",
   "metadata": {
    "collapsed": true
   },
   "source": [
    "### Exclude non-confident trials"
   ]
  },
  {
   "cell_type": "code",
   "execution_count": null,
   "metadata": {
    "collapsed": true
   },
   "outputs": [],
   "source": [
    "def confidence(df):\n",
    "    \n",
    "    plt.close()\n",
    "    plt.figure(figsize=(6, 5))  \n",
    "    sns.violinplot(df.confidence)\n",
    "    plt.yticks(fontsize=18)    \n",
    "    plt.xticks(fontsize=18)  \n",
    "    plt.xlabel('Confidence', fontsize=18)\n",
    "    plt.savefig('Confidence.png')\n",
    "    plt.show()\n",
    "\n",
    "    plt.figure(figsize=(12, 8))  \n",
    "    sns.violinplot(df.success)\n",
    "    plt.yticks(fontsize=16)    \n",
    "    plt.xticks(fontsize=16)  \n",
    "    plt.xlabel('Success Rate of all Frames', fontsize=18)\n",
    "    plt.savefig('Success.png')\n",
    "    plt.show()"
   ]
  },
  {
   "cell_type": "markdown",
   "metadata": {},
   "source": [
    "###  Smoothing the Signal"
   ]
  },
  {
   "cell_type": "code",
   "execution_count": null,
   "metadata": {
    "collapsed": true
   },
   "outputs": [],
   "source": [
    "def smooth(df):\n",
    "    round_df=df\n",
    "    for i in set(df.vpn):\n",
    "        for au in action_r:\n",
    "            round_df.loc[round_df.vpn==i, au]=round_df.loc[round_df.vpn==i, au].rolling(30, win_type='triang').mean()\n",
    "    return round_df"
   ]
  },
  {
   "cell_type": "code",
   "execution_count": null,
   "metadata": {
    "collapsed": true
   },
   "outputs": [],
   "source": [
    "round_df=smooth(df)"
   ]
  },
  {
   "cell_type": "markdown",
   "metadata": {},
   "source": [
    "### Graphic: AUs over Time"
   ]
  },
  {
   "cell_type": "code",
   "execution_count": null,
   "metadata": {
    "collapsed": true
   },
   "outputs": [],
   "source": [
    "#    sns.tsplot(data=final, time=\"counter\", unit=\"vpn\", value=\"gaze_0_x\", color='green')\n",
    "#    sns.tsplot(data=final, time=\"counter\", unit=\"vpn\", value=\"gaze_0_y\", color='blue')\n",
    "\n",
    "def graphic(df, var):\n",
    "    #df=df[df.timepoint<np.mean(df.disgust_proband_end-df.neutral_speaker_start)]\n",
    "\n",
    "    # Facial Action Unit for Happiness (6,12)\n",
    "    n=0\n",
    "\n",
    "    plt.figure(figsize=(12, 8))  \n",
    "    for i in var:\n",
    "        colors=['green', 'blue', 'red', 'black']\n",
    "        g=sns.tsplot(data=df, time=\"frame\", unit=\"vpn\", value=i, \n",
    "                   color=colors[n], legend=False)\n",
    "        n=n+1\n",
    "    # Facial Action Unit for Disgust (9,15)\n",
    "\n",
    "        plt.axvspan(df[df.intro==True].min().frame, df[df.intro==True].max().frame,\n",
    "                        facecolor='r', alpha=0.1)\n",
    "\n",
    "        plt.axvspan(df[df.neutral_speaker==True].min().frame, df[df.neutral_speaker==True].max().frame,\n",
    "                        facecolor='y', alpha=0.1)\n",
    "\n",
    "        plt.axvspan(df[df.neutral_proband==True].min().frame, df[df.neutral_proband==True].max().frame, \n",
    "                        facecolor='r', alpha=0.1)\n",
    "\n",
    "        plt.axvspan(df[df.joy_speaker==True].min().frame, df[df.joy_speaker==True].max().frame,\n",
    "                        facecolor='y', alpha=0.1)\n",
    "\n",
    "\n",
    "        plt.axvspan(df[df.joy_proband==True].min().frame, df[df.joy_proband==True].max().frame,\n",
    "                        facecolor='r', alpha=0.1)\n",
    "\n",
    "        plt.axvspan(df[df.ekel_speaker==True].min().frame, df[df.ekel_speaker==True].max().frame,\n",
    "                        facecolor='y', alpha=0.1)\n",
    "\n",
    "        plt.axvspan(df[df.ekel_proband==True].min().frame, df[df.ekel_proband==True].max().frame,\n",
    "                        facecolor='r', alpha=0.1)\n",
    "\n",
    "        plt.ylim(0, 2)\n",
    "        #sns.plt.xlim(0, 400)\n",
    "        #sns.set_style(\"darkgrid\", {\"axes.facecolor\": \".9\"})\n",
    "     #g = sns.lmplot('credibility', 'percentWatched', data=data, hue = 'millennial', markers = [\"+\", \".\"], x_jitter = True, y_jitter = True, size=5)\n",
    "    #fig.set(xlabel = 'Credibility', ylabel = 'Percent of Video Watched [%]')        \n",
    "    plt.yticks(fontsize=16)    \n",
    "    plt.xticks(fontsize=16)  \n",
    "    plt.xlabel('Timecourse (in frames)', fontsize=18) \n",
    "    plt.ylabel('Intensity of Action Unit', fontsize=18)\n",
    "    plt.legend()#loc='upper right', fontsize=16)  \n",
    "    plt.savefig('Joy.png')\n",
    "    plt.show()\n"
   ]
  },
  {
   "cell_type": "code",
   "execution_count": null,
   "metadata": {},
   "outputs": [],
   "source": [
    "Freude_c=['AU06_c', 'AU12_c']\n",
    "Ekel_c=['AU09_c', 'AU15_c']\n",
    "Freude_r=['AU06_r', 'AU12_r']\n",
    "Ekel_r=['AU09_r', 'AU15_r']\n",
    "#graphic(df, Freude_c)\n",
    "#graphic(df, Ekel_c)\n",
    "\n",
    "graphic(df[df.asc==0].reset_index(drop=True), Freude_r)"
   ]
  },
  {
   "cell_type": "code",
   "execution_count": null,
   "metadata": {
    "collapsed": true
   },
   "outputs": [],
   "source": [
    "def load_VIT_actress_AU():\n",
    "    VIT=pd.read_csv('./charite/actress_OpenFace_2.0.0_features.csv', sep=',', na_values=['?'])\n",
    "\n",
    "    di = {\"'intro-mit-atempausen.csv'\": \"intro\", \n",
    "          \"'neutral_proband.csv'\": \"Pneutral\",\n",
    "          \"'neutral_sprecher.csv'\":\"Sneutral\",\n",
    "          \"'joy_proband.csv'\":\"Pjoy\", \n",
    "          \"'joy_sprecher.csv'\":\"Sjoy\", \n",
    "          \"'disgust_proband.csv'\":\"Pdisgust\", \n",
    "          \"'disgust_speaker_new.csv'\": \"Sdisgust\"}\n",
    "\n",
    "    VIT=VIT.replace({\"vpn\": di})\n",
    "\n",
    "    VIT['part']=VIT.vpn.str[1:]\n",
    "    VIT['who']=VIT.vpn.str[0:1]\n",
    "\n",
    "    VIT.rename(columns=lambda x: x.replace(\" \", \"\"), inplace=True) \n",
    "    return VIT\n",
    "\n",
    "VIT=load_VIT_actress_AU()"
   ]
  },
  {
   "cell_type": "code",
   "execution_count": null,
   "metadata": {},
   "outputs": [],
   "source": [
    "#VIT=pd.read_csv('features.csv', sep=',', na_values=['?'])\n",
    "def actress_conversation_plot(VIT, var):\n",
    "    \n",
    "    intro=np.array(VIT[VIT.vpn==\"intro\"].reset_index(drop=True)[var])\n",
    "    neutral=np.array(VIT[VIT.vpn==\"Sneutral\"].reset_index(drop=True)[var])\n",
    "    joy=np.array(VIT[VIT.vpn==\"Sjoy\"].reset_index(drop=True)[var])\n",
    "    disgust=np.array(VIT[VIT.vpn==\"Sdisgust\"].reset_index(drop=True)[var])\n",
    "\n",
    "    conversation_AU_12=np.hstack([intro,neutral,joy,disgust])\n",
    "    plt.plot(conversation_AU_12, color='green')\n",
    "    plt.show()\n",
    "                 \n",
    "actress_conversation_plot(VIT, 'AU04_r')\n",
    "actress_conversation_plot(VIT, 'AU06_r')\n",
    "actress_conversation_plot(VIT, 'AU12_r')"
   ]
  },
  {
   "cell_type": "code",
   "execution_count": null,
   "metadata": {},
   "outputs": [],
   "source": [
    "plt.plot(np.array(df[df.asc==1].reset_index(drop=True).groupby(['frame']).mean()['AU06_r']), color='green')\n",
    "plt.plot(np.array(df[df.asc==0].reset_index(drop=True).groupby(['frame']).mean()['AU06_r']), color='blue')\n",
    "plt.show()"
   ]
  },
  {
   "cell_type": "code",
   "execution_count": null,
   "metadata": {},
   "outputs": [],
   "source": [
    "plt.plot(np.array(df[df.asc==1].reset_index(drop=True).groupby(['frame']).mean()['AU12_r']), color='green')\n",
    "plt.plot(np.array(df[df.asc==0].reset_index(drop=True).groupby(['frame']).mean()['AU12_r']), color='blue')\n",
    "plt.show()"
   ]
  },
  {
   "cell_type": "code",
   "execution_count": null,
   "metadata": {},
   "outputs": [],
   "source": [
    "plt.plot(np.array(df[df.asc==1].reset_index(drop=True).groupby(['frame']).mean()['AU04_r']), color='green')\n",
    "plt.plot(np.array(df[df.asc==0].reset_index(drop=True).groupby(['frame']).mean()['AU04_r']), color='blue')\n",
    "plt.show()"
   ]
  },
  {
   "cell_type": "code",
   "execution_count": null,
   "metadata": {},
   "outputs": [],
   "source": [
    "plt.plot(np.array(df[df.asc==1].reset_index(drop=True).groupby(['frame']).mean()['AU07_r']), color='green')\n",
    "plt.plot(np.array(df[df.asc==0].reset_index(drop=True).groupby(['frame']).mean()['AU07_r']), color='blue')\n",
    "plt.show()"
   ]
  },
  {
   "cell_type": "code",
   "execution_count": null,
   "metadata": {},
   "outputs": [],
   "source": [
    "plt.plot(np.array(df[df.asc==1].reset_index(drop=True).groupby(['frame']).mean()['AU09_r']), color='green')\n",
    "plt.plot(np.array(df[df.asc==0].reset_index(drop=True).groupby(['frame']).mean()['AU09_r']), color='blue')\n",
    "plt.show()"
   ]
  },
  {
   "cell_type": "code",
   "execution_count": null,
   "metadata": {},
   "outputs": [],
   "source": [
    "plt.plot(np.array(df[df.asc==1].reset_index(drop=True).groupby(['frame']).mean()['AU15_r']), color='green')\n",
    "plt.plot(np.array(df[df.asc==0].reset_index(drop=True).groupby(['frame']).mean()['AU15_r']), color='blue')\n",
    "plt.show()"
   ]
  },
  {
   "cell_type": "code",
   "execution_count": null,
   "metadata": {},
   "outputs": [],
   "source": [
    "plt.plot(np.array(df[df.asc==0].reset_index(drop=True).groupby(['frame']).mean()['AU12_r'].rolling(window=500).mean()))"
   ]
  },
  {
   "cell_type": "code",
   "execution_count": null,
   "metadata": {},
   "outputs": [],
   "source": [
    "graphic(round_df[round_df.asc==1].reset_index(drop=True), Freude_r)"
   ]
  },
  {
   "cell_type": "code",
   "execution_count": null,
   "metadata": {},
   "outputs": [],
   "source": [
    "graphic(df[df.asc==0].reset_index(drop=True), Ekel_r)\n",
    "graphic(df[df.asc==1].reset_index(drop=True), Ekel_r)"
   ]
  },
  {
   "cell_type": "markdown",
   "metadata": {},
   "source": [
    "### Boxplot of the AUs"
   ]
  },
  {
   "cell_type": "markdown",
   "metadata": {},
   "source": [
    "## Gaze"
   ]
  },
  {
   "cell_type": "code",
   "execution_count": null,
   "metadata": {
    "collapsed": true
   },
   "outputs": [],
   "source": [
    "def gaze_heat(df, title):\n",
    "    plt.close()\n",
    "    sns.kdeplot(df.gaze_angle_x, df.gaze_angle_y, cmap=\"Reds\", shade=True, shade_lowest=False)\n",
    "    plt.ylim(-0.6, 0.6)\n",
    "    plt.xlim(-0.2, 0.2)\n",
    "    plt.yticks(fontsize=16)    \n",
    "    plt.xticks(fontsize=16)  \n",
    "    plt.xlabel('X-Angle of Gaze', fontsize=18) \n",
    "    plt.ylabel(('Y-Angle of Gaze'), fontsize=18)\n",
    "    #plt.legend(loc='upper left', fontsize=16)  \n",
    "    plt.savefig('Gaze_'+ str(title) + '_.png')\n",
    "    plt.show() \n",
    "\n",
    "gaze_heat(df[df.asc==1], 'ASC')\n",
    "gaze_heat(df[df.asc==0], 'NT')"
   ]
  },
  {
   "cell_type": "markdown",
   "metadata": {},
   "source": [
    "gaze sollte vermutlich z-standardisiert für jeden Probanden werden, oder?"
   ]
  },
  {
   "cell_type": "code",
   "execution_count": null,
   "metadata": {
    "collapsed": true
   },
   "outputs": [],
   "source": [
    "def zstand_gaze(df):\n",
    "    zscore = lambda x: (x - x.mean())\n",
    "    df.gaze_angle_x=df.groupby('vpn').transform(zscore).gaze_angle_x\n",
    "    df.gaze_angle_y=df.groupby('vpn').transform(zscore).gaze_angle_y"
   ]
  },
  {
   "cell_type": "markdown",
   "metadata": {},
   "source": [
    "### Boxplots of AU vs. NT"
   ]
  },
  {
   "cell_type": "code",
   "execution_count": null,
   "metadata": {},
   "outputs": [],
   "source": [
    "def AUboxplot_ASC_NT(df):\n",
    "    relevant_AU=['AU06_r', 'AU12_r', 'AU09_r','AU15_r']\n",
    "    for i in relevant_AU:\n",
    "        plt.figure(figsize=(12, 8)) \n",
    "        fig=sns.violinplot(x='conversation', y=i, hue='asc', data=df)\n",
    "        plt.yticks(fontsize=16)    \n",
    "        plt.xticks(fontsize=16)  \n",
    "        plt.xlabel('Conversation Parts', fontsize=18) \n",
    "        plt.ylabel(('Intensity of Action Unit ' + str(i)), fontsize=18)\n",
    "        plt.legend(title='ASC', loc = \"upper left\", fontsize=16)\n",
    "        plt.savefig('AU_'+ str(i) + '_.png')\n",
    "        #print (df[df.asc==0].reset_index(drop=True).groupby(['vpn', 'conversation']).mean()[i])\n",
    "        plt.show()\n",
    "\n",
    "    relevant_AU=['AU06_r', 'AU12_r', 'AU09_r','AU15_r']\n",
    "    for i in relevant_AU:\n",
    "        sns.despine(offset=10, trim=True)\n",
    "        sns.set_style(\"white\")\n",
    "        plt.figure(figsize=(12, 8)) \n",
    "        fig=sns.violinplot(x='asc', y=i, data=df)\n",
    "        plt.yticks(fontsize=16)    \n",
    "        plt.xticks(fontsize=16)  \n",
    "        plt.xlabel('Conversation Parts', fontsize=18) \n",
    "        plt.ylabel(('Intensity of Action Unit ' + str(i)), fontsize=18)\n",
    "        plt.legend(title='ASC', loc = \"upper left\", fontsize=16)\n",
    "        plt.savefig('AU_'+ str(i) + '_.png')\n",
    "        #print (df[df.asc==0].reset_index(drop=True).groupby(['vpn', 'conversation']).mean()[i])\n",
    "        plt.show()"
   ]
  },
  {
   "cell_type": "markdown",
   "metadata": {},
   "source": [
    "# for each participant\n",
    "for i in set(df.vpn):\n",
    "    print i\n",
    "    df_vpn=df[df.vpn==i]\n",
    "    \n",
    "    #graphic(df)\n",
    "    \n",
    "    gaze_heat(df_vpn)"
   ]
  },
  {
   "cell_type": "code",
   "execution_count": null,
   "metadata": {},
   "outputs": [],
   "source": [
    "relevant_AU=['AU06_r', 'AU12_r', 'AU09_r','AU15_r']\n",
    "for i in relevant_AU:\n",
    "    plt.figure(figsize=(12, 8)) \n",
    "    fig=sns.violinplot(x='conversation', y=i, hue='asc', data=df)\n",
    "    plt.yticks(fontsize=16)    \n",
    "    plt.xticks(fontsize=16)  \n",
    "    plt.xlabel('Conversation Parts', fontsize=18) \n",
    "    plt.ylabel(('Intensity of Action Unit'), fontsize=18)\n",
    "    plt.legend(title='ASC', loc = \"upper left\", fontsize=16)\n",
    "    plt.savefig('AU_'+ str(i) + '_.png')\n",
    "    #print (df[df.asc==0].reset_index(drop=True).groupby(['vpn', 'conversation']).mean()[i])\n",
    "    plt.show()"
   ]
  },
  {
   "cell_type": "code",
   "execution_count": null,
   "metadata": {},
   "outputs": [],
   "source": [
    "### Correlation of Classifier-Confidence and ASQ\n",
    "plt.figure(figsize=(10, 8)) \n",
    "asq=np.array(df.groupby('vpn').mean().asq)\n",
    "AU12=np.array(df.groupby('vpn').mean().AU12_r)\n",
    "asd=np.array(df.groupby('vpn').mean().asc)\n",
    "#sns.regplot(AU12, asq, hue=asd)#[np.array(test_index, dtype=int)])\n",
    "df_graphic = pd.DataFrame(dict(asq=asq, AU12=AU12, ASC=asd))\n",
    "ax=sns.lmplot('asq', 'AU12', data=df_graphic, hue='ASC', fit_reg=False)\n",
    "#plt.show()\n",
    "new_labels = ['NT', 'ASC']\n",
    "new_title = ''\n",
    "ax._legend.set_title(new_title)\n",
    "for t, l in zip(ax._legend.texts, new_labels): t.set_text(l)\n",
    "plt.setp(ax._legend.texts, fontsize='16')\n",
    "plt.yticks(fontsize=14)    \n",
    "plt.xticks(fontsize=14)  \n",
    "plt.xlabel('AQ Value', fontsize=16) \n",
    "plt.ylabel(('Intensity of AU12'), fontsize=16)\n",
    "plt.savefig('AU12' +'.png')\n",
    "plt.show()   \n",
    "plt.close()"
   ]
  },
  {
   "cell_type": "code",
   "execution_count": null,
   "metadata": {
    "collapsed": true
   },
   "outputs": [],
   "source": []
  }
 ],
 "metadata": {
  "kernelspec": {
   "display_name": "Python 3",
   "language": "python",
   "name": "python3"
  },
  "language_info": {
   "codemirror_mode": {
    "name": "ipython",
    "version": 3
   },
   "file_extension": ".py",
   "mimetype": "text/x-python",
   "name": "python",
   "nbconvert_exporter": "python",
   "pygments_lexer": "ipython3",
   "version": "3.6.3"
  }
 },
 "nbformat": 4,
 "nbformat_minor": 2
}
