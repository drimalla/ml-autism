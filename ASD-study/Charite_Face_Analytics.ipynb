{
 "cells": [
  {
   "cell_type": "markdown",
   "metadata": {
    "collapsed": true
   },
   "source": [
    "## Combining the CSV of all Participants"
   ]
  },
  {
   "cell_type": "code",
   "execution_count": 1,
   "metadata": {},
   "outputs": [],
   "source": [
    "import os\n",
    "import pandas as pd\n",
    "import datetime as dt\n",
    "import imageio\n",
    "import numpy as np\n",
    "import subprocess\n",
    "import seaborn as sns\n",
    "import matplotlib.pyplot as plt\n",
    "#from keras.models import Sequential, Model\n",
    "\n",
    "\n",
    "#Basics\n",
    "#from __future__ import division\n",
    "\n",
    "#Stats\n",
    "#import mne\n",
    "import statsmodels.api as sm\n",
    "import statsmodels.formula.api as smf\n",
    "import scipy\n",
    "from scipy import stats\n",
    "from statsmodels.formula.api import ols\n",
    "from statsmodels.stats.anova import anova_lm\n",
    "from statsmodels.graphics.factorplots import interaction_plot\n",
    "\n",
    "# Graphics\n",
    "import matplotlib.pyplot as plt\n",
    "import seaborn as sns\n",
    "import statsmodels.api as sm\n",
    "from statsmodels.regression.mixed_linear_model import MixedLMParams\n",
    "#import preBert\n",
    "from statsmodels.stats.weightstats import DescrStatsW\n",
    "\n",
    "import mystats \n",
    "\n",
    "\n",
    "import statsmodels.stats.api as sms\n",
    "import statsmodels.api as sm\n",
    "import statsmodels.formula.api as smf\n",
    "import sklearn\n",
    "from scipy import stats\n",
    "import warnings\n",
    "from scipy.stats.mstats import zscore\n",
    "#matplotlib.use('TkAgg')  \n",
    "from mpl_toolkits.mplot3d import Axes3D\n",
    "from sklearn import decomposition\n",
    "from sklearn.decomposition import PCA as sklearnPCA\n",
    "from sklearn.preprocessing import StandardScaler\n",
    "import scipy.cluster.hierarchy as hac\n",
    "from sklearn.pipeline import Pipeline\n",
    "from sklearn.preprocessing import PolynomialFeatures\n",
    "from sklearn.linear_model import LinearRegression\n",
    "#from sklearn.model_selection import cross_val_score\n",
    "#import mne\n",
    "#import pyvttbl as pt\n",
    "\n",
    "import mycharite\n",
    "import mystats "
   ]
  },
  {
   "cell_type": "markdown",
   "metadata": {},
   "source": [
    "## Analysis of SSI-Video itself"
   ]
  },
  {
   "cell_type": "code",
   "execution_count": 2,
   "metadata": {},
   "outputs": [
    {
     "name": "stdout",
     "output_type": "stream",
     "text": [
      "9598\n",
      "9598\n",
      "all non-successfully tracked frames excluded\n",
      "all frames excluded that were tracked with a lower confidence than 0.75\n",
      "9598\n",
      "27\n",
      "97\n",
      "191\n",
      "239\n",
      "141\n",
      "9598\n",
      "                     AU06_c    AU12_c    AU15_c    AU09_c    AU04_c\n",
      "conversation_part                                                  \n",
      "2                  0.562500  0.967988  0.149390  0.000000  0.000000\n",
      "3                  0.399808  0.937680  0.018217  0.009588  0.000000\n",
      "4                  0.429952  0.950081  0.133655  0.000000  0.000000\n",
      "5                  0.733333  0.993827  0.006173  0.019753  0.016049\n",
      "6                  0.062814  0.513819  0.092965  0.059045  0.170854\n",
      "7                  0.500952  0.848571  0.042857  0.017143  0.140000\n"
     ]
    },
    {
     "data": {
      "image/png": "[encoded data removed]",
      "text/plain": [
       "<Figure size 432x288 with 1 Axes>"
      ]
     },
     "metadata": {
      "needs_background": "light"
     },
     "output_type": "display_data"
    },
    {
     "name": "stdout",
     "output_type": "stream",
     "text": [
      "                     AU06_c    AU12_c    AU15_c    AU09_c    AU04_c\n",
      "conversation_part                                                  \n",
      "2                  0.496457  0.176167  0.356745  0.000000  0.000000\n",
      "3                  0.490094  0.241852  0.133798  0.097493  0.000000\n",
      "4                  0.495468  0.217954  0.340556  0.000000  0.000000\n",
      "5                  0.442490  0.078373  0.078373  0.139237  0.125743\n",
      "6                  0.242781  0.500123  0.290566  0.235858  0.376618\n",
      "7                  0.500237  0.358637  0.202631  0.129865  0.347152\n"
     ]
    }
   ],
   "source": [
    "study='charite'\n",
    "VIT=mycharite.load_VIT_actress_AU()\n",
    "\n",
    "print (len(VIT))\n",
    "VIT=VIT[VIT.success==1].reset_index(drop=True) #exclude non-sucessfull tracks\n",
    "print (len(VIT))\n",
    "print ('all non-successfully tracked frames excluded')\n",
    "\n",
    "VIT=VIT[VIT.confidence>0.75].reset_index(drop=True)\n",
    "print ('all frames excluded that were tracked with a lower confidence than 0.75')\n",
    "print (len(VIT))\n",
    "\n",
    "\n",
    "VIT=mycharite.outlier_trials(VIT,['AU06_r', 'AU12_r','AU15_r', 'AU09_r', 'AU04_r'], 'sd')\n",
    "print (len(VIT))\n",
    "\n",
    "#a=VIT[VIT.conversation_part>1].groupby('frame').mean()[['AU06_r', 'AU12_r','AU15_r', 'AU09_r', 'AU04_r']]\n",
    "a=VIT[VIT.conversation_part>1].groupby('conversation_part').mean()[['AU06_c', 'AU12_c','AU15_c', 'AU09_c', 'AU04_c']]\n",
    "\n",
    "print (a)\n",
    "\n",
    "plt.plot(a)\n",
    "#plt.legend(['AU06_c', 'AU12_c', 'AU15_c', 'AU09_c',  'AU04_c'])# da stimmt was mit der LEgende nicht!!\n",
    "plt.savefig('AU_actress.png')\n",
    "plt.show()\n",
    "\n",
    "a=VIT[VIT.conversation_part>1].groupby('conversation_part').std()[['AU06_c', 'AU12_c','AU15_c', 'AU09_c', 'AU04_c']]\n",
    "print (a)"
   ]
  },
  {
   "cell_type": "code",
   "execution_count": 3,
   "metadata": {},
   "outputs": [
    {
     "name": "stdout",
     "output_type": "stream",
     "text": [
      "joy\n",
      "AU06_r\n",
      "0.9704025764895321\n",
      "AU12_r\n",
      "1.2036231884057975\n",
      "AU15_r\n",
      "0.12774557165861525\n",
      "AU09_r\n",
      "0.05088566827697263\n",
      "AU04_r\n",
      "0.057616747181964585\n",
      "disgust\n",
      "AU06_r\n",
      "0.606193467336683\n",
      "AU12_r\n",
      "0.7175376884422106\n",
      "AU15_r\n",
      "0.12665829145728644\n",
      "AU09_r\n",
      "0.07017587939698496\n",
      "AU04_r\n",
      "0.23125628140703494\n"
     ]
    }
   ],
   "source": [
    "var=['AU06_r', 'AU12_r','AU15_r', 'AU09_r', 'AU04_r']\n",
    "#speaking\n",
    "print ('joy')\n",
    "for i in var:\n",
    "    print (i)\n",
    "\n",
    "    print (np.mean(VIT[VIT.conversation_part==4][i]))\n",
    "\n",
    "print ('disgust')\n",
    "for i in var:\n",
    "    print (i)\n",
    "    print (np.mean(VIT[VIT.conversation_part==6][i]))"
   ]
  },
  {
   "cell_type": "code",
   "execution_count": 4,
   "metadata": {},
   "outputs": [
    {
     "name": "stdout",
     "output_type": "stream",
     "text": [
      "joy\n",
      "AU06_r\n",
      "1.1491111111111116\n",
      "AU12_r\n",
      "1.3631728395061724\n",
      "AU15_r\n",
      "0.12003703703703704\n",
      "AU09_r\n",
      "0.04381481481481479\n",
      "AU04_r\n",
      "0.02209876543209877\n",
      "disgust\n",
      "AU06_r\n",
      "0.9518285714285717\n",
      "AU12_r\n",
      "1.109904761904762\n",
      "AU15_r\n",
      "0.10692380952380966\n",
      "AU09_r\n",
      "0.061161904761904785\n",
      "AU04_r\n",
      "0.12827619047619016\n"
     ]
    }
   ],
   "source": [
    "var=['AU06_r', 'AU12_r','AU15_r', 'AU09_r', 'AU04_r']\n",
    "#speaking\n",
    "print ('joy')\n",
    "for i in var:\n",
    "    print (i)\n",
    "\n",
    "    print (np.mean(VIT[VIT.conversation_part==5][i]))\n",
    "\n",
    "print ('disgust')\n",
    "for i in var:\n",
    "    print (i)\n",
    "    print (np.mean(VIT[VIT.conversation_part==7][i]))"
   ]
  },
  {
   "cell_type": "code",
   "execution_count": 5,
   "metadata": {},
   "outputs": [
    {
     "name": "stdout",
     "output_type": "stream",
     "text": [
      "AU06_c\n",
      "0.3309213699951761\n",
      "0.5294522907337237\n",
      "AU12_c\n",
      "0.7882296189097926\n",
      "0.9211160868067516\n"
     ]
    }
   ],
   "source": [
    "#speaking\n",
    "var=['AU06_c', 'AU12_c']\n",
    "for i in var:\n",
    "    print (i)\n",
    "    speaks=VIT[(VIT.conversation_part==2) | (VIT.conversation_part==4) | (VIT.conversation_part==6)]\n",
    "    listens=VIT[(VIT.conversation_part==3) | (VIT.conversation_part==5) | (VIT.conversation_part==7)]\n",
    "    print(np.mean(speaks[i]))\n",
    "    print(np.mean(listens[i]))\n",
    "    #mystats.two_ind_sample_tests(speaks, listens, i)"
   ]
  },
  {
   "cell_type": "code",
   "execution_count": 6,
   "metadata": {},
   "outputs": [],
   "source": [
    "def what_is():\n",
    "    for i in set(VIT.conversation_part):\n",
    "        print (i)\n",
    "        print (len(VIT[VIT.conversation_part==i])/25)\n",
    "\n",
    "    print (len(VIT)/25)\n",
    "    len(onep)/30\n",
    "\n",
    "    df_vpn=df[df.vpn==4]\n",
    "\n",
    "    for i in set(df_vpn.conversation):\n",
    "        print (i)\n",
    "        print (len(df_vpn[df_vpn.conversation==i])/25)\n",
    "\n",
    "    print (len(VIT)/25)\n",
    "    len(df_vpn)/30"
   ]
  },
  {
   "cell_type": "markdown",
   "metadata": {},
   "source": [
    "# Analysis of Charite Data"
   ]
  },
  {
   "cell_type": "markdown",
   "metadata": {},
   "source": [
    "### Load dataframe"
   ]
  },
  {
   "cell_type": "code",
   "execution_count": 7,
   "metadata": {},
   "outputs": [
    {
     "name": "stdout",
     "output_type": "stream",
     "text": [
      "AU06_r\n",
      "AU12_r\n",
      "AU06_c\n"
     ]
    },
    {
     "name": "stderr",
     "output_type": "stream",
     "text": [
      "C:\\Users\\Hanna.Drimalla\\AppData\\Local\\Continuum\\anaconda3\\lib\\site-packages\\numpy\\lib\\function_base.py:2400: RuntimeWarning: invalid value encountered in true_divide\n",
      "  c /= stddev[:, None]\n",
      "C:\\Users\\Hanna.Drimalla\\AppData\\Local\\Continuum\\anaconda3\\lib\\site-packages\\numpy\\lib\\function_base.py:2401: RuntimeWarning: invalid value encountered in true_divide\n",
      "  c /= stddev[None, :]\n",
      "C:\\Users\\Hanna.Drimalla\\AppData\\Local\\Continuum\\anaconda3\\lib\\site-packages\\scipy\\stats\\_distn_infrastructure.py:879: RuntimeWarning: invalid value encountered in greater\n",
      "  return (self.a < x) & (x < self.b)\n",
      "C:\\Users\\Hanna.Drimalla\\AppData\\Local\\Continuum\\anaconda3\\lib\\site-packages\\scipy\\stats\\_distn_infrastructure.py:879: RuntimeWarning: invalid value encountered in less\n",
      "  return (self.a < x) & (x < self.b)\n",
      "C:\\Users\\Hanna.Drimalla\\AppData\\Local\\Continuum\\anaconda3\\lib\\site-packages\\scipy\\stats\\_distn_infrastructure.py:1821: RuntimeWarning: invalid value encountered in less_equal\n",
      "  cond2 = cond0 & (x <= self.a)\n"
     ]
    },
    {
     "name": "stdout",
     "output_type": "stream",
     "text": [
      "AU12_c\n",
      "AU15_r\n",
      "AU09_r\n",
      "AU04_r\n",
      "AU15_c\n",
      "AU09_c\n",
      "AU04_c\n",
      "gaze_angle_x\n",
      "gaze_angle_y\n",
      "Proband 53 ist korrekt als NT gelabelt\n"
     ]
    }
   ],
   "source": [
    "VIT=mycharite.load_VIT_actress_AU()\n",
    "df, df_audio, action_r, action_c, gaze, audio =mycharite.load('charite')\n",
    "mimicry, new_features=mycharite.calc_mim(df, VIT)\n",
    "df=pd.merge(df, mimicry, on='vpn')\n",
    "\n",
    "df=mycharite.aq_charite(df)\n",
    "df=mycharite.ados_charite(df)\n",
    "df=mycharite.adapt_times(df)"
   ]
  },
  {
   "cell_type": "code",
   "execution_count": 8,
   "metadata": {
    "scrolled": false
   },
   "outputs": [
    {
     "name": "stdout",
     "output_type": "stream",
     "text": [
      "NT 43\n",
      "ASC 37\n"
     ]
    }
   ],
   "source": [
    "#mycharite.check(df)\n",
    "print ('NT ' + str(sum(df.groupby('vpn').mean().asc==0)))\n",
    "print ('ASC ' + str(sum(df.groupby('vpn').mean().asc==1)))"
   ]
  },
  {
   "cell_type": "code",
   "execution_count": 9,
   "metadata": {},
   "outputs": [
    {
     "name": "stdout",
     "output_type": "stream",
     "text": [
      "17\n"
     ]
    }
   ],
   "source": [
    "print (len(action_r))"
   ]
  },
  {
   "cell_type": "markdown",
   "metadata": {},
   "source": [
    "### Korrelation of Diagnosis and AQ"
   ]
  },
  {
   "cell_type": "code",
   "execution_count": 11,
   "metadata": {},
   "outputs": [
    {
     "name": "stdout",
     "output_type": "stream",
     "text": [
      "PointbiserialrResult(correlation=0.895717848576622, pvalue=9.197819656545238e-28)\n"
     ]
    }
   ],
   "source": [
    "from scipy import stats\n",
    "df_aq=df.groupby('vpn').mean().dropna(subset=['asq']).reset_index(drop=True)\n",
    "print (stats.pointbiserialr(df_aq.asc, df_aq.asq))"
   ]
  },
  {
   "cell_type": "markdown",
   "metadata": {},
   "source": [
    "### Distribution of AQ in NT and ASC"
   ]
  },
  {
   "cell_type": "code",
   "execution_count": 12,
   "metadata": {},
   "outputs": [
    {
     "data": {
      "text/html": [
       "<div>\n",
       "<style scoped>\n",
       "    .dataframe tbody tr th:only-of-type {\n",
       "        vertical-align: middle;\n",
       "    }\n",
       "\n",
       "    .dataframe tbody tr th {\n",
       "        vertical-align: top;\n",
       "    }\n",
       "\n",
       "    .dataframe thead th {\n",
       "        text-align: right;\n",
       "    }\n",
       "</style>\n",
       "<table border=\"1\" class=\"dataframe\">\n",
       "  <thead>\n",
       "    <tr style=\"text-align: right;\">\n",
       "      <th></th>\n",
       "      <th>count</th>\n",
       "      <th>mean</th>\n",
       "      <th>std</th>\n",
       "      <th>min</th>\n",
       "      <th>25%</th>\n",
       "      <th>50%</th>\n",
       "      <th>75%</th>\n",
       "      <th>max</th>\n",
       "    </tr>\n",
       "    <tr>\n",
       "      <th>asc</th>\n",
       "      <th></th>\n",
       "      <th></th>\n",
       "      <th></th>\n",
       "      <th></th>\n",
       "      <th></th>\n",
       "      <th></th>\n",
       "      <th></th>\n",
       "      <th></th>\n",
       "    </tr>\n",
       "  </thead>\n",
       "  <tbody>\n",
       "    <tr>\n",
       "      <th>0.0</th>\n",
       "      <td>41.0</td>\n",
       "      <td>14.487805</td>\n",
       "      <td>5.818599</td>\n",
       "      <td>4.0</td>\n",
       "      <td>10.0</td>\n",
       "      <td>14.0</td>\n",
       "      <td>19.0</td>\n",
       "      <td>29.0</td>\n",
       "    </tr>\n",
       "    <tr>\n",
       "      <th>1.0</th>\n",
       "      <td>35.0</td>\n",
       "      <td>37.542857</td>\n",
       "      <td>5.736072</td>\n",
       "      <td>20.0</td>\n",
       "      <td>34.5</td>\n",
       "      <td>39.0</td>\n",
       "      <td>41.5</td>\n",
       "      <td>46.0</td>\n",
       "    </tr>\n",
       "  </tbody>\n",
       "</table>\n",
       "</div>"
      ],
      "text/plain": [
       "     count       mean       std   min   25%   50%   75%   max\n",
       "asc                                                          \n",
       "0.0   41.0  14.487805  5.818599   4.0  10.0  14.0  19.0  29.0\n",
       "1.0   35.0  37.542857  5.736072  20.0  34.5  39.0  41.5  46.0"
      ]
     },
     "execution_count": 12,
     "metadata": {},
     "output_type": "execute_result"
    }
   ],
   "source": [
    "df[df.asq>0].groupby('vpn').mean().groupby('asc')['asq'].describe()"
   ]
  },
  {
   "cell_type": "markdown",
   "metadata": {},
   "source": [
    "### Was the Feature Extraction Successfull and Complete for all Subjects?"
   ]
  },
  {
   "cell_type": "code",
   "execution_count": 13,
   "metadata": {},
   "outputs": [],
   "source": [
    "def show_success_vpn(df):\n",
    "    for i in set(df.vpn):\n",
    "        print (i)\n",
    "        print (len(df[df.vpn==i]))      \n",
    "        print ('sucess')\n",
    "        print (np.mean(df[df.vpn==i].success))  # Number of sucessfull trackted trials!\n",
    "        print (np.mean(df[df.vpn==i].success)/len(df[df.vpn==i]))  "
   ]
  },
  {
   "cell_type": "markdown",
   "metadata": {},
   "source": [
    "#### Unterscheiden sich die Gruppen hinsichtlich, wie gut sie erkannt wurden?"
   ]
  },
  {
   "cell_type": "code",
   "execution_count": 14,
   "metadata": {},
   "outputs": [
    {
     "name": "stdout",
     "output_type": "stream",
     "text": [
      "0.9987862781047134\n",
      "0.034817363117462335\n",
      "0.9733113452986053\n",
      "0.03786621137311299\n",
      "0.8597127111792664\n",
      "0.9131555555554114\n",
      "NT\n",
      "0.9986284978428217\n",
      "0.013695089156780358\n",
      "0.9733406808081646\n",
      "ASC\n",
      "0.9989696808937444\n",
      "0.9732774010539653\n",
      "0.011395320891431826\n",
      "Ttest_indResult(statistic=0.021969594583111353, pvalue=0.9825283150518745)\n"
     ]
    }
   ],
   "source": [
    "print (np.mean(df.success))\n",
    "print (np.std(df.success))\n",
    "\n",
    "print (np.mean(df.confidence))\n",
    "print (np.std(df.confidence))\n",
    "print (np.mean(df.confidence)-3*np.std(df.confidence))\n",
    "print (np.min(df.groupby('vpn').mean().confidence))\n",
    "\n",
    "print ('NT')\n",
    "print (np.mean(df[df.asc==0].groupby('vpn').mean().success))\n",
    "print (np.std(df[df.asc==0].groupby('vpn').mean().confidence))\n",
    "print (np.mean(df[df.asc==0].groupby('vpn').mean().confidence))\n",
    "\n",
    "print ('ASC')\n",
    "print (np.mean(df[df.asc==1].groupby('vpn').mean().success))\n",
    "print (np.mean(df[df.asc==1].groupby('vpn').mean().confidence))\n",
    "print (np.std(df[df.asc==1].groupby('vpn').mean().confidence))\n",
    "\n",
    "print (scipy.stats.ttest_ind(df[df.asc==0].groupby('vpn').mean().confidence, \n",
    "                             df[df.asc==1].groupby('vpn').mean().confidence))"
   ]
  },
  {
   "cell_type": "markdown",
   "metadata": {},
   "source": [
    "warum wird die confidence durch die Outlier-Exclusion schlechter?"
   ]
  },
  {
   "cell_type": "markdown",
   "metadata": {
    "collapsed": true
   },
   "source": [
    "### Exclude non-confident trials and Outliers"
   ]
  },
  {
   "cell_type": "code",
   "execution_count": 10,
   "metadata": {},
   "outputs": [
    {
     "name": "stdout",
     "output_type": "stream",
     "text": [
      "set()\n",
      "all participants excluded that were tracked with a successrate less than 0.9\n",
      "935964\n",
      "934828\n",
      "all non-successfully tracked frames excluded\n",
      "all frames excluded that were tracked with a lower confidence than 0.75\n",
      "934828\n"
     ]
    }
   ],
   "source": [
    "df=mycharite.exclude_outlier(df)"
   ]
  },
  {
   "cell_type": "code",
   "execution_count": 16,
   "metadata": {},
   "outputs": [],
   "source": [
    "def outlier_detection(df):\n",
    "    var=['AU06_r', 'AU12_r', 'AU04_r']\n",
    "    for vpn in set(df.vpn):\n",
    "        df.loc[(df.vpn==vpn), :]=mycharite.outlier_trials(df.loc[(df.vpn==vpn), :], var, 'iq')\n",
    "    return df\n",
    "\n",
    "# this excludes a lot of frames - thus might not be useful as non-normally distributed"
   ]
  },
  {
   "cell_type": "markdown",
   "metadata": {},
   "source": [
    "### Descriptives"
   ]
  },
  {
   "cell_type": "code",
   "execution_count": 17,
   "metadata": {},
   "outputs": [
    {
     "name": "stdout",
     "output_type": "stream",
     "text": [
      "correlation_AU06_r\n",
      "     count      mean       std       min       25%       50%       75%  \\\n",
      "asc                                                                      \n",
      "0.0   43.0  0.048300  0.173138 -0.286235 -0.079251  0.035123  0.180347   \n",
      "1.0   37.0  0.032896  0.154902 -0.235629 -0.079555  0.015992  0.179555   \n",
      "\n",
      "          max  \n",
      "asc            \n",
      "0.0  0.474494  \n",
      "1.0  0.340486  \n",
      "correlation_AU12_r\n",
      "     count      mean       std       min       25%       50%       75%  \\\n",
      "asc                                                                      \n",
      "0.0   43.0  0.025208  0.159271 -0.284496 -0.075000  0.022065  0.100711   \n",
      "1.0   37.0  0.021879  0.186457 -0.277700 -0.133603  0.014218  0.159312   \n",
      "\n",
      "          max  \n",
      "asc            \n",
      "0.0  0.496964  \n",
      "1.0  0.618826  \n",
      "correlation_AU06_c\n",
      "     count      mean       std       min       25%       50%       75%  \\\n",
      "asc                                                                      \n",
      "0.0   38.0  0.040263  0.181467 -0.358369 -0.099330  0.038210  0.198055   \n",
      "1.0   27.0  0.051693  0.140942 -0.204443 -0.029629  0.028833  0.153025   \n",
      "\n",
      "          max  \n",
      "asc            \n",
      "0.0  0.355050  \n",
      "1.0  0.294377  \n",
      "correlation_AU12_c\n",
      "     count      mean       std       min       25%       50%       75%  \\\n",
      "asc                                                                      \n",
      "0.0   42.0  0.017568  0.205422 -0.392106 -0.115965  0.019878  0.164339   \n",
      "1.0   35.0  0.091902  0.160716 -0.233828 -0.019132  0.102065  0.191638   \n",
      "\n",
      "          max  \n",
      "asc            \n",
      "0.0  0.410700  \n",
      "1.0  0.435431  \n",
      "correlation_AU15_r\n",
      "     count      mean       std       min       25%       50%       75%  \\\n",
      "asc                                                                      \n",
      "0.0   43.0 -0.025269  0.181448 -0.447166 -0.132591 -0.009717  0.097571   \n",
      "1.0   37.0  0.004281  0.138123 -0.361336 -0.040283 -0.006282  0.082794   \n",
      "\n",
      "          max  \n",
      "asc            \n",
      "0.0  0.346761  \n",
      "1.0  0.291093  \n",
      "correlation_AU09_r\n",
      "     count      mean       std       min       25%       50%       75%  \\\n",
      "asc                                                                      \n",
      "0.0   43.0  0.006505  0.223399 -0.417945 -0.164980 -0.016802  0.144083   \n",
      "1.0   37.0  0.021343  0.213727 -0.472672 -0.121255  0.019333  0.164539   \n",
      "\n",
      "          max  \n",
      "asc            \n",
      "0.0  0.492915  \n",
      "1.0  0.418101  \n",
      "correlation_AU04_r\n",
      "     count      mean       std       min       25%       50%       75%  \\\n",
      "asc                                                                      \n",
      "0.0   42.0 -0.113973  0.177535 -0.380789 -0.213963 -0.132490 -0.021506   \n",
      "1.0   36.0 -0.057250  0.211202 -0.514488 -0.199646 -0.057762  0.080983   \n",
      "\n",
      "          max  \n",
      "asc            \n",
      "0.0  0.350405  \n",
      "1.0  0.361741  \n",
      "correlation_AU15_c\n",
      "     count      mean       std       min       25%       50%       75%  \\\n",
      "asc                                                                      \n",
      "0.0   42.0 -0.063858  0.201221 -0.480117 -0.182879 -0.093280  0.107827   \n",
      "1.0   37.0 -0.062601  0.215008 -0.411058 -0.257234 -0.018994  0.086565   \n",
      "\n",
      "          max  \n",
      "asc            \n",
      "0.0  0.319590  \n",
      "1.0  0.368005  \n",
      "correlation_AU09_c\n",
      "     count      mean       std       min       25%       50%       75%  \\\n",
      "asc                                                                      \n",
      "0.0   37.0 -0.034591  0.133505 -0.337181 -0.123452 -0.034995  0.053079   \n",
      "1.0   30.0 -0.003709  0.152468 -0.205912 -0.123452 -0.045479  0.100551   \n",
      "\n",
      "          max  \n",
      "asc            \n",
      "0.0  0.246903  \n",
      "1.0  0.341645  \n",
      "correlation_AU04_c\n",
      "     count      mean       std       min       25%       50%       75%  \\\n",
      "asc                                                                      \n",
      "0.0   23.0 -0.077309  0.100787 -0.207751 -0.132704 -0.099873 -0.079246   \n",
      "1.0   26.0 -0.039640  0.173928 -0.375036 -0.149536 -0.094468  0.121593   \n",
      "\n",
      "          max  \n",
      "asc            \n",
      "0.0  0.167556  \n",
      "1.0  0.219726  \n",
      "correlation_gaze_angle_x\n",
      "     count      mean       std       min       25%       50%       75%  \\\n",
      "asc                                                                      \n",
      "0.0   43.0  0.018520  0.334440 -0.633401 -0.297065  0.043725  0.253644   \n",
      "1.0   37.0 -0.091356  0.319926 -0.587652 -0.358704 -0.145547  0.225506   \n",
      "\n",
      "          max  \n",
      "asc            \n",
      "0.0  0.683198  \n",
      "1.0  0.613563  \n",
      "correlation_gaze_angle_y\n",
      "     count      mean       std       min       25%       50%       75%  \\\n",
      "asc                                                                      \n",
      "0.0   43.0  0.032836  0.189933 -0.345951 -0.073077  0.070850  0.128340   \n",
      "1.0   37.0 -0.030709  0.146030 -0.327733 -0.124696 -0.018826  0.081781   \n",
      "\n",
      "          max  \n",
      "asc            \n",
      "0.0  0.474089  \n",
      "1.0  0.227935  \n",
      "AU04_r\n",
      "     count     mean       std  min       25%       50%       75%       max\n",
      "asc                                                                       \n",
      "0.0   43.0  0.13228  0.269764  0.0  0.000937  0.018213  0.118604  1.483422\n",
      "1.0   37.0  0.30473  0.496993  0.0  0.023589  0.079448  0.365576  2.617521\n",
      "AU06_r\n",
      "     count      mean       std       min       25%       50%       75%  \\\n",
      "asc                                                                      \n",
      "0.0   43.0  0.506642  0.367060  0.005053  0.157825  0.498480  0.696249   \n",
      "1.0   37.0  0.425153  0.450621  0.001095  0.063771  0.305938  0.603127   \n",
      "\n",
      "          max  \n",
      "asc            \n",
      "0.0  1.293533  \n",
      "1.0  1.659220  \n",
      "AU09_r\n",
      "     count      mean       std       min       25%       50%       75%  \\\n",
      "asc                                                                      \n",
      "0.0   43.0  0.051586  0.016173  0.029415  0.037074  0.049954  0.058794   \n",
      "1.0   37.0  0.045454  0.012498  0.019744  0.037946  0.043968  0.050898   \n",
      "\n",
      "          max  \n",
      "asc            \n",
      "0.0  0.091582  \n",
      "1.0  0.082169  \n",
      "AU12_r\n",
      "     count      mean       std       min       25%       50%       75%  \\\n",
      "asc                                                                      \n",
      "0.0   43.0  0.531585  0.469934  0.001026  0.127805  0.482721  0.842380   \n",
      "1.0   37.0  0.316849  0.360599  0.000967  0.027829  0.136680  0.531836   \n",
      "\n",
      "          max  \n",
      "asc            \n",
      "0.0  1.568688  \n",
      "1.0  1.172168  \n"
     ]
    }
   ],
   "source": [
    "face=['AU04_r', 'AU06_r', 'AU09_r', 'AU12_r']\n",
    "new_features=new_features+face\n",
    "for i in new_features:\n",
    "    print (i)\n",
    "    print (df.groupby('vpn').mean().groupby('asc')[i].describe())"
   ]
  },
  {
   "cell_type": "markdown",
   "metadata": {},
   "source": [
    "###  Smoothing the Signal"
   ]
  },
  {
   "cell_type": "code",
   "execution_count": 47,
   "metadata": {
    "collapsed": true
   },
   "outputs": [],
   "source": [
    "def smooth(df):\n",
    "    round_df=df\n",
    "    for i in set(df.vpn):\n",
    "        for au in action_r:\n",
    "            round_df.loc[round_df.vpn==i, au]=round_df.loc[round_df.vpn==i, au].rolling(30, win_type='triang').mean()\n",
    "    return round_df"
   ]
  },
  {
   "cell_type": "code",
   "execution_count": 48,
   "metadata": {
    "collapsed": true
   },
   "outputs": [],
   "source": [
    "#round_df=smooth(df)"
   ]
  },
  {
   "cell_type": "markdown",
   "metadata": {},
   "source": [
    "# 1) Mimicry of Joy and Disgust "
   ]
  },
  {
   "cell_type": "markdown",
   "metadata": {},
   "source": [
    "First, we checked whether the participants showed a similar feeling as the actress in the conversation part of disgust and joy. We compared the facial expression with the facial expression of the neutral part."
   ]
  },
  {
   "cell_type": "code",
   "execution_count": 49,
   "metadata": {
    "collapsed": true
   },
   "outputs": [],
   "source": [
    "df['AU_joy']=(df.AU12_r + df.AU06_r)/2\n",
    "df['AU_disgust']=df.AU04_r"
   ]
  },
  {
   "cell_type": "code",
   "execution_count": 50,
   "metadata": {
    "collapsed": true
   },
   "outputs": [],
   "source": [
    "df_neutral=df[((df.conversation=='neutral_speaker')|(df.conversation=='neutral_participant'))].groupby(['vpn']).mean().reset_index(drop=True)"
   ]
  },
  {
   "cell_type": "markdown",
   "metadata": {},
   "source": [
    "## Joy"
   ]
  },
  {
   "cell_type": "code",
   "execution_count": 51,
   "metadata": {},
   "outputs": [
    {
     "name": "stdout",
     "output_type": "stream",
     "text": [
      "AU06_C\n",
      "not normally distributed: p1=2.9427179551629046e-13 p2=1.625597226273534e-11\n",
      "WilcoxonResult(statistic=232.0, pvalue=1.1050977698892616e-05)\n",
      "Dataframe one\n",
      "median:0.0012437810945273632\n",
      "Dataframe two\n",
      "median:0.037005649717514126\n",
      "AU12_C\n",
      "not normally distributed: p1=7.138238333759261e-10 p2=4.176862233862266e-08\n",
      "WilcoxonResult(statistic=499.0, pvalue=0.00029695716349874735)\n",
      "Dataframe one\n",
      "median:0.09228855721393034\n",
      "Dataframe two\n",
      "median:0.19745762711864406\n",
      "AU06_r\n",
      "not normally distributed: p1=1.11676797587279e-06 p2=2.4959086658782326e-05\n",
      "WilcoxonResult(statistic=567.0, pvalue=7.398447671944013e-07)\n",
      "Dataframe one\n",
      "median:0.3280017164179102\n",
      "Dataframe two\n",
      "median:0.4256355932203385\n",
      "AU12_r\n",
      "not normally distributed: p1=1.5641478512407048e-07 p2=1.4313030760604306e-06\n",
      "WilcoxonResult(statistic=703.0, pvalue=1.0915470729433998e-05)\n",
      "Dataframe one\n",
      "median:0.2405323383084576\n",
      "Dataframe two\n",
      "median:0.30412429378531003\n"
     ]
    }
   ],
   "source": [
    "#compared to neutral\n",
    "df_joy=df[((df.conversation=='joy_speaker') |(df.conversation=='joy_participant'))].groupby(['vpn']).mean().reset_index(drop=True)\n",
    "print ('AU06_C')\n",
    "mystats.two_dep_sample_tests(df_neutral, df_joy, 'AU06_c')\n",
    "print ('AU12_C')\n",
    "mystats.two_dep_sample_tests(df_neutral, df_joy, 'AU12_c')\n",
    "\n",
    "#compared to neutral\n",
    "df_joy=df[((df.conversation=='joy_speaker') |(df.conversation=='joy_participant'))].groupby(['vpn']).mean().reset_index(drop=True)\n",
    "print ('AU06_r')\n",
    "mystats.two_dep_sample_tests(df_neutral, df_joy, 'AU06_r')\n",
    "print ('AU12_r')\n",
    "mystats.two_dep_sample_tests(df_neutral, df_joy, 'AU12_r')"
   ]
  },
  {
   "cell_type": "markdown",
   "metadata": {},
   "source": [
    "## Disgust"
   ]
  },
  {
   "cell_type": "code",
   "execution_count": 52,
   "metadata": {},
   "outputs": [
    {
     "name": "stdout",
     "output_type": "stream",
     "text": [
      "not normally distributed: p1=2.4342949354312792e-17 p2=4.9409387268311414e-17\n",
      "WilcoxonResult(statistic=278.0, pvalue=0.9643706868158897)\n",
      "Dataframe one\n",
      "median:0.0\n",
      "Dataframe two\n",
      "median:0.0\n",
      "not normally distributed: p1=8.212313072413976e-14 p2=1.043396529658118e-13\n",
      "WilcoxonResult(statistic=1044.0, pvalue=0.06423928037880697)\n",
      "Dataframe one\n",
      "median:0.056064676616915554\n",
      "Dataframe two\n",
      "median:0.05798451431252934\n"
     ]
    }
   ],
   "source": [
    "#compared to neutral\n",
    "df_disgust=df[((df.conversation=='disgust_speaker')|(df.conversation=='disgust_participant'))].groupby(['vpn']).mean().reset_index(drop=True)\n",
    "#my.two_ind_sample_tests(df_disgust, df_neutral, 'AU04_r')\n",
    "\n",
    "mystats.two_dep_sample_tests(df_neutral, df_disgust, 'AU04_c')\n",
    "mystats.two_dep_sample_tests(df_neutral, df_disgust, 'AU04_r')"
   ]
  },
  {
   "cell_type": "markdown",
   "metadata": {},
   "source": [
    "## 2) Statistical Comparing the AU of ASD and NT"
   ]
  },
  {
   "cell_type": "code",
   "execution_count": 53,
   "metadata": {
    "collapsed": true
   },
   "outputs": [],
   "source": [
    "def group_comparison(df):\n",
    "    print ('joy')\n",
    "    df_joy=df[((df.conversation=='joy_speaker') |(df.conversation=='joy_participant'))].groupby(['vpn']).mean().reset_index(drop=True)\n",
    "\n",
    "    df_nt=df_joy[df_joy.asc==0]\n",
    "    df_asc=df_joy[df_joy.asc==1]\n",
    "\n",
    "    print ('AU_06c')\n",
    "    mystats.two_ind_sample_tests(df_nt, df_asc, 'AU06_c')\n",
    "\n",
    "    print ('AU_06r')\n",
    "    mystats.two_ind_sample_tests(df_nt, df_asc, 'AU06_r')\n",
    "\n",
    "    print ('AU12_c')\n",
    "    U,p= scipy.stats.mannwhitneyu(df_nt['AU12_c'], df_asc['AU12_c'])\n",
    "    mystats.two_ind_sample_tests(df_nt, df_asc, 'AU12_c')\n",
    "    n1=len(df_nt['AU12_c'])\n",
    "    n2=len(df_asc['AU12_c'])\n",
    "    effectsize=1-(2*U/(n1*n2))\n",
    "    print (effectsize)\n",
    "    print ('AU_12r')\n",
    "    mystats.two_ind_sample_tests(df_nt, df_asc, 'AU12_r')\n",
    "\n",
    "\n",
    "    print ('disgust')\n",
    "    df_disgust=df[((df.conversation=='disgust_speaker')|(df.conversation=='disgust_participant'))].groupby(['vpn']).mean().reset_index(drop=True)\n",
    "\n",
    "    df_nt=df_disgust[df_disgust.asc==0]\n",
    "    df_asc=df_disgust[df_disgust.asc==1]\n",
    "    print('AU04_c')\n",
    "    mystats.two_ind_sample_tests(df_nt, df_asc, 'AU04_c')\n",
    "    print('AU04_r')\n",
    "    mystats.two_ind_sample_tests(df_nt, df_asc, 'AU04_r')\n",
    "\n",
    "\n",
    "    print ('complete conversation')\n",
    "    df=df[df.conversation!='intro']\n",
    "\n",
    "    df_nt=df[df.asc==0].groupby(['vpn']).mean().reset_index(drop=True)\n",
    "    df_asc=df[df.asc==1].groupby(['vpn']).mean().reset_index(drop=True)\n",
    "    print ('AU12_C')\n",
    "    mystats.two_ind_sample_tests(df_nt, df_asc, 'AU12_c')\n",
    "    print ('AU12_r')\n",
    "    mystats.two_ind_sample_tests(df_nt, df_asc, 'AU12_r')\n",
    "    print ('AU06_C')\n",
    "    mystats.two_ind_sample_tests(df_nt, df_asc, 'AU06_c')\n",
    "    print ('AU06_r')\n",
    "    mystats.two_ind_sample_tests(df_nt, df_asc, 'AU06_r')"
   ]
  },
  {
   "cell_type": "code",
   "execution_count": 54,
   "metadata": {},
   "outputs": [
    {
     "name": "stdout",
     "output_type": "stream",
     "text": [
      "joy\n",
      "AU_06c\n",
      "not normally distributed: p1=7.428380968121928e-07 p2=8.568573406364521e-09\n",
      "Mann-Whitney-U-Test: U=674.5p=0.11835440031324707\n",
      "Effectsize:0.15210559396605905\n",
      "Dataframe one\n",
      "median:0.0576271186440678\n",
      "Dataframe two\n",
      "median:0.03502824858757062\n",
      "AU_06r\n",
      "not normally distributed: p1=0.02160686068236828 p2=0.00014690466923639178\n",
      "Mann-Whitney-U-Test: U=677.0p=0.12742196757154478\n",
      "Effectsize:0.14896291640477688\n",
      "Dataframe one\n",
      "median:0.48370056497175157\n",
      "Dataframe two\n",
      "median:0.353615819209038\n",
      "AU12_c\n",
      "distributions of samples is not equal\n",
      "K=: 0.4116907605279698\n",
      "p=0.0015143578102682742\n",
      "not normally distributed: p1=0.00027006518212147057 p2=8.557353226024134e-07\n",
      "Mann-Whitney-U-Test: U=578.0p=0.017684133538499323\n",
      "Effectsize:0.27341294783155246\n",
      "Dataframe one\n",
      "median:0.39717514124293785\n",
      "Dataframe two\n",
      "median:0.11751412429378531\n",
      "0.27341294783155246\n",
      "AU_12r\n",
      "not normally distributed: p1=0.001435295445844531 p2=4.935819742968306e-05\n",
      "Mann-Whitney-U-Test: U=639.0p=0.06611699811842248\n",
      "Effectsize:0.19673161533626649\n",
      "Dataframe one\n",
      "median:0.5083785310734452\n",
      "Dataframe two\n",
      "median:0.20642937853107338\n",
      "disgust\n",
      "AU04_c\n",
      "not normally distributed: p1=2.4168698726373394e-13 p2=9.381909138461708e-11\n",
      "Mann-Whitney-U-Test: U=641.5p=0.04421705331428001\n",
      "Effectsize:0.19358893777498432\n",
      "Dataframe one\n",
      "median:0.0\n",
      "Dataframe two\n",
      "median:0.0\n",
      "AU04_r\n",
      "not normally distributed: p1=3.372034318438466e-10 p2=1.5500793537626123e-08\n",
      "Mann-Whitney-U-Test: U=568.0p=0.014218764651962508\n",
      "Effectsize:0.28598365807668136\n",
      "Dataframe one\n",
      "median:0.02541060534960112\n",
      "Dataframe two\n",
      "median:0.08246832473017375\n",
      "complete conversation\n",
      "AU12_C\n",
      "distributions of samples is not equal\n",
      "K=: 0.3419233186675047\n",
      "p=0.014071506055315515\n",
      "not normally distributed: p1=0.00041318745934404433 p2=2.010141088248929e-06\n",
      "Mann-Whitney-U-Test: U=557.5p=0.01095007740361455\n",
      "Effectsize:0.29918290383406665\n",
      "Dataframe one\n",
      "median:0.40314667568939266\n",
      "Dataframe two\n",
      "median:0.08830993063779394\n",
      "AU12_r\n",
      "not normally distributed: p1=0.0012029737699776888 p2=5.167156632523984e-05\n",
      "Mann-Whitney-U-Test: U=581.0p=0.019459983788127907\n",
      "Effectsize:0.2696417347580138\n",
      "Dataframe one\n",
      "median:0.5238944341059022\n",
      "Dataframe two\n",
      "median:0.15626628320081107\n",
      "AU06_C\n",
      "not normally distributed: p1=5.956284439889714e-06 p2=1.1384751807952398e-08\n",
      "Mann-Whitney-U-Test: U=598.5p=0.02825881792743003\n",
      "Effectsize:0.24764299182903837\n",
      "Dataframe one\n",
      "median:0.12079174420571816\n",
      "Dataframe two\n",
      "median:0.021992894603282017\n",
      "AU06_r\n",
      "not normally distributed: p1=0.08234371244907379 p2=0.00018308898143004626\n",
      "Mann-Whitney-U-Test: U=653.0p=0.08530367090251911\n",
      "Effectsize:0.17913262099308613\n",
      "Dataframe one\n",
      "median:0.5216308577228889\n",
      "Dataframe two\n",
      "median:0.34189138893588017\n"
     ]
    }
   ],
   "source": [
    "group_comparison(df)"
   ]
  },
  {
   "cell_type": "code",
   "execution_count": 7,
   "metadata": {
    "collapsed": true
   },
   "outputs": [],
   "source": [
    "def mimicry_group_conversation(df, features):\n",
    "    print ('complete conversation')\n",
    "    df=df[df.conversation!='intro']\n",
    "    \n",
    "    df_nt=df[df.asc==0].groupby(['vpn']).mean().reset_index(drop=True)\n",
    "    df_asc=df[df.asc==1].groupby(['vpn']).mean().reset_index(drop=True)\n",
    "    for fea in features:\n",
    "\n",
    "        print (fea)\n",
    "        mystats.two_ind_sample_tests(df_nt[df_nt[fea]>0], df_asc[df_asc[fea]>0], fea)\n",
    "    "
   ]
  },
  {
   "cell_type": "code",
   "execution_count": 8,
   "metadata": {},
   "outputs": [
    {
     "name": "stdout",
     "output_type": "stream",
     "text": [
      "complete conversation\n",
      "correlation_AU06_c\n",
      "distributions of samples is not equal\n",
      "K=: 0.4294117647058824\n",
      "p=0.047161235849059825\n",
      "not normally distributed: p1=0.432197242975235 p2=0.013972083106637001\n",
      "Mann-Whitney-U-Test: U=113.0p=0.04254385772957274\n",
      "Effectsize:0.33529411764705885\n",
      "Dataframe one\n",
      "median:0.19457204176633763\n",
      "Dataframe two\n",
      "median:0.07665286881727515\n",
      "correlation_AU12_c\n",
      "normally distributed - now variance homogenity is checked:\n",
      "Ttest_indResult(statistic=0.3104109636480048, pvalue=0.7576816348384683)\n",
      "Effect Size for Independent T-Test\n",
      "0.09273399948450975\n",
      "Dataframe one\n",
      "mean:0.1793710797747395\n",
      "Confidence Intervall\n",
      "(0.1310733499556121, 0.22766880959386687)\n",
      "Dataframe two\n",
      "mean:0.16942978904384506\n",
      "Confidence Intervall\n",
      "(0.12398272100388101, 0.21487685708380905)\n",
      "correlation_AU15_r\n",
      "not normally distributed: p1=0.026923280209302902 p2=0.28113701939582825\n",
      "Mann-Whitney-U-Test: U=122.0p=0.1570514983621648\n",
      "Effectsize:0.20261437908496727\n",
      "Dataframe one\n",
      "median:0.10587044534413474\n",
      "Dataframe two\n",
      "median:0.08512145748987035\n",
      "correlation_AU09_r\n",
      "not normally distributed: p1=0.3482724726200104 p2=0.014578936621546745\n",
      "Mann-Whitney-U-Test: U=159.0p=0.09780762021037459\n",
      "Effectsize:0.23923444976076558\n",
      "Dataframe one\n",
      "median:0.1902736538904783\n",
      "Dataframe two\n",
      "median:0.12564930766712054\n",
      "correlation_AU04_r\n",
      "not normally distributed: p1=0.8797740340232849 p2=0.02448209747672081\n",
      "Mann-Whitney-U-Test: U=63.0p=0.3151808771226696\n",
      "Effectsize:0.125\n",
      "Dataframe one\n",
      "median:0.1317813765182266\n",
      "Dataframe two\n",
      "median:0.09547070626206292\n",
      "correlation_AU15_c\n",
      "normally distributed - now variance homogenity is checked:\n",
      "Ttest_indResult(statistic=0.8485619566566968, pvalue=0.4024283148583141)\n",
      "Effect Size for Independent T-Test\n",
      "0.3004116941005346\n",
      "Dataframe one\n",
      "mean:0.14952914356109834\n",
      "Confidence Intervall\n",
      "(0.10345456758062035, 0.19560371954157627)\n",
      "Dataframe two\n",
      "mean:0.12082960607577214\n",
      "Confidence Intervall\n",
      "(0.06717309727933488, 0.17448611487220944)\n",
      "correlation_AU09_c\n",
      "normally distributed - now variance homogenity is checked:\n",
      "Ttest_indResult(statistic=-1.312805816809448, pvalue=0.20166388972338384)\n",
      "Effect Size for Independent T-Test\n",
      "-0.5382684105520551\n",
      "Dataframe one\n",
      "mean:0.10274208865940995\n",
      "Confidence Intervall\n",
      "(0.060071043082539244, 0.1454131342362807)\n",
      "Dataframe two\n",
      "mean:0.1516615983082361\n",
      "Confidence Intervall\n",
      "(0.0788824549333703, 0.2244407416831019)\n",
      "correlation_AU04_c\n",
      "not normally distributed: p1=0.8193378448486328 p2=0.029428504407405853\n",
      "Mann-Whitney-U-Test: U=12.0p=0.06289321231947\n",
      "Effectsize:0.52\n",
      "Dataframe one\n",
      "median:0.09960847620341745\n",
      "Dataframe two\n",
      "median:0.178253183376947\n",
      "correlation_gaze_angle_x\n",
      "normally distributed - now variance homogenity is checked:\n",
      "Ttest_indResult(statistic=0.9583242804077903, pvalue=0.3441198135051178)\n",
      "Effect Size for Independent T-Test\n",
      "0.32003379412887084\n",
      "Dataframe one\n",
      "mean:0.28191339552895767\n",
      "Confidence Intervall\n",
      "(0.20254006909978622, 0.361286721958129)\n",
      "Dataframe two\n",
      "mean:0.2280364372469617\n",
      "Confidence Intervall\n",
      "(0.14522426730323984, 0.31084860719068363)\n",
      "correlation_gaze_angle_y\n",
      "not normally distributed: p1=0.00011735060252249241 p2=0.6945616602897644\n",
      "Mann-Whitney-U-Test: U=146.0p=0.07638037566462598\n",
      "Effectsize:0.27\n",
      "Dataframe one\n",
      "median:0.12651821862346882\n",
      "Dataframe two\n",
      "median:0.09686234817814207\n"
     ]
    }
   ],
   "source": [
    "features=['correlation_AU06_c', 'correlation_AU12_c', 'correlation_AU15_r',\n",
    "   'correlation_AU09_r', 'correlation_AU04_r', 'correlation_AU15_c',\n",
    "   'correlation_AU09_c', 'correlation_AU04_c',\n",
    "         'correlation_gaze_angle_x', 'correlation_gaze_angle_y']\n",
    "\n",
    "mimicry_group_conversation(df, features)"
   ]
  },
  {
   "cell_type": "code",
   "execution_count": null,
   "metadata": {
    "collapsed": true
   },
   "outputs": [],
   "source": [
    "mimicry_group_conversation(df)"
   ]
  },
  {
   "cell_type": "code",
   "execution_count": null,
   "metadata": {
    "collapsed": true
   },
   "outputs": [],
   "source": [
    "#FEMALE\n",
    "def gender_based_analysis (df):\n",
    "    print ('female')\n",
    "    group_comparison(df[df.sex==1])\n",
    "    print ('male')\n",
    "    group_comparison(df[df.sex==2])"
   ]
  },
  {
   "cell_type": "code",
   "execution_count": null,
   "metadata": {
    "collapsed": true
   },
   "outputs": [],
   "source": [
    "def time_plot(df, var, title):\n",
    "    plt.plot(np.array(df[df.asc==1].reset_index(drop=True).groupby(['counter']).mean()[var]), color='green')\n",
    "    plt.plot(np.array(df[df.asc==0].reset_index(drop=True).groupby(['counter']).mean()[var]), color='blue')\n",
    "    #scale!!!\n",
    "    plt.title(str(title))\n",
    "    plt.show()\n",
    "  \n",
    "   \n",
    "for con in np.unique(df.conversation):\n",
    "    time_plot(df[df.conversation==con], 'AU12_r', con) #sc"
   ]
  },
  {
   "cell_type": "code",
   "execution_count": null,
   "metadata": {
    "collapsed": true
   },
   "outputs": [],
   "source": [
    "df['proband']=(df.conversation=='joy_participant')|(df.conversation=='disgust_participant')|(df.conversation=='neutral_participant')\n",
    "df['actress']=(df.conversation=='joy_speaker')|(df.conversation=='disgust_speaker')|(df.conversation=='neutral_speaker')\n",
    "df.loc[(df.conversation!='intro'), \"whospeaks\"] = df[['proband', 'actress']].idxmax(axis=1) "
   ]
  },
  {
   "cell_type": "code",
   "execution_count": null,
   "metadata": {
    "collapsed": true
   },
   "outputs": [],
   "source": [
    "df.columns\n",
    "from sklearn.preprocessing import LabelEncoder\n",
    "\n",
    "LE = LabelEncoder()\n",
    "df['conversationpart'] = LE.fit_transform(df['conversation'])"
   ]
  },
  {
   "cell_type": "code",
   "execution_count": null,
   "metadata": {
    "collapsed": true
   },
   "outputs": [],
   "source": [
    "print ('AU12')\n",
    "data=df[df.sex==1].groupby(['vpn', 'conversationpart']).mean().reset_index()\n",
    "model = sm.MixedLM.from_formula('AU12_c' + \" ~ asc*conversationpart\", data, groups=data['vpn']) #, re_formula=\"~conversationpart\")\n",
    "mdf = model.fit()\n",
    "print(mdf.summary())"
   ]
  },
  {
   "cell_type": "code",
   "execution_count": null,
   "metadata": {
    "collapsed": true
   },
   "outputs": [],
   "source": [
    "plt.hist(df.groupby(['vpn']).mean().reset_index().AU12_r)\n",
    "plt.show()"
   ]
  },
  {
   "cell_type": "markdown",
   "metadata": {},
   "source": [
    "## Mimicry-Analysis"
   ]
  },
  {
   "cell_type": "code",
   "execution_count": null,
   "metadata": {
    "collapsed": true
   },
   "outputs": [],
   "source": [
    "for i in new_features:\n",
    "    print (i)\n",
    "    plt.hist(df[df.asc==0].groupby(['vpn']).mean().reset_index()[i], color='blue')\n",
    "    print (np.mean(df[df.asc==0].groupby(['vpn']).mean().reset_index()[i]))\n",
    "    plt.hist(df[df.asc==1].groupby(['vpn']).mean().reset_index()[i], color='red')\n",
    "    print (np.mean(df[df.asc==1].groupby(['vpn']).mean().reset_index()[i]))\n",
    "    plt.show()\n",
    "    print (scipy.stats.ttest_ind((df[df.asc==0].groupby(['vpn']).mean().reset_index()[i]), \n",
    "           (df[df.asc==1].groupby(['vpn']).mean().reset_index()[i])))"
   ]
  },
  {
   "cell_type": "code",
   "execution_count": null,
   "metadata": {
    "collapsed": true
   },
   "outputs": [],
   "source": [
    "print ('AU12')\n",
    "data=df.groupby(['vpn', 'conversationpart']).mean().reset_index()\n",
    "model = sm.MixedLM.from_formula('AU12_c' + \" ~ asc+sex\", data, groups=data['vpn']) #, re_formula=\"~conversationpart\")\n",
    "mdf = model.fit()\n",
    "print(mdf.summary())\n",
    "\n",
    "print ('AU12')\n",
    "data=df.groupby(['vpn', 'conversationpart']).mean().reset_index()\n",
    "model = sm.MixedLM.from_formula('AU12_r' + \" ~ asc\", data, groups=data['vpn']) #, re_formula=\"~conversationpart\")\n",
    "mdf = model.fit()\n",
    "print(mdf.summary())"
   ]
  },
  {
   "cell_type": "code",
   "execution_count": null,
   "metadata": {
    "collapsed": true
   },
   "outputs": [],
   "source": [
    "print ('AU12')\n",
    "data=df[df.sex==2].groupby(['vpn', 'conversationpart']).mean().reset_index()\n",
    "model = sm.MixedLM.from_formula('AU12_c' + \" ~ asc*conversationpart\", data, groups=data['vpn']) #, re_formula=\"~conversationpart\")\n",
    "mdf = model.fit()\n",
    "print(mdf.summary())"
   ]
  },
  {
   "cell_type": "code",
   "execution_count": null,
   "metadata": {
    "collapsed": true
   },
   "outputs": [],
   "source": []
  },
  {
   "cell_type": "code",
   "execution_count": null,
   "metadata": {
    "collapsed": true
   },
   "outputs": [],
   "source": [
    "print ('AU12')\n",
    "data=df[df.sex==1].groupby(['vpn', 'conversationpart']).mean().reset_index()\n",
    "model = sm.MixedLM.from_formula('AU12_r' + \" ~ asc*conversationpart\", data, groups=data['vpn']) #, re_formula=\"~conversationpart\")\n",
    "mdf = model.fit()\n",
    "print(mdf.summary())"
   ]
  },
  {
   "cell_type": "code",
   "execution_count": null,
   "metadata": {
    "collapsed": true
   },
   "outputs": [],
   "source": [
    "print ('AU12')\n",
    "data=df[df.sex==2].groupby(['vpn', 'conversationpart']).mean().reset_index()\n",
    "model = sm.MixedLM.from_formula('AU12_r' + \" ~ asc*conversationpart\", data, groups=data['vpn']) #, re_formula=\"~conversationpart\")\n",
    "mdf = model.fit()\n",
    "print(mdf.summary())"
   ]
  },
  {
   "cell_type": "code",
   "execution_count": null,
   "metadata": {
    "collapsed": true
   },
   "outputs": [],
   "source": [
    "print ('AU12')\n",
    "data=df.groupby(['vpn', 'conversationpart']).mean().reset_index()\n",
    "model = sm.MixedLM.from_formula('AU06_r' + \" ~ asc*conversationpart\", data, groups=data['vpn']) #, re_formula=\"~conversationpart\")\n",
    "mdf = model.fit()\n",
    "print(mdf.summary())"
   ]
  },
  {
   "cell_type": "code",
   "execution_count": 18,
   "metadata": {},
   "outputs": [
    {
     "name": "stderr",
     "output_type": "stream",
     "text": [
      "C:\\Users\\Hanna.Drimalla\\AppData\\Local\\Continuum\\anaconda3\\lib\\site-packages\\scipy\\stats\\stats.py:1713: FutureWarning: Using a non-tuple sequence for multidimensional indexing is deprecated; use `arr[tuple(seq)]` instead of `arr[seq]`. In the future this will be interpreted as an array index, `arr[np.array(seq)]`, which will result either in an error or a different result.\n",
      "  return np.add.reduce(sorted[indexer] * weights, axis=axis) / sumval\n"
     ]
    },
    {
     "data": {
      "image/png": "[encoded data removed]",
      "text/plain": [
       "<Figure size 1296x576 with 1 Axes>"
      ]
     },
     "metadata": {
      "needs_background": "light"
     },
     "output_type": "display_data"
    },
    {
     "data": {
      "image/png": "[encoded data removed]",
      "text/plain": [
       "<Figure size 1296x576 with 1 Axes>"
      ]
     },
     "metadata": {
      "needs_background": "light"
     },
     "output_type": "display_data"
    }
   ],
   "source": [
    "def AUboxplot_ASC_NT(df):\n",
    "    relevant_AU=['AU06_r', 'AU12_r']#, 'AU09_r','AU15_r', 'AU04_r']\n",
    "    for i in relevant_AU:\n",
    "        plt.figure(figsize=(18, 8)) \n",
    "        fig=sns.violinplot(x='conversation', y=i, hue='asc', data=df)\n",
    "        plt.yticks(fontsize=16)    \n",
    "        plt.xticks(fontsize=16)  \n",
    "        plt.xlabel('Conversation Parts', fontsize=18) \n",
    "        plt.ylabel(('Intensity of Action Unit ' + str(i)), fontsize=18)\n",
    "        plt.legend(title='ASC', loc = \"upper left\", fontsize=16)\n",
    "        plt.savefig('AU_'+ str(i) + '_.png')\n",
    "        #print (df[df.asc==0].reset_index(drop=True).groupby(['vpn', 'conversation']).mean()[i])\n",
    "        plt.show()\n",
    "AUboxplot_ASC_NT(df)"
   ]
  },
  {
   "cell_type": "code",
   "execution_count": 11,
   "metadata": {},
   "outputs": [
    {
     "name": "stderr",
     "output_type": "stream",
     "text": [
      "C:\\Users\\Hanna.Drimalla\\AppData\\Local\\Continuum\\anaconda3\\lib\\site-packages\\scipy\\stats\\stats.py:1713: FutureWarning: Using a non-tuple sequence for multidimensional indexing is deprecated; use `arr[tuple(seq)]` instead of `arr[seq]`. In the future this will be interpreted as an array index, `arr[np.array(seq)]`, which will result either in an error or a different result.\n",
      "  return np.add.reduce(sorted[indexer] * weights, axis=axis) / sumval\n",
      "No handles with labels found to put in legend.\n"
     ]
    },
    {
     "data": {
      "image/png": "[encoded data removed]",
      "text/plain": [
       "<Figure size 1296x576 with 1 Axes>"
      ]
     },
     "metadata": {
      "needs_background": "light"
     },
     "output_type": "display_data"
    },
    {
     "name": "stderr",
     "output_type": "stream",
     "text": [
      "No handles with labels found to put in legend.\n"
     ]
    },
    {
     "data": {
      "image/png": "[encoded data removed]",
      "text/plain": [
       "<Figure size 1296x576 with 1 Axes>"
      ]
     },
     "metadata": {
      "needs_background": "light"
     },
     "output_type": "display_data"
    }
   ],
   "source": [
    "relevant_AU=['AU06_r', 'AU12_r']#, 'AU09_r','AU15_r', 'AU04_r']\n",
    "for i in relevant_AU:\n",
    "    plt.figure(figsize=(18, 8)) \n",
    "    fig=sns.violinplot(x='asc', y=i, data=df)\n",
    "    plt.yticks(fontsize=16)    \n",
    "    plt.xticks(fontsize=16)  \n",
    "    plt.xlabel('Conversation Parts', fontsize=18) \n",
    "    plt.ylabel(('Intensity of Action Unit ' + str(i)), fontsize=18)\n",
    "    plt.legend(title='ASC', loc = \"upper left\", fontsize=16)\n",
    "    plt.savefig('AU_'+ str(i) + '_.png')\n",
    "    #print (df[df.asc==0].reset_index(drop=True).groupby(['vpn', 'conversation']).mean()[i])\n",
    "    plt.show()\n"
   ]
  },
  {
   "cell_type": "code",
   "execution_count": 35,
   "metadata": {},
   "outputs": [
    {
     "data": {
      "image/png": "[encoded data removed]",
      "text/plain": [
       "<Figure size 432x576 with 1 Axes>"
      ]
     },
     "metadata": {},
     "output_type": "display_data"
    },
    {
     "data": {
      "image/png": "[encoded data removed]",
      "text/plain": [
       "<Figure size 432x576 with 1 Axes>"
      ]
     },
     "metadata": {},
     "output_type": "display_data"
    }
   ],
   "source": [
    "relevant_AU=['AU06_r', 'AU12_r']#, 'AU09_r','AU15_r', 'AU04_r']\n",
    "sns.set_style(\"whitegrid\")\n",
    "sns.set_context(\"talk\")\n",
    "for i in relevant_AU:\n",
    "    plt.figure(figsize=(6, 8)) \n",
    "    fig=sns.boxplot(x='asc', y=i, data=df, whis=1.5, palette=sns.color_palette(\"colorblind\"))\n",
    "    plt.yticks(fontsize=16)    \n",
    "    plt.xticks(fontsize=16)  \n",
    "    plt.xlabel('Group', fontsize=18) \n",
    "    plt.ylabel(('Intensity of Action Unit ' + str(i)), fontsize=18)\n",
    "    #plt.legend(title='ASC', loc = \"upper left\", fontsize=16)\n",
    "    plt.savefig('AU_'+ str(i) + '_.png')\n",
    "    plt.savefig('AU_'+ str(i) + '_.pdf')\n",
    "    #print (df[df.asc==0].reset_index(drop=True).groupby(['vpn', 'conversation']).mean()[i])\n",
    "    plt.show()"
   ]
  },
  {
   "cell_type": "code",
   "execution_count": null,
   "metadata": {
    "collapsed": true
   },
   "outputs": [],
   "source": [
    "# Association with Markers"
   ]
  },
  {
   "cell_type": "code",
   "execution_count": null,
   "metadata": {
    "collapsed": true
   },
   "outputs": [],
   "source": [
    "demog=pd.read_csv('./charite/demo_data_charite.csv', encoding='latin-1')"
   ]
  },
  {
   "cell_type": "code",
   "execution_count": null,
   "metadata": {
    "collapsed": true
   },
   "outputs": [],
   "source": [
    "def associations(ados):\n",
    "    var=['AU12_r', 'AU12_c', 'AU06_r', 'AU06_c']\n",
    "\n",
    "\n",
    "    for v in var:\n",
    "        print (v)\n",
    "        print('ados-social')\n",
    "        a=ados[(ados.asc==1)&(ados.conversation!='intro')].groupby('vpn').mean()[['ados_social', v]].dropna()\n",
    "        mystats.correlation(a.ados_social, a[v])\n",
    "        print('aq')\n",
    "        a=ados[(ados.asc==1)&(ados.conversation!='intro')].groupby('vpn').mean()[['asq', v]].dropna()\n",
    "        mystats.correlation(a.asq, a[v])\n",
    "        print('ados')\n",
    "        a=ados[(ados.asc==0)&(ados.conversation!='intro')].groupby('vpn').mean()[['asq', v]].dropna()\n",
    "        mystats.correlation(a.asq, a[v])"
   ]
  },
  {
   "cell_type": "code",
   "execution_count": null,
   "metadata": {
    "collapsed": true
   },
   "outputs": [],
   "source": [
    "associations(df[df.sex==1])"
   ]
  },
  {
   "cell_type": "code",
   "execution_count": null,
   "metadata": {
    "collapsed": true
   },
   "outputs": [],
   "source": [
    "associations(df[df.sex==2])"
   ]
  },
  {
   "cell_type": "code",
   "execution_count": null,
   "metadata": {
    "collapsed": true
   },
   "outputs": [],
   "source": [
    "mystats.two_ind_sample_tests(df[df.sex==1].reset_index(drop=True).groupby('vpn').mean(),\n",
    "                             df[df.sex==2].reset_index(drop=True).groupby('vpn').mean(), 'asq')"
   ]
  },
  {
   "cell_type": "code",
   "execution_count": null,
   "metadata": {
    "collapsed": true
   },
   "outputs": [],
   "source": [
    "stats.ttest_ind(df[(df.asd==11) & (df.sex==1)].groupby('vpn').mean().asq.dropna(),\n",
    "                df[(df.asd==11) & (df.sex==2)].groupby('vpn').mean().asq.dropna())"
   ]
  },
  {
   "cell_type": "code",
   "execution_count": null,
   "metadata": {
    "collapsed": true
   },
   "outputs": [],
   "source": [
    "stats.ttest_ind(df[(df.asd==11) & (df.sex==1)].groupby('vpn').mean().ados_total.dropna(), \n",
    "                df[(df.asd==11) & (df.sex==2)].groupby('vpn').mean().ados_total.dropna())"
   ]
  },
  {
   "cell_type": "code",
   "execution_count": null,
   "metadata": {
    "collapsed": true
   },
   "outputs": [],
   "source": [
    "print (np.mean(df[(df.asd==11) & (df.sex==1)].groupby('vpn').mean().ados_total.dropna()))\n",
    "print (np.mean(df[(df.asd==11) & (df.sex==2)].groupby('vpn').mean().ados_total.dropna()))\n",
    "\n",
    "stats.ttest_ind(df[(df.asd==11) & (df.sex==1)].groupby('vpn').mean().ados_total.dropna(), \n",
    "       df[(df.asd==11) & (df.sex==2)].groupby('vpn').mean().ados_total.dropna())"
   ]
  },
  {
   "cell_type": "code",
   "execution_count": null,
   "metadata": {
    "collapsed": true
   },
   "outputs": [],
   "source": [
    "print (np.mean(df[(df.asd==11) & (df.sex==1)].groupby('vpn').mean().asq.dropna()))\n",
    "print (np.mean(df[(df.asd==11) & (df.sex==2)].groupby('vpn').mean().asq.dropna()))\n",
    "\n",
    "\n",
    "stats.ttest_ind(df[(df.asd==11) & (df.sex==1)].groupby('vpn').mean().asq.dropna(), \n",
    "       df[(df.asd==11) & (df.sex==2)].groupby('vpn').mean().asq.dropna())"
   ]
  },
  {
   "cell_type": "code",
   "execution_count": null,
   "metadata": {
    "collapsed": true
   },
   "outputs": [],
   "source": []
  },
  {
   "cell_type": "code",
   "execution_count": null,
   "metadata": {
    "collapsed": true
   },
   "outputs": [],
   "source": [
    "# STUFF THAT MIGHT BE USEFUL"
   ]
  },
  {
   "cell_type": "code",
   "execution_count": null,
   "metadata": {
    "collapsed": true
   },
   "outputs": [],
   "source": [
    "df_pt = pt.DataFrame(data[['muscle_activity', 'vpn', 'muscle', 'val']])\n",
    "(aov)=df_pt.anova('muscle_activity', sub='vpn', wfactors=['muscle', 'val'])\n",
    "print(aov)"
   ]
  },
  {
   "cell_type": "code",
   "execution_count": null,
   "metadata": {
    "collapsed": true
   },
   "outputs": [],
   "source": [
    "emotion=2\n",
    "muscle=2\n",
    "\n",
    "print ('Effect of Muscle and Emotion over time')\n",
    "data=np.array(pd.concat([df_pos_vpn[cor_s], df_pos_vpn[zyg_s], \n",
    "                         df_neg_vpn[cor_s], df_neg_vpn[zyg_s]], axis=1))\n",
    "factorlevels=[emotion, muscle, time]\n",
    "\n",
    "\n",
    "print (mne.stats.f_mway_rm(data, factorlevels, effects='A*B'))\n",
    "print (mne.stats.f_mway_rm(data, factorlevels, effects='A*B*C'))\n"
   ]
  },
  {
   "cell_type": "code",
   "execution_count": null,
   "metadata": {
    "collapsed": true
   },
   "outputs": [],
   "source": [
    "def calculate_AU_argmax(df):\n",
    "    \n",
    "    var=['AU01_r', 'AU02_r', 'AU04_r', 'AU05_r',\n",
    "         'AU06_r', 'AU07_r', 'AU09_r', 'AU10_r',\n",
    "         'AU12_r', 'AU14_r', 'AU15_r', 'AU17_r',\n",
    "         'AU20_r', 'AU23_r', 'AU25_r', 'AU26_r', 'AU45_r']\n",
    "\n",
    "    features=[]\n",
    "    print 'calculation started'\n",
    "\n",
    "    grouped_df=df.groupby(['vpn', 'count_Picture'])\n",
    "    print'grouped done'\n",
    "\n",
    "       # table.as_matrix()\n",
    "    operation=['max', lambda x: (np.argmax(x.as_matrix()))] \n",
    "                   #lambda x: (skew(x)), \n",
    "                   #lambda x: (kurtosis(x))]\n",
    "                   #lambda x: (np.where(x>0)[0])]\n",
    "    operation_name=['max', 'argmax']            \n",
    "\n",
    "    features=[]\n",
    "    for unit in var:\n",
    "\n",
    "        for i, op in enumerate(operation):\n",
    "                feature_name=unit+'_'+operation_name[i]\n",
    "                df.loc[:,feature_name]=grouped_df[unit].transform(op)\n",
    "                features.append(feature_name)    \n",
    "                \n",
    "    df=df[df.success==1].reset_index(drop=True)\n",
    "    df=df[df.confidence>.9].reset_index(drop=True)\n",
    "    \n",
    "    return df\n",
    "\n",
    "\n",
    "# In[ ]:\n",
    "\n",
    "def calculate_AU_actor_difference(df):\n",
    "    \n",
    "    var=['AU01_r', 'AU02_r', 'AU04_r', 'AU05_r', \n",
    "         'AU06_r', 'AU07_r', 'AU09_r', 'AU10_r', \n",
    "         'AU12_r', 'AU14_r', 'AU15_r', 'AU17_r', \n",
    "         'AU20_r', 'AU23_r', 'AU25_r', 'AU26_r', 'AU45_r']\n",
    "\n",
    "    var_act=['AU01_r_actor', 'AU02_r_actor', 'AU04_r_actor', 'AU05_r_actor', \n",
    "             'AU06_r_actor', 'AU07_r_actor', 'AU09_r_actor', 'AU10_r_actor', \n",
    "             'AU12_r_actor', 'AU14_r_actor', 'AU15_r_actor', 'AU17_r_actor', \n",
    "             'AU20_r_actor', 'AU23_r_actor', 'AU25_r_actor', 'AU26_r_actor', 'AU45_r']\n",
    "\n",
    "    diff_var=[]\n",
    "\n",
    "    for i, v in enumerate(var):\n",
    "        variable='Diff_'+v\n",
    "        df[variable] = df[v] - df[var_act[i]]\n",
    "\n",
    "        diff_var.append(variable)\n",
    "\n",
    "    df[diff_var]=df[diff_var].abs()\n",
    "    \n",
    "    df['diff_to_actors']=df[diff_var].sum(axis=1)\n",
    "    \n",
    "    return df\n",
    "\n",
    "\n",
    "# In[ ]:\n",
    "\n",
    "#Calculation of Relevant AU Activity\n",
    "\n",
    "#hier wird mean auf frame basis berechnet..\n",
    "\n",
    "def compute_relAU_frame(df):\n",
    "\n",
    "    set(df.emo_label)\n",
    "    for emo in set(df.emo_label):\n",
    "        print str(emo)\n",
    "        if str(emo)=='anger':\n",
    "            df.loc[df.emo_label==str(emo), 'rel_AU']=(df.AU04_r+df.AU05_r+df.AU07_r+df.AU23_r)/4 \n",
    "        if str(emo)=='fear':\n",
    "            df.loc[df.emo_label==str(emo), 'rel_AU']=(df.AU01_r+df.AU02_r+df.AU04_r+df.AU05_r+df.AU07_r+df.AU20_r+df.AU26_r)/7\n",
    "        if str(emo)=='disgust':\n",
    "            df.loc[df.emo_label==str(emo), 'rel_AU']=(df.AU09_r+df.AU15_r)/2 # df.AU16_r gibt es nicht\n",
    "        if str(emo)=='joy':\n",
    "            df.loc[df.emo_label==str(emo), 'rel_AU']=(df.AU06_r+df.AU12_r)/2\n",
    "        if str(emo)=='sadness':\n",
    "            df.loc[df.emo_label==str(emo), 'rel_AU']=(df.AU01_r+df.AU04_r+df.AU15_r)/3       \n",
    "        if str(emo)=='suprise':\n",
    "            df.loc[df.emo_label==str(emo), 'rel_AU']=(df.AU01_r+df.AU02_r+df.AU05_r+df.AU26_r)/4\n",
    "                \n",
    "            \n",
    "    for emo in set(df.emo_label):\n",
    "        print str(emo)\n",
    "        if str(emo)=='anger':\n",
    "            df.loc[df.emo_label==str(emo), 'rel_AU_c']=(df.AU04_c+df.AU05_c+df.AU07_c+df.AU23_c)/4 \n",
    "        if str(emo)=='fear':\n",
    "            df.loc[df.emo_label==str(emo), 'rel_AU_c']=(df.AU01_c+df.AU02_c+df.AU04_c+df.AU05_c+df.AU07_c+df.AU20_c+df.AU26_c)/7\n",
    "        if str(emo)=='disgust':\n",
    "            df.loc[df.emo_label==str(emo), 'rel_AU_c']=(df.AU09_c+df.AU15_c)/2 # df.AU16_r gibt es nicht\n",
    "        if str(emo)=='joy':\n",
    "            df.loc[df.emo_label==str(emo), 'rel_AU_c']=(df.AU06_c+df.AU12_c)/2\n",
    "        if str(emo)=='sadness':\n",
    "            df.loc[df.emo_label==str(emo), 'rel_AU_c']=(df.AU01_c+df.AU04_c+df.AU15_c)/3       \n",
    "        if str(emo)=='suprise':\n",
    "            df.loc[df.emo_label==str(emo), 'rel_AU_c']=(df.AU01_c+df.AU02_c+df.AU05_c+df.AU26_c)/4\n",
    "            \n",
    "            \n",
    "    for emo in set(df.emo_label):\n",
    "\n",
    "        if str(emo)=='anger':\n",
    "            df.loc[df.emo_label==str(emo), 'rel_AU_maximum']=(df.AU04_r_max+df.AU05_r_max+df.AU07_r_max+df.AU23_r_max)/4 \n",
    "        if str(emo)=='fear':\n",
    "            df.loc[df.emo_label==str(emo), 'rel_AU_maximum']=(df.AU01_r_max+df.AU02_r_max+df.AU04_r_max+df.AU05_r_max+df.AU07_r_max+df.AU20_r_max+df.AU26_r_max)/7\n",
    "        if str(emo)=='disgust':\n",
    "            df.loc[df.emo_label==str(emo), 'rel_AU_maximum']=(df.AU09_r_max+df.AU15_r_max)/2 # df.AU16_r gibt es nicht\n",
    "        if str(emo)=='joy':\n",
    "            df.loc[df.emo_label==str(emo), 'rel_AU_maximum']=(df.AU06_r_max+df.AU12_r_max)/2\n",
    "        if str(emo)=='sadness':\n",
    "            df.loc[df.emo_label==str(emo), 'rel_AU_maximum']=(df.AU01_r_max+df.AU04_r_max+df.AU15_r_max)/3       \n",
    "        if str(emo)=='suprise':\n",
    "            df.loc[df.emo_label==str(emo), 'rel_AU_maximum']=(df.AU01_r_max+df.AU02_r_max+df.AU05_r_max+df.AU26_r_max)/4\n",
    "                          \n",
    "    for emo in set(df.emo_label):\n",
    "        \n",
    "        if str(emo)=='anger':\n",
    "            df.loc[df.emo_label==str(emo), 'rel_AU_argmax']=(df.AU04_r_argmax+df.AU05_r_argmax+df.AU07_r_argmax+df.AU23_r_argmax)/4 \n",
    "        if str(emo)=='fear':\n",
    "            df.loc[df.emo_label==str(emo), 'rel_AU_argmax']=(df.AU01_r_argmax+df.AU02_r_argmax+df.AU04_r_argmax+df.AU05_r_argmax+df.AU07_r_argmax+df.AU20_r_argmax+df.AU26_r_argmax)/7\n",
    "        if str(emo)=='disgust':\n",
    "            df.loc[df.emo_label==str(emo), 'rel_AU_argmax']=(df.AU09_r_argmax+df.AU15_r_argmax)/2 # df.AU16_r gibt es nicht\n",
    "        if str(emo)=='joy':\n",
    "            df.loc[df.emo_label==str(emo), 'rel_AU_argmax']=(df.AU06_r_argmax+df.AU12_r_argmax)/2\n",
    "        if str(emo)=='sadness':\n",
    "            df.loc[df.emo_label==str(emo), 'rel_AU_argmax']=(df.AU01_r_argmax+df.AU04_r_argmax+df.AU15_r_argmax)/3       \n",
    "        if str(emo)=='suprise':\n",
    "            df.loc[df.emo_label==str(emo), 'rel_AU_argmax']=(df.AU01_r_argmax+df.AU02_r_argmax+df.AU05_r_argmax+df.AU26_r_argmax)/4\n",
    "\n",
    "    return df\n",
    "\n",
    "\n",
    "# In[ ]:\n",
    "\n",
    "def calculate_relAU_pic(df):\n",
    "\n",
    "    \n",
    "    var=['AU01_r', 'AU02_r', 'AU04_r', 'AU05_r',\n",
    "         'AU06_r', 'AU07_r', 'AU09_r', 'AU10_r',\n",
    "         'AU12_r', 'AU14_r', 'AU15_r', 'AU17_r',\n",
    "         'AU20_r', 'AU23_r', 'AU25_r', 'AU26_r', 'AU45_r']\n",
    "\n",
    "    features=[]\n",
    "    print 'calculation started'\n",
    "\n",
    "    grouped_df=df.groupby(['vpn', 'count_Picture'])\n",
    "    print'grouped done'\n",
    "\n",
    "       # table.as_matrix()\n",
    "    operation=['max', 'mean', 'std'] \n",
    "                   #lambda x: (skew(x)), \n",
    "                   #lambda x: (kurtosis(x))]\n",
    "                   #lambda x: (np.where(x>0)[0])]\n",
    "    operation_name=['max', 'mean', 'std']            \n",
    "\n",
    "    features=[]\n",
    "    for unit in var:\n",
    "\n",
    "        for i, op in enumerate(operation):\n",
    "                feature_name=unit+'_'+operation_name[i]\n",
    "                \n",
    "                df.loc[:,feature_name]=grouped_df[unit].transform(op)\n",
    "                features.append(feature_name)    \n",
    "\n",
    "    return df\n"
   ]
  },
  {
   "cell_type": "code",
   "execution_count": null,
   "metadata": {
    "collapsed": true
   },
   "outputs": [],
   "source": []
  },
  {
   "cell_type": "code",
   "execution_count": null,
   "metadata": {
    "collapsed": true
   },
   "outputs": [],
   "source": []
  },
  {
   "cell_type": "code",
   "execution_count": null,
   "metadata": {
    "collapsed": true
   },
   "outputs": [],
   "source": []
  }
 ],
 "metadata": {
  "kernelspec": {
   "display_name": "Python 3",
   "language": "python",
   "name": "python3"
  },
  "language_info": {
   "codemirror_mode": {
    "name": "ipython",
    "version": 3
   },
   "file_extension": ".py",
   "mimetype": "text/x-python",
   "name": "python",
   "nbconvert_exporter": "python",
   "pygments_lexer": "ipython3",
   "version": "3.7.1"
  }
 },
 "nbformat": 4,
 "nbformat_minor": 2
}
