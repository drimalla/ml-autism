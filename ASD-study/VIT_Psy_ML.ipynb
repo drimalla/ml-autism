{
 "cells": [
  {
   "cell_type": "markdown",
   "metadata": {},
   "source": [
    "### Import of Functions"
   ]
  },
  {
   "cell_type": "code",
   "execution_count": null,
   "metadata": {},
   "outputs": [],
   "source": [
    "import os\n",
    "import sys\n",
    "print (os.getcwd())\n",
    "sys.path.append('/home/Hanna.Drimalla/ml-autism/scripts')"
   ]
  },
  {
   "cell_type": "code",
   "execution_count": null,
   "metadata": {},
   "outputs": [],
   "source": [
    "#import myreg\n",
    "import myml\n",
    "import mycharite\n",
    "\n",
    "import pandas as pd\n",
    "import matplotlib\n",
    "import seaborn as sns\n",
    "import numpy as np"
   ]
  },
  {
   "cell_type": "markdown",
   "metadata": {},
   "source": [
    "# Main Code"
   ]
  },
  {
   "cell_type": "code",
   "execution_count": null,
   "metadata": {},
   "outputs": [],
   "source": [
    "df, df_audio, action_r, action_c, gaze, audio = mycharite.load('charite')\n",
    "print ('data loaded')"
   ]
  },
  {
   "cell_type": "code",
   "execution_count": null,
   "metadata": {
    "collapsed": true
   },
   "outputs": [],
   "source": [
    "df=mycharite.aq_charite(df)\n",
    "df=mycharite.exclude_outlier(df) \n",
    "df=mycharite.adapt_times(df)\n",
    "df=mycharite.ados_charite(df)"
   ]
  },
  {
   "cell_type": "code",
   "execution_count": null,
   "metadata": {
    "collapsed": true
   },
   "outputs": [],
   "source": [
    "print ('NT ' + str(sum(df.groupby('vpn').mean().asc==0))) #43\n",
    "print ('ASC ' + str(sum(df.groupby('vpn').mean().asc==1))) #37"
   ]
  },
  {
   "cell_type": "code",
   "execution_count": null,
   "metadata": {
    "collapsed": true
   },
   "outputs": [],
   "source": [
    "df[['vpn', 'asc', 'sex']].groupby('vpn').mean().groupby('asc').describe()"
   ]
  },
  {
   "cell_type": "code",
   "execution_count": null,
   "metadata": {
    "collapsed": true
   },
   "outputs": [],
   "source": [
    "def calc_speed(df, var):\n",
    "\n",
    "    epochs = pd.DataFrame()\n",
    "\n",
    "    speeds = []\n",
    "    accs = []\n",
    "    \n",
    "    for i, ((vpn, conversation), epoch) in enumerate(df.groupby(['vpn', 'conversation'])):\n",
    "        for v in var:\n",
    "            values = epoch.loc[:, var]\n",
    "\n",
    "            speed = np.diff(values.values, axis=0) #erste Ableitung\n",
    "            acc = np.diff(speed, axis=0) #zweite Ableitung\n",
    "            speed = np.linalg.norm(speed, axis=1) #absolute Werte\n",
    "            acc = np.linalg.norm(acc, axis=1)\n",
    "\n",
    "            speeds.append(speed)\n",
    "            accs.append(acc)\n",
    "\n",
    "            epochs.loc[i, ('mean_speed_'+v)] = np.nanmean(speed)\n",
    "            epochs.loc[i, ('mean_acc_'+v)] = np.nanmean(acc)\n",
    "            epochs.loc[i, ('var_speed_'+v)] = np.nanvar(speed)\n",
    "            epochs.loc[i, ('var_acc_'+v)] = np.nanvar(acc)\n",
    "\n",
    "        epochs.loc[i, 'vpn'] = vpn\n",
    "        epochs.loc[i, 'conversation'] = conversation\n",
    "\n",
    "    speeds = pd.DataFrame(speeds)\n",
    "    accs = pd.DataFrame(accs)\n",
    "    speeds = pd.concat([speeds, epochs], axis=1)\n",
    "    accs = pd.concat([accs, epochs], axis=1)\n",
    "    \n",
    "    return epochs\n",
    "\n",
    "def calc_gaze_var(df):\n",
    "    \n",
    "    center = lambda x: (x - x.median()) \n",
    "    df['gaze_angle_y_centered']=df.groupby(['vpn'])['gaze_angle_y'].transform(center)\n",
    "    center = lambda x: (x - x.median()) \n",
    "    df['gaze_angle_x_centered']=df.groupby(['vpn'])['gaze_angle_x'].transform(center)\n",
    "\n",
    "    df['gaze_angle_x_centered_abs']=np.abs(df['gaze_angle_x_centered'])\n",
    "    df['gaze_angle_y_centered_abs']=np.abs(df['gaze_angle_y_centered'])\n",
    "\n",
    "    df['proband']=(df.conversation=='joy_proband')|(df.conversation=='ekel_proband')|(df.conversation=='neutral_proband')\n",
    "    df['actress']=(df.conversation=='joy_speaker')|(df.conversation=='ekel_speaker')|(df.conversation=='neutral_speaker')\n",
    "    df.loc[(df.conversation!='intro'), \"whospeaks\"] = df[['proband', 'actress']].idxmax(axis=1) \n",
    "    \n",
    "    return df\n",
    "\n",
    "\n",
    "var=['gaze_angle_x', 'gaze_angle_y']\n",
    "df_speed_acc=calc_speed(df, var)\n",
    "df=calc_gaze_var(df)\n",
    "#df=df.groupby(['vpn', 'conversation']).mean()\n",
    "df=pd.merge(df, df_speed_acc, on=['vpn', 'conversation'])"
   ]
  },
  {
   "cell_type": "markdown",
   "metadata": {},
   "source": [
    "### Prediciton of Autism Diagnosis (Charite-Data)"
   ]
  },
  {
   "cell_type": "markdown",
   "metadata": {},
   "source": [
    "### Gaze"
   ]
  },
  {
   "cell_type": "code",
   "execution_count": null,
   "metadata": {},
   "outputs": [],
   "source": [
    "features=['gaze_angle_x', 'gaze_angle_y']\n",
    "df, new_features=myml.calc_features(df, features)\n",
    "new_features.append('sex')\n",
    "X, y, vpn = myml.prepare_for_classify(df, new_features)\n",
    "pr_rf_gaze, pr_svm_gaze, y_gaze, test_index_gaze=myml.classification(X, y, 'gaze')"
   ]
  },
  {
   "cell_type": "markdown",
   "metadata": {},
   "source": [
    "## Face"
   ]
  },
  {
   "cell_type": "code",
   "execution_count": null,
   "metadata": {},
   "outputs": [],
   "source": [
    "features=['AU06_r', 'AU12_r', 'AU04_r', 'AU09_r', 'AU15_r']\n",
    "df, new_features=myml.calc_features(df, features)\n",
    "new_features.append('sex')\n",
    "X, y, vpn = myml.prepare_for_classify(df, new_features)\n",
    "pr_rf_face, pr_svm_face, y_face, test_index_face=myml.classification(X, y, 'face')"
   ]
  },
  {
   "cell_type": "code",
   "execution_count": null,
   "metadata": {},
   "outputs": [],
   "source": [
    "# hier für das gesamte Gesicht (alle AUs)\n",
    "df, new_features=myml.calc_features(df, action_r)\n",
    "new_features.append('sex')\n",
    "X, y, vpn = myml.prepare_for_classify(df, new_features)\n",
    "pr_rf_face_full, pr_svm_face_full, y_face_full, test_index_face_full=myml.classification(X, y, 'face_full')"
   ]
  },
  {
   "cell_type": "markdown",
   "metadata": {},
   "source": [
    "### Audio"
   ]
  },
  {
   "cell_type": "code",
   "execution_count": null,
   "metadata": {},
   "outputs": [],
   "source": [
    "audio=['spectrum_0', 'spectrum_1', 'spectrum_2', 'spectrum_3', 'spectrum_4', 'spectrum_5',\n",
    "       'spectrum_6', 'spectrum_7', 'spectrum_8', 'spectrum_9', 'spectrum_10',\n",
    "       'spectrum_11', 'spectrum_12', 'spectrum_13', 'spectrum_14',\n",
    "       'spectrum_15', 'spectrum_16', 'spectrum_17', 'spectrum_18',\n",
    "       'spectrum_19', 'spectrum_20', 'spectrum_21', 'spectrum_22',\n",
    "       'spectrum_23', 'spectrum_24', 'spectrum_25', 'spectrum_26',\n",
    "       'spectrum_27', 'spectrum_28', 'spectrum_29', 'spectrum_30',\n",
    "       'spectrum_31', 'spectrum_32', 'spectrum_33', 'spectrum_34',\n",
    "       'spectrum_35', 'spectrum_36', 'spectrum_37', 'spectrum_38',\n",
    "       'spectrum_39', 'pitch', 'meanF0Hz',\n",
    "       'stdevF0Hz', 'HNR', 'localJitter', 'localabsoluteJitter', 'rapJitter',\n",
    "       'ppq5Jitter', 'ddpJitter', 'localShimmer', 'localdbShimmer',\n",
    "       'apq3Shimmer', 'apq5Shimmer', 'apq11Shimmer', 'ddaShimmer', 'JitterPCA',\n",
    "       'ShimmerPCA']\n",
    "\n",
    "\n",
    "df_audio['asc']=(df_audio.asd==11)\n",
    "\n",
    "audio.append('sex_x')\n",
    "\n",
    "X, y, vpn = myml.prepare_for_classify(df_audio, audio)\n",
    "pr_rf_audio, pr_svm_audio, y_audio, test_index_audio=myml.classification(X, y, 'all')\n"
   ]
  },
  {
   "cell_type": "markdown",
   "metadata": {},
   "source": [
    "### Total"
   ]
  },
  {
   "cell_type": "code",
   "execution_count": null,
   "metadata": {},
   "outputs": [],
   "source": [
    "features=['AU06_r', 'AU12_r', 'AU04_r', 'AU09_r', 'AU15_r',\n",
    "          'AU06_c', 'AU12_c', 'AU04_c', 'AU09_c', 'AU15_c', \n",
    "          'gaze_angle_x', 'gaze_angle_y']\n",
    "\n",
    "df, new_features=myml.calc_features(df, features)\n",
    "df_total=pd.merge(df, df_audio, on='vpn').reset_index()\n",
    "\n",
    "new_features.append('sex')\n",
    "new_features=new_features+audio\n",
    "\n",
    "X, y, vpn = myml.prepare_for_classify(df_total, new_features)\n",
    "pr_rf_all, pr_svm_all, y_all, test_index_all=myml.classification(X, y, 'all')"
   ]
  },
  {
   "cell_type": "markdown",
   "metadata": {},
   "source": [
    "## Prediction based on AQ"
   ]
  },
  {
   "cell_type": "code",
   "execution_count": null,
   "metadata": {
    "collapsed": true
   },
   "outputs": [],
   "source": [
    "asq=df.groupby('vpn').mean().dropna(subset=['asq'])\n",
    "X, y, vpn = myml.prepare_for_classify(asq, ['asq', 'sex'])\n",
    "pr_rf_aq, pr_svm_aq, y_true_aq, test_index_aq=myml.classification(X, y, 'asq')\n",
    "#lr_pr, y_true_lr, test_index=myml.threshold(X_asq[:, np.newaxis], y_asq)"
   ]
  },
  {
   "cell_type": "markdown",
   "metadata": {},
   "source": [
    "## Prediction based on Clinical View "
   ]
  },
  {
   "cell_type": "code",
   "execution_count": null,
   "metadata": {
    "collapsed": true
   },
   "outputs": [],
   "source": [
    "experts=mycharite.load_experts(df)\n",
    "X, y, vpn = myml.prepare_for_classify(experts, ['Value', 'sex'])\n",
    "pr_rf_clinical, pr_svm_clinical, y_true_clinical, test_index_clinical=myml.classification(X, y, 'Clinical')"
   ]
  },
  {
   "cell_type": "markdown",
   "metadata": {},
   "source": [
    "## Combination of Features and AQ"
   ]
  },
  {
   "cell_type": "code",
   "execution_count": null,
   "metadata": {
    "collapsed": true
   },
   "outputs": [],
   "source": [
    "features=['AU06_r', 'AU12_r', 'AU04_r', 'AU09_r', 'AU15_r',\n",
    "          'AU06_c', 'AU12_c', 'AU04_c', 'AU09_c', 'AU15_c', \n",
    "          'gaze_angle_x', 'gaze_angle_y']\n",
    "\n",
    "df, new_features=myml.calc_features(df, features)\n",
    "df_total=pd.merge(df, df_audio, on='vpn').reset_index()\n",
    "\n",
    "new_features.append('sex')\n",
    "new_features=new_features+audio\n",
    "\n",
    "all_and_aq=new_features.append('asq')\n",
    "X, y, vpn = myml.prepare_for_classify(df_total, all_and_aq)\n",
    "pr_rf_all_plusAQ, pr_svm_all_plusAQ, y_all_plusAQ, test_index_all_plusAQ=myml.classification(X, y, 'all_plus_aq')"
   ]
  },
  {
   "cell_type": "markdown",
   "metadata": {},
   "source": [
    "## Combination of Features and Clinical View"
   ]
  },
  {
   "cell_type": "code",
   "execution_count": null,
   "metadata": {
    "collapsed": true
   },
   "outputs": [],
   "source": [
    "features=['AU06_r', 'AU12_r', 'AU04_r', 'AU09_r', 'AU15_r',\n",
    "          'AU06_c', 'AU12_c', 'AU04_c', 'AU09_c', 'AU15_c', \n",
    "          'gaze_angle_x', 'gaze_angle_y']\n",
    "\n",
    "df, new_features=myml.calc_features(df, features)\n",
    "df_total=pd.merge(df, df_audio, on='vpn').reset_index()\n",
    "\n",
    "new_features.append('sex')\n",
    "new_features=new_features+audio\n",
    "\n",
    "all_and_clinic=new_features.append('Value')\n",
    "df_total_clinical=pd.merge(df_total, experts, on='vpn').reset_index()\n",
    "\n",
    "X, y, vpn = myml.prepare_for_classify(df_total_clinical, all_and_clinic)\n",
    "pr_rf_all_plusClinic, pr_svm_all_plusClinic, y_all_plusClinic, test_index_all_plusClinic=myml.classification(X, y, 'all_plus_clinic')"
   ]
  },
  {
   "cell_type": "markdown",
   "metadata": {},
   "source": [
    "### Graphics"
   ]
  },
  {
   "cell_type": "code",
   "execution_count": null,
   "metadata": {
    "collapsed": true
   },
   "outputs": [],
   "source": [
    "myml.features_roc_graph(y_true_total, y_occ, y_int, y_gaze, y_true_face, y_true_audio,\n",
    "                       pr_rf_total[:,1], pr_svm_total[:,1],\n",
    "                       pr_svm_occ[:,1], pr_rf_occ[:,1],  \n",
    "                       pr_svm_int[:,1], pr_rf_int[:,1], \n",
    "                       pr_svm_gaze[:,1], pr_rf_gaze[:,1],\n",
    "                       pr_svm_face[:,1], pr_rf_face[:,1],\n",
    "                       pr_rf_audio[:,1], pr_svm_audio[:,1],\n",
    "                       '(all)', '(occ)', '(int)', '(gaze)', '(face)', '(audio)', 'Feature_Comparison')"
   ]
  },
  {
   "cell_type": "markdown",
   "metadata": {},
   "source": [
    "#### Correlation of Prediction based on Features and based on AQ (not correlated -> additional value of features)"
   ]
  },
  {
   "cell_type": "code",
   "execution_count": null,
   "metadata": {
    "collapsed": true
   },
   "outputs": [],
   "source": [
    "print ('Corrrelation of Prediction and Diagnosis')\n",
    "print (asq>0)\n",
    "plt.close()\n",
    "y_true_new=y_true[asq>0]\n",
    "tree=pr_rf[asq>0,1]\n",
    "aq= lr_pr[:,1]\n",
    "print (scipy.stats.pointbiserialr(pr_rf[:,1], y_true))\n",
    "\n",
    "print ('Correlation of Prediction based on Features and based on AQ (seperated by NT and ASD)')\n",
    "tree_asc=tree[y_true_new==True]\n",
    "aq_asc=aq[y_true_new==True]\n",
    "\n",
    "print (scipy.stats.normaltest(tree_asc))\n",
    "print (scipy.stats.spearmanr(tree_asc, aq_asc))\n",
    "\n",
    "tree_nt=tree[y_true_new==False]\n",
    "aq_nt=aq[y_true_new==False]\n",
    "print (scipy.stats.normaltest(tree_nt))\n",
    "print (scipy.stats.spearmanr(tree_nt, aq_nt))"
   ]
  },
  {
   "cell_type": "markdown",
   "metadata": {},
   "source": [
    "# Regression (ADOS and ADI-R)"
   ]
  },
  {
   "cell_type": "code",
   "execution_count": null,
   "metadata": {
    "collapsed": true
   },
   "outputs": [],
   "source": [
    "df_Reg=mycharite.ados_charite(df)"
   ]
  },
  {
   "cell_type": "code",
   "execution_count": null,
   "metadata": {
    "collapsed": true
   },
   "outputs": [],
   "source": [
    "#df_Reg, action_r_Reg, action_c_Reg, gaze_Reg =prep.load('charite', 'lab')\n",
    "#df_Reg=prep.aq_charite(df_Reg, 'lab')\n",
    "#df_Reg=prep.exclude_outlier(df_Reg)\n",
    "#df_Reg, start_Reg, end_Reg=prep.get_convparts(df_Reg)\n",
    "#prep.check(df_Reg)\n",
    "\n",
    "#df=ados_charite(df)\n",
    "\n",
    "print ('NT ' + str(sum(df_Reg.groupby('vpn').mean().asc==0)))\n",
    "print ('ASC ' + str(sum(df_Reg.groupby('vpn').mean().asc==1))) \n",
    "\n",
    "\n",
    "#df[df.adir_social>0].groupby('vpn').mean().reset_index()\n",
    "\n",
    "\n",
    "#calculation of features for both datasets\n",
    "#df_Reg, features_part_Reg=subfeatures(df_Reg, action_r_Reg, action_c_Reg)"
   ]
  },
  {
   "cell_type": "code",
   "execution_count": null,
   "metadata": {
    "collapsed": true
   },
   "outputs": [],
   "source": [
    "plt.scatter(df_Reg[df_Reg.asc==1].groupby('vpn').adir_social.mean(), df_Reg[df_Reg.asc==1].groupby('vpn').asq.mean())\n",
    "plt.show()\n",
    "\n",
    "plt.figure(figsize=(12,8))\n",
    "plt.scatter(df_Reg[df_Reg.asc==1].groupby('vpn').ados_total.mean(), df_Reg[df_Reg.asc==1].groupby('vpn').asq.mean())\n",
    "plt.yticks(fontsize=16)    \n",
    "plt.xticks(fontsize=16)  \n",
    "plt.xlabel('ADOS', fontsize=18)\n",
    "plt.ylabel('AQ', fontsize=18)\n",
    "plt.savefig('ADOSandAQ.png')"
   ]
  },
  {
   "cell_type": "markdown",
   "metadata": {},
   "source": [
    "### ADOS"
   ]
  },
  {
   "cell_type": "code",
   "execution_count": null,
   "metadata": {
    "collapsed": true
   },
   "outputs": [],
   "source": [
    "X_ados_rf, rescaledX_ados_rf, y_ados_rf, diagnosis = myreg.prepare_for_regress_RF(df_Reg, df_audio, 'charite', 'ADOS', features_part_Reg)\n",
    "X_ados_rf_social, rescaledX_ados_rf_social, y_ados_rf_social, diagnosis = myreg.prepare_for_regress_RF(df_Reg, df_audio,'charite', 'ADOS_social', features_part_Reg)\n",
    "X_ados_rf_communication, rescaledX_ados_rf_communication, y_ados_rf_communication, diagnosis = myreg.prepare_for_regress_RF(df_Reg, df_audio,'charite', 'ADOS_communication', features_part_Reg)"
   ]
  },
  {
   "cell_type": "code",
   "execution_count": null,
   "metadata": {
    "collapsed": true
   },
   "outputs": [],
   "source": [
    "## Prediction of ADOS - Social\n",
    "print ('social')\n",
    "y_pred_svr_ADOS_social, y_pred_tree_ADOS_social, y_true_ADOS_social, y_base_ADOS_social, tree_ADOS_social, svr_ADOS_social=myreg.regression(X_ados_rf_social, y_ados_rf_social, name='ADOS_social')\n",
    "\n",
    "## Prediction of ADOS - Communication\n",
    "print ('communication')\n",
    "y_pred_svr_ADOS_communication, y_pred_tree_ADOS_communication, y_true_ADOS_communication, y_base_ADOS_communication, tree_ADOS_communication, svr_ADOS_communication=myreg.regression(X_ados_rf_communication, y_ados_rf_communication, name='ADOS_communication')\n",
    "\n",
    "## Prediction of ADOS - Total\n",
    "print ('total')\n",
    "y_pred_svr_ADOS, y_pred_tree_ADOS, y_true_ADOS, y_base_ADOS, tree_ADOS, svr_ADOS=myreg.regression(X_ados_rf, y_ados_rf, name='ados')"
   ]
  },
  {
   "cell_type": "code",
   "execution_count": null,
   "metadata": {
    "collapsed": true
   },
   "outputs": [],
   "source": [
    "myreg.reg_cor(x=y_pred_svr_ADOS, y=y_true_ADOS, x_label='Predicition of SVR', y_label='ADOS Value')\n",
    "myreg.reg_cor(x=y_pred_tree_ADOS, y=y_true_ADOS, x_label='Predicition of RF', y_label='ADOS Value')"
   ]
  },
  {
   "cell_type": "code",
   "execution_count": null,
   "metadata": {
    "collapsed": true
   },
   "outputs": [],
   "source": [
    "### ADOS\n",
    "\n",
    "sns.regplot(df_Reg[df_Reg.ados_total>0].groupby('vpn').mean().asq, df_Reg[df_Reg.ados_total>0].groupby('vpn').mean().ados_total)\n",
    "plt.show()\n",
    "\n",
    "sns.regplot(df_Reg[df_Reg.ados_total>0].groupby('vpn').mean().asq, df_Reg[df_Reg.ados_total>0].groupby('vpn').mean().ados_social)\n",
    "plt.show()\n",
    "\n",
    "plt.scatter(df_Reg[df_Reg.ados_total>0].groupby('vpn').mean().asq, df_Reg[df_Reg.ados_total>0].groupby('vpn').mean().ados_commu)\n",
    "plt.show()"
   ]
  },
  {
   "cell_type": "markdown",
   "metadata": {},
   "source": [
    "### ADI-R"
   ]
  },
  {
   "cell_type": "code",
   "execution_count": null,
   "metadata": {
    "collapsed": true
   },
   "outputs": [],
   "source": [
    "X_adi_rf_social, rescaledX_adi_rf_social, y_adi_rf_social, diagnosis = myreg.prepare_for_regress_RF(df_Reg, df_audio, 'charite', 'ADI', features_part)"
   ]
  },
  {
   "cell_type": "code",
   "execution_count": null,
   "metadata": {
    "collapsed": true
   },
   "outputs": [],
   "source": [
    "print ('social')\n",
    "y_pred_svr_ADI_social, y_pred_tree_ADI_social, y_true_ADI_social, y_base_ADI_social, tree_ADI_social, svr_ADI_social=myreg.regression(X_adi_rf_social, y_adi_rf_social, name='ADI')\n",
    "\n",
    "## Prediction of ADI Social based on AQ\n",
    "print ('social (based on AQ)')\n",
    "y_pred_svr_AQ, y_pred_tree_AQ, y_true_AQ, y_base_AQ, tree_AQ, svr_AQ=myreg.regression(diagnosis[diagnosis>0].reshape(-1, 1), y_adi_rf_social[diagnosis>0], name='ADI')"
   ]
  },
  {
   "cell_type": "code",
   "execution_count": null,
   "metadata": {
    "collapsed": true
   },
   "outputs": [],
   "source": [
    "myreg.evaluate(y_pred_svr_ADI_social[diagnosis>0], y_pred_tree_ADI_social[diagnosis>0], y_adi_rf_social[diagnosis>0], y_pred_svr_AQ)"
   ]
  },
  {
   "cell_type": "code",
   "execution_count": null,
   "metadata": {
    "collapsed": true
   },
   "outputs": [],
   "source": [
    "myreg.evaluate(y_pred_svr_ADI_social[diagnosis>0], y_pred_tree_ADI_social[diagnosis>0], y_adi_rf_social[diagnosis>0], y_pred_svr_AQ)\n",
    "print ('ADI Prediction vs. True Value')\n",
    "plt.scatter(y_pred_tree_ADI_social[diagnosis>0], y_adi_rf_social[diagnosis>0])\n",
    "print (stats.spearmanr(y_pred_tree_ADI_social, y_adi_rf_social))\n",
    "plt.show()"
   ]
  },
  {
   "cell_type": "code",
   "execution_count": null,
   "metadata": {
    "collapsed": true
   },
   "outputs": [],
   "source": [
    "plt.savefig('ADI_WTAS')"
   ]
  },
  {
   "cell_type": "code",
   "execution_count": null,
   "metadata": {
    "collapsed": true
   },
   "outputs": [],
   "source": []
  },
  {
   "cell_type": "code",
   "execution_count": null,
   "metadata": {
    "collapsed": true
   },
   "outputs": [],
   "source": []
  },
  {
   "cell_type": "code",
   "execution_count": null,
   "metadata": {
    "collapsed": true
   },
   "outputs": [],
   "source": []
  }
 ],
 "metadata": {
  "kernelspec": {
   "display_name": "Python 3",
   "language": "python",
   "name": "python3"
  },
  "language_info": {
   "codemirror_mode": {
    "name": "ipython",
    "version": 3
   },
   "file_extension": ".py",
   "mimetype": "text/x-python",
   "name": "python",
   "nbconvert_exporter": "python",
   "pygments_lexer": "ipython3",
   "version": "3.6.3"
  }
 },
 "nbformat": 4,
 "nbformat_minor": 2
}
