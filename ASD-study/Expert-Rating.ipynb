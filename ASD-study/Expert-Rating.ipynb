{
 "cells": [
  {
   "cell_type": "code",
   "execution_count": null,
   "metadata": {},
   "outputs": [],
   "source": [
    "import os\n",
    "import sys\n",
    "print (os.getcwd())\n",
    "sys.path.append('/home/Hanna.Drimalla/ml-autism/scripts')\n",
    "\n",
    "import pandas as pd\n",
    "import datetime as dt\n",
    "import imageio\n",
    "import numpy as np\n",
    "import subprocess\n",
    "import seaborn as sns\n",
    "import matplotlib.pyplot as plt\n",
    "#from keras.models import Sequential, Model\n",
    "\n",
    "#Basics\n",
    "#from __future__ import division\n",
    "\n",
    "#Stats\n",
    "#import mne\n",
    "import statsmodels.api as sm\n",
    "import statsmodels.formula.api as smf\n",
    "import scipy\n",
    "from scipy import stats\n",
    "from statsmodels.formula.api import ols\n",
    "from statsmodels.stats.anova import anova_lm\n",
    "from statsmodels.graphics.factorplots import interaction_plot\n",
    "\n",
    "# Graphics\n",
    "import matplotlib.pyplot as plt\n",
    "import seaborn as sns\n",
    "import statsmodels.api as sm\n",
    "from statsmodels.regression.mixed_linear_model import MixedLMParams\n",
    "#import preBert\n",
    "from statsmodels.stats.weightstats import DescrStatsW\n",
    "\n",
    "import mystats \n",
    "\n",
    "\n",
    "import statsmodels.stats.api as sms\n",
    "import statsmodels.api as sm\n",
    "import statsmodels.formula.api as smf\n",
    "import sklearn\n",
    "from scipy import stats\n",
    "import warnings\n",
    "from scipy.stats.mstats import zscore\n",
    "#matplotlib.use('TkAgg')  \n",
    "from mpl_toolkits.mplot3d import Axes3D\n",
    "from sklearn import decomposition\n",
    "from sklearn.decomposition import PCA as sklearnPCA\n",
    "from sklearn.preprocessing import StandardScaler\n",
    "import scipy.cluster.hierarchy as hac\n",
    "from sklearn.pipeline import Pipeline\n",
    "from sklearn.preprocessing import PolynomialFeatures\n",
    "from sklearn.linear_model import LinearRegression\n",
    "#from sklearn.model_selection import cross_val_score\n",
    "#import mne\n",
    "#import pyvttbl as pt\n",
    "\n",
    "import mycharite\n",
    "import mystats "
   ]
  },
  {
   "cell_type": "code",
   "execution_count": null,
   "metadata": {},
   "outputs": [],
   "source": [
    "VIT=mycharite.load_VIT_actress_AU()\n",
    "df, df_audio, action_r, action_c, gaze, audio =mycharite.load('charite')\n",
    "mimicry, new_features=mycharite.calc_mim(df, VIT)\n",
    "df=pd.merge(df, mimicry, on='vpn')\n",
    "\n",
    "df=mycharite.aq_charite(df)\n",
    "df=mycharite.ados_charite(df)\n",
    "df=mycharite.adapt_times(df)"
   ]
  },
  {
   "cell_type": "code",
   "execution_count": null,
   "metadata": {
    "collapsed": true
   },
   "outputs": [],
   "source": [
    "experts=mycharite.load_experts(df)"
   ]
  },
  {
   "cell_type": "markdown",
   "metadata": {},
   "source": [
    "53 Kontrollprobandin\n",
    "75 - 7 ist Autist (prüfen, ob tatsächlich 7 und 75 übereinstimmen)"
   ]
  },
  {
   "cell_type": "code",
   "execution_count": null,
   "metadata": {},
   "outputs": [],
   "source": [
    "experts[['vpn', 'asc','rater', 'ASC', 'Pseudo', 'Value', 'asq', 'ados_social']][experts.rater=='Beatrix'].sort_values('Pseudo')#.head()"
   ]
  },
  {
   "cell_type": "code",
   "execution_count": null,
   "metadata": {},
   "outputs": [],
   "source": [
    "experts.columns"
   ]
  },
  {
   "cell_type": "code",
   "execution_count": null,
   "metadata": {
    "scrolled": true
   },
   "outputs": [],
   "source": [
    "experts.groupby('rater').mean()[['correct', 'false', 'false_positive','false_negative', 'true_negatives', 'true_positives']]"
   ]
  },
  {
   "cell_type": "code",
   "execution_count": null,
   "metadata": {
    "collapsed": true
   },
   "outputs": [],
   "source": [
    "experts.sum()[['correct', 'false', 'false_positive','false_negative', 'true_negatives', 'true_positives']]"
   ]
  },
  {
   "cell_type": "code",
   "execution_count": null,
   "metadata": {
    "collapsed": true
   },
   "outputs": [],
   "source": [
    "vpn_experts=experts.groupby('rater').mean()\n",
    "vpn_experts=vpn_experts[(vpn_experts.experience_month_total>0)] \n",
    "\n",
    "\n",
    "experiences=['experience_month_total', 'experience_month_diagnostic',\n",
    "       'experience_diagnosis_cases', 'experience_ados']\n",
    "for experience in experiences:\n",
    "    print (mystats.correlation(vpn_experts['correct'], vpn_experts[experience]))\n",
    "    sns.regplot(vpn_experts['correct'], vpn_experts[experience])\n",
    "    plt.show()"
   ]
  },
  {
   "cell_type": "code",
   "execution_count": null,
   "metadata": {
    "collapsed": true
   },
   "outputs": [],
   "source": [
    "np.mean(experts.groupby('rater').mean()['correct'])"
   ]
  },
  {
   "cell_type": "code",
   "execution_count": null,
   "metadata": {
    "collapsed": true
   },
   "outputs": [],
   "source": [
    "experts[experts.sex==1].sum()[['correct', 'false', 'false_positive','false_negative', 'true_negatives', 'true_positives']]\n",
    "#female\n",
    "experts[experts.sex==2].sum()[['correct', 'false', 'false_positive','false_negative', 'true_negatives', 'true_positives']]\n",
    "#male\n",
    "\n",
    "#import numpy as np\n",
    "from scipy.stats import chi2_contingency\n",
    "#female vs. male\n",
    "obs = np.array([[10, 5, 16, 19], [10,2, 20,7]])\n",
    "chi2_contingency(obs)\n",
    "\n"
   ]
  },
  {
   "cell_type": "code",
   "execution_count": null,
   "metadata": {
    "collapsed": true
   },
   "outputs": [],
   "source": [
    "\n",
    "mystats.correlation(experts_ASC['Value'], experts_ASC['ados_social'])\n",
    "mystats.correlation(experts_ASC['Value'], experts_ASC['ados_social'])\n",
    "mystats.correlation(experts_AQ['Value'], experts_AQ['asq'])\n",
    "\n",
    "for i in set(df2['rater']):\n",
    "    df3=df2[df2.rater==i]\n",
    "    print (i)\n",
    "    print (np.sum(df3['asc']==df3['ASC'])/len(df3))"
   ]
  },
  {
   "cell_type": "markdown",
   "metadata": {},
   "source": [
    "## Graphiken"
   ]
  },
  {
   "cell_type": "code",
   "execution_count": null,
   "metadata": {
    "collapsed": true
   },
   "outputs": [],
   "source": [
    "import matplotlib.pyplot as plt\n",
    "import seaborn as sns"
   ]
  },
  {
   "cell_type": "code",
   "execution_count": null,
   "metadata": {
    "collapsed": true
   },
   "outputs": [],
   "source": [
    "ax = plt.axes(projection='3d')\n",
    "ax.scatter(experts['Value'], experts['asq'], experts['age'], c=experts['age'], cmap='viridis', linewidth=0.5);\n",
    "plt.show()"
   ]
  },
  {
   "cell_type": "code",
   "execution_count": null,
   "metadata": {
    "collapsed": true
   },
   "outputs": [],
   "source": [
    "#Figure for ASC\n",
    "experts_ASC=experts[experts['ados_social']>0].reset_index()\n",
    "plt.scatter(experts_ASC['Value'], experts_ASC['ados_social'], c='skyblue', s=60)\n",
    "plt.xlabel('Expert')\n",
    "plt.ylabel('ADOS (social)')\n",
    "plt.show()\n"
   ]
  },
  {
   "cell_type": "code",
   "execution_count": null,
   "metadata": {
    "collapsed": true
   },
   "outputs": [],
   "source": [
    "\n",
    "#Figure for ASC\n",
    "experts_ASC=experts[experts['ados_social']>0].reset_index()\n",
    "sns.regplot(experts_ASC['Value'], experts_ASC['ados_social'])\n",
    "plt.xlabel('Expert')\n",
    "plt.ylabel('ADOS (social)')\n",
    "plt.xlim(0,10)\n",
    "plt.show()\n"
   ]
  },
  {
   "cell_type": "code",
   "execution_count": null,
   "metadata": {
    "collapsed": true
   },
   "outputs": [],
   "source": [
    "#mit labels\n",
    "types =  experts_ASC['vpn'] #['apple', 'orange', 'apple', 'pear', 'apple', 'orange', 'apple', 'pear']\n",
    "x_coords = experts_ASC['Value']# [10, 10, 5, 4, 3, 20, 19, 21]\n",
    "y_coords = experts_ASC['ados_social']#[21, 23, 12, 21, 10, 20, 14, 2]\n",
    "\n",
    "for i,type in enumerate(types):\n",
    "    x = x_coords[i]\n",
    "    y = y_coords[i]\n",
    "    plt.scatter(x, y, marker='x', color='red')\n",
    "    plt.text(x+0.3, y+0.3, type, fontsize=9)\n",
    "plt.show()"
   ]
  },
  {
   "cell_type": "code",
   "execution_count": null,
   "metadata": {
    "collapsed": true
   },
   "outputs": [],
   "source": [
    "#Figure for ASC\n",
    "experts_ASC=experts[experts['ados_social']>0].reset_index()\n",
    "sns.regplot(experts_ASC['Value'], experts_ASC['ados_social'], scatter_kws={\"s\": 100},)\n",
    "plt.yticks(fontsize=16)    \n",
    "plt.xticks(fontsize=16)  \n",
    "plt.xlabel('Expert Value', fontsize=18) \n",
    "plt.ylabel('ADOS (social)', fontsize=18)\n",
    "plt.xlim(0,10)\n",
    "plt.show()\n"
   ]
  },
  {
   "cell_type": "code",
   "execution_count": null,
   "metadata": {
    "collapsed": true
   },
   "outputs": [],
   "source": [
    "sns.set_style(\"white\")\n",
    "experts_AQ=experts[experts.asq>0]\n",
    "sns.lmplot(x=\"Value\", y=\"asq\", data=experts_AQ, #fit_reg=False,\n",
    "           hue='asc', legend=False,  scatter_kws={\"s\": 100},\n",
    "           markers=[\"o\", \"v\"] )\n",
    "plt.yticks(fontsize=16)    \n",
    "plt.xticks(fontsize=16)  \n",
    "plt.xlabel('Expert Value', fontsize=18) \n",
    "plt.ylabel('AQ Value', fontsize=18)\n",
    "#plt.legend(title='ASC', loc = \"upper left\", fontsize=16)\n",
    "plt.xlim(0,10)\n",
    "#plt.savefig('AU_'+ str(i) + '_.png')\n",
    "plt.show()\n",
    "\n"
   ]
  },
  {
   "cell_type": "code",
   "execution_count": null,
   "metadata": {
    "collapsed": true
   },
   "outputs": [],
   "source": [
    "#3 Dimension\n",
    "\n",
    "experts_ASC=experts[experts['ados_social']>0].reset_index()\n",
    "plt.scatter(x = experts_ASC['asq'], \n",
    "            y = experts_ASC['ados_social'], \n",
    "            s = experts_ASC['Value']*25, # <== 😀 Look here!\n",
    "            alpha=0.4,   edgecolors='w')\n",
    "\n",
    "plt.xlabel('AQ')\n",
    "plt.ylabel('ADOS (social)')\n",
    "plt.title('Experts (size of dot)', y=1.05)\n",
    "\n",
    "plt.show()"
   ]
  },
  {
   "cell_type": "code",
   "execution_count": null,
   "metadata": {
    "collapsed": true
   },
   "outputs": [],
   "source": []
  },
  {
   "cell_type": "code",
   "execution_count": null,
   "metadata": {
    "collapsed": true
   },
   "outputs": [],
   "source": []
  },
  {
   "cell_type": "code",
   "execution_count": null,
   "metadata": {
    "collapsed": true
   },
   "outputs": [],
   "source": [
    "df2"
   ]
  },
  {
   "cell_type": "code",
   "execution_count": null,
   "metadata": {
    "collapsed": true
   },
   "outputs": [],
   "source": []
  }
 ],
 "metadata": {
  "kernelspec": {
   "display_name": "Python 3",
   "language": "python",
   "name": "python3"
  },
  "language_info": {
   "codemirror_mode": {
    "name": "ipython",
    "version": 3
   },
   "file_extension": ".py",
   "mimetype": "text/x-python",
   "name": "python",
   "nbconvert_exporter": "python",
   "pygments_lexer": "ipython3",
   "version": "3.6.3"
  }
 },
 "nbformat": 4,
 "nbformat_minor": 2
}
