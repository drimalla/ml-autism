{
 "cells": [
  {
   "cell_type": "markdown",
   "metadata": {},
   "source": [
    "### Import of Functions"
   ]
  },
  {
   "cell_type": "code",
   "execution_count": null,
   "metadata": {},
   "outputs": [],
   "source": [
    "#basics\n",
    "import os\n",
    "import sys\n",
    "print (os.getcwd())\n",
    "sys.path.append('/home/Hanna.Drimalla/ml-autism/scripts')\n",
    "\n",
    "import pandas as pd\n",
    "import numpy as np\n",
    "#import prep\n",
    "import math\n",
    "from statsmodels.stats.descriptivestats import sign_test\n",
    "from sklearn.metrics. ranking import _binary_clf_curve\n",
    "\n",
    "#graphics\n",
    "import matplotlib\n",
    "#matplotlib.use('agg')\n",
    "import matplotlib.pyplot as plt \n",
    "import seaborn as sns\n",
    "# fix random seed for reproducibility\n",
    "\n",
    "import pandas as pd\n",
    "\n",
    "import matplotlib.pyplot as plt\n",
    "import seaborn as sns\n",
    "from mpl_toolkits.mplot3d import Axes3D\n",
    "\n",
    "import mycharite\n",
    "from scipy.stats import chi2_contingency\n",
    "from statsmodels.stats.contingency_tables import mcnemar\n",
    "np.random.seed(42)"
   ]
  },
  {
   "cell_type": "markdown",
   "metadata": {},
   "source": [
    "## Load Results"
   ]
  },
  {
   "cell_type": "code",
   "execution_count": null,
   "metadata": {
    "collapsed": true
   },
   "outputs": [],
   "source": [
    "def load_results(path1, path2, feature, classifier='rf'):\n",
    "    pr_rf =[]\n",
    "    pr_svm =[]\n",
    "\n",
    "\n",
    "    if classifier=='regression':\n",
    "        data=pd.read_csv(path, sep=',', na_values=['?'])\n",
    "        pr_svm=data.iloc[0,1:].astype(float)        \n",
    "        pr_rf=data.iloc[1,1:].astype(float)\n",
    "        y_true=data.iloc[2,1:].astype(float)\n",
    "   \n",
    "    if classifier=='rf':\n",
    "        data=pd.read_csv(path1, sep=',', na_values=['?'])\n",
    "        pr_rf=data.iloc[1,1:81].astype('str').str[1:-1].str.split(' ', expand=True)[3].astype(float)\n",
    "        \n",
    "        feature_importance=pd.read_csv(path2, sep=',', na_values=['?'])\n",
    "        features=feature_importance.iloc[0,1:]\n",
    "        vpn=data.iloc[3,1:81].astype(str)\n",
    "        y_true=data.iloc[0,1:81].astype(float)\n",
    "\n",
    "        results=pd.DataFrame([pr_rf, y_true, vpn]).T\n",
    "        \n",
    "        results.columns=['pr_rf_'+feature, 'y_true_'+feature, 'vpn']\n",
    "        \n",
    "    return results, features, \n"
   ]
  },
  {
   "cell_type": "code",
   "execution_count": null,
   "metadata": {},
   "outputs": [],
   "source": [
    "#Total\n",
    "path1='./gaze_Results.csv'\n",
    "path2='./gaze_Features.csv'\n",
    "gaze_results, gaze_features=load_results(path1, path2, 'gaze')\n",
    "\n",
    "#Total\n",
    "path1='./face_Results.csv'\n",
    "path2='./face_Features.csv'\n",
    "face_results, face_features=load_results(path1, path2, 'face')\n",
    "\n",
    "#Total\n",
    "path1='./face_full_Results.csv'\n",
    "path2='./face_full_Features.csv'\n",
    "face_full_results, face_full_features=load_results(path1, path2, 'face_full')\n",
    "\n",
    "#Total\n",
    "path1='./audio_Results.csv'\n",
    "path2='./audio_Features.csv'\n",
    "audio_results, audio_features=load_results(path1, path2, 'voice')\n",
    "\n",
    "#Total\n",
    "path1='./Clinical_Results.csv'\n",
    "path2='./Clinical_Features.csv'\n",
    "clinic_results, clinic_features=load_results(path1, path2, 'clinic')\n",
    "\n",
    "#Total\n",
    "path1='./all_only_aur_Results.csv'\n",
    "path2='./all_only_aur_Features.csv'\n",
    "full_results, full_features=load_results(path1, path2, 'full')"
   ]
  },
  {
   "cell_type": "code",
   "execution_count": null,
   "metadata": {
    "collapsed": true
   },
   "outputs": [],
   "source": [
    "#gaze_results\n",
    "\n",
    "gaze_face=pd.merge(gaze_results, face_results, on='vpn')\n",
    "gaze_face_full=pd.merge(gaze_face, face_full_results, on='vpn')\n",
    "gaze_face_voice=pd.merge(gaze_face_full, audio_results, on='vpn')\n",
    "gaze_face_voice_full=pd.merge(gaze_face_voice, full_results, on='vpn')\n",
    "ml_classifier=pd.merge(gaze_face_voice_full, clinic_results, on='vpn')\n"
   ]
  },
  {
   "cell_type": "code",
   "execution_count": null,
   "metadata": {},
   "outputs": [],
   "source": [
    "df, df_audio, action_r, action_c, gaze, audio =mycharite.load('charite')\n",
    "df=mycharite.aq_charite(df)\n",
    "df=mycharite.ados_charite(df)\n",
    "df=mycharite.adapt_times(df)  \n",
    "experts=mycharite.load_experts(df)\n",
    "experts['vpn']=experts.vpn.astype(str)\n",
    "experts=experts.rename(columns={'ASC': 'expert_ASC'})\n",
    "experts=experts.rename(columns={'Value': 'pr_rf_experts'})\n",
    "ml_classifier_and_experts=pd.merge(ml_classifier, experts, on='vpn')\n"
   ]
  },
  {
   "cell_type": "code",
   "execution_count": null,
   "metadata": {},
   "outputs": [],
   "source": [
    "ml_classifier_and_experts['pr_rf_majority']=0.4\n",
    "ml_classifier_and_experts=depth(ml_classifier_and_experts, 'majority')"
   ]
  },
  {
   "cell_type": "markdown",
   "metadata": {},
   "source": [
    "## Stats - in depth"
   ]
  },
  {
   "cell_type": "code",
   "execution_count": null,
   "metadata": {},
   "outputs": [],
   "source": [
    "def depth(df, var):\n",
    "    \n",
    "    df['prediction_'+var]=(df['pr_rf_'+ var]>0.5)*1\n",
    "    if var=='experts':\n",
    "        df['prediction_'+var]=(df['pr_rf_'+ var]>5)*1\n",
    "        \n",
    "    df['correct_'+var]=df['asc']==df['prediction_'+var]\n",
    "        \n",
    "    df['false_'+var]=(df['correct_'+var]==False)\n",
    "    df['false_positive_'+var]=(df['correct_'+var]==False)&(df['asc']==0)\n",
    "    df['false_negative_'+var]=(df['correct_'+var]==False)&(df['asc']==1)\n",
    "\n",
    "    df['true_negatives_'+var]=(df['correct_'+var]==True)&(df['asc']==0)\n",
    "    df['true_positives_'+var]=(df['correct_'+var]==True)&(df['asc']==1)\n",
    "    \n",
    "    print (var)\n",
    "    print (df.groupby('vpn').mean().groupby(['sex'])['correct_'+var].describe())\n",
    "    print (df.groupby('vpn').mean().groupby(['sex'])['correct_'+var].sum())\n",
    "    \n",
    "    return df\n",
    "\n",
    "ml_classifier_and_experts=depth(ml_classifier_and_experts, 'face')\n",
    "ml_classifier_and_experts=depth(ml_classifier_and_experts, 'face_full')\n",
    "ml_classifier_and_experts=depth(ml_classifier_and_experts, 'voice')\n",
    "ml_classifier_and_experts=depth(ml_classifier_and_experts, 'full')\n",
    "ml_classifier_and_experts=depth(ml_classifier_and_experts, 'experts')\n",
    "ml_classifier_and_experts=depth(ml_classifier_and_experts, 'gaze')\n"
   ]
  },
  {
   "cell_type": "markdown",
   "metadata": {},
   "source": [
    "### gender analysis"
   ]
  },
  {
   "cell_type": "code",
   "execution_count": null,
   "metadata": {},
   "outputs": [],
   "source": [
    "print (57/79)\n",
    "#experts.head()\n",
    "#np.sum(ml_classifier_and_experts.correct_full)\n",
    "print (58/79)"
   ]
  },
  {
   "cell_type": "code",
   "execution_count": null,
   "metadata": {},
   "outputs": [],
   "source": [
    "#female vs. male (face)\n",
    "\n",
    "obs = np.array([[33, 6], [25, 15]])\n",
    "chi2, p, dof, ex = chi2_contingency(obs)\n",
    "print (chi2)\n",
    "print (p)\n",
    "print (dof)"
   ]
  },
  {
   "cell_type": "code",
   "execution_count": null,
   "metadata": {},
   "outputs": [],
   "source": [
    "#female vs. male (total)\n",
    "\n",
    "obs = np.array([[34, 5], [19, 21]])\n",
    "chi2, p, dof, ex = chi2_contingency(obs)\n",
    "print (chi2)\n",
    "print (p)\n",
    "print (dof)"
   ]
  },
  {
   "cell_type": "code",
   "execution_count": null,
   "metadata": {},
   "outputs": [],
   "source": [
    "#female vs. male (gaze)\n",
    "\n",
    "obs = np.array([[25, 14], [20, 20]])\n",
    "chi2, p, dof, ex = chi2_contingency(obs)\n",
    "print (chi2)\n",
    "print (p)\n",
    "print (dof)"
   ]
  },
  {
   "cell_type": "code",
   "execution_count": null,
   "metadata": {},
   "outputs": [],
   "source": [
    "#female vs. male (voice)\n",
    "\n",
    "obs = np.array([[27, 12], [32, 8]])\n",
    "chi2, p, dof, ex = chi2_contingency(obs)\n",
    "print (chi2)\n",
    "print (p)\n",
    "print (dof)"
   ]
  },
  {
   "cell_type": "code",
   "execution_count": null,
   "metadata": {
    "collapsed": true
   },
   "outputs": [],
   "source": [
    "import scipy\n",
    "def correlation(df1, df2):\n",
    "\n",
    "    _, p1 =scipy.stats.shapiro(df1)        \n",
    "    _, p2 =scipy.stats.shapiro(df2) \n",
    "\n",
    "    if ((p1<0.05)|(p2<0.05)):\n",
    "        print ('not normally distributed: p1=' + str(p1) + ' ' + 'p2=' + str(p2))\n",
    "        print (scipy.stats.spearmanr(df1, df2))\n",
    "    else:\n",
    "        print ('normally distributed: p1=' + str(p1) + ' ' + 'p2=' + str(p2))\n",
    "        print (scipy.stats.pearsonr(df1, df2))"
   ]
  },
  {
   "cell_type": "code",
   "execution_count": null,
   "metadata": {
    "collapsed": true
   },
   "outputs": [],
   "source": [
    "ml_classifier_and_experts.ados_total=ml_classifier_and_experts.ados_total.astype(float)\n",
    "ml_classifier_and_experts.pr_rf_full=ml_classifier_and_experts.pr_rf_full.astype(float)  "
   ]
  },
  {
   "cell_type": "code",
   "execution_count": null,
   "metadata": {},
   "outputs": [],
   "source": [
    "def simple_plot(df, x, y):\n",
    "    sns.set_style(\"white\")\n",
    "    #experts_AQ=experts[experts.asq>0]\n",
    "    g=sns.lmplot(x=x, y=y, data=df, #fit_reg=False,\n",
    "               legend=False,  scatter_kws={\"s\": 100})\n",
    "    plt.yticks(fontsize=16)    \n",
    "    plt.xticks(fontsize=16)  \n",
    "    plt.xlabel('ADOS', fontsize=18) \n",
    "    plt.ylabel('Classifier Prediction', fontsize=18)\n",
    "    #plt.legend(title='ASC', loc = \"upper left\", fontsize=16)\n",
    "    #plt.xlim(0,10)\n",
    "    #plt.ylim(0,1)\n",
    "    plt.savefig('Ados' + '_.pdf', format='pdf', bbox_inches = \"tight\")\n",
    "    plt.savefig('Ados' + '_.png', format='png', bbox_inches = \"tight\")\n",
    "    plt.show()\n",
    "\n",
    "simple_plot(ml_classifier_and_experts.reset_index(drop=True)[ml_classifier_and_experts.ados_total>0],\n",
    "            \"ados_total\", \"pr_rf_full\")\n",
    "\n",
    "correlation(ml_classifier_and_experts['pr_rf_full'],  ml_classifier_and_experts.ados_total)"
   ]
  },
  {
   "cell_type": "code",
   "execution_count": null,
   "metadata": {},
   "outputs": [],
   "source": [
    "def simple_plot(df, x, y):\n",
    "    sns.set_style(\"white\")\n",
    "    #experts_AQ=experts[experts.asq>0]\n",
    "    g=sns.lmplot(x=x, y=y, data=df, #fit_reg=False,\n",
    "               hue='asc', legend=False,  scatter_kws={\"s\": 100},\n",
    "               markers=[\"o\", \"v\"] ).add_legend(bbox_to_anchor = (1.1, 0.8),  title='', fontsize=16)\n",
    "    new_labels = ['NT', 'ASC']\n",
    "    for t, l in zip(g._legend.texts, new_labels): t.set_text(l)\n",
    "        \n",
    "    plt.yticks(fontsize=16)    \n",
    "    plt.xticks(fontsize=16)  \n",
    "    plt.xlabel('Age', fontsize=18) \n",
    "    plt.ylabel('Classifier Prediction', fontsize=18)\n",
    "    #plt.legend(title='ASC', loc = \"upper left\", fontsize=16)\n",
    "    #plt.xlim(0,10)\n",
    "    #plt.ylim(0,1)\n",
    "\n",
    "    plt.savefig('AGE' + '_.pdf', format='pdf', bbox_inches = \"tight\")\n",
    "    plt.savefig('AGE' + '_.png', format='png', bbox_inches = \"tight\")\n",
    "    plt.show()\n",
    "\n",
    "simple_plot(ml_classifier_and_experts.reset_index(drop=True), \"age\", \"pr_rf_full\")\n",
    "\n",
    "correlation(ml_classifier_and_experts['pr_rf_full'],  ml_classifier_and_experts.age)"
   ]
  },
  {
   "cell_type": "markdown",
   "metadata": {},
   "source": [
    "sex = 2 --> 'male'"
   ]
  },
  {
   "cell_type": "markdown",
   "metadata": {},
   "source": [
    "### compare classifier"
   ]
  },
  {
   "cell_type": "code",
   "execution_count": null,
   "metadata": {
    "collapsed": true
   },
   "outputs": [],
   "source": [
    "\n",
    "# define contingency table\n",
    "\n",
    "classifier1=ml_classifier_and_experts.correct_full\n",
    "classifier2=ml_classifier_and_experts.correct_experts\n",
    "\n",
    "def compare_classifiers(classifier1, classifier2):\n",
    "    a=np.sum((classifier1==True) & (classifier2==True))\n",
    "    b=np.sum((classifier1==True) & (classifier2==False))\n",
    "    c=np.sum((classifier1==False) & (classifier2==True))\n",
    "    d=np.sum((classifier1==False) & (classifier2==False))\n",
    "\n",
    "    table = [[a, b], [c, d]]\n",
    "    # calculate mcnemar test\n",
    "    result = mcnemar(table, exact=True)\n",
    "    # summarize the finding\n",
    "    print('statistic=%.3f, p-value=%.3f' % (result.statistic, result.pvalue))\n",
    "    # interpret the p-value\n",
    "    alpha = 0.05\n",
    "    if result.pvalue > alpha:\n",
    "        print('Same proportions of errors (fail to reject H0)')\n",
    "    else:\n",
    "        print('Different proportions of errors (reject H0)')"
   ]
  },
  {
   "cell_type": "code",
   "execution_count": null,
   "metadata": {},
   "outputs": [],
   "source": [
    "compare_classifiers(classifier1, classifier2)\n",
    "compare_classifiers(ml_classifier_and_experts.correct_full, ml_classifier_and_experts.correct_majority)\n",
    "compare_classifiers(ml_classifier_and_experts.correct_gaze, ml_classifier_and_experts.correct_majority)\n",
    "compare_classifiers(ml_classifier_and_experts.correct_voice, ml_classifier_and_experts.correct_majority)\n",
    "compare_classifiers(ml_classifier_and_experts.correct_face_full, ml_classifier_and_experts.correct_majority)"
   ]
  },
  {
   "cell_type": "code",
   "execution_count": null,
   "metadata": {},
   "outputs": [],
   "source": [
    "compare_classifiers(ml_classifier_and_experts.correct_face_full, ml_classifier_and_experts.correct_gaze)\n"
   ]
  },
  {
   "cell_type": "markdown",
   "metadata": {},
   "source": [
    "\n",
    "## Graphics"
   ]
  },
  {
   "cell_type": "code",
   "execution_count": null,
   "metadata": {},
   "outputs": [],
   "source": [
    "plt.style.use('seaborn-white')\n",
    "\n",
    "plt.scatter(ml_classifier_and_experts.Value[ml_classifier_and_experts.asc==True], \n",
    "            ml_classifier_and_experts.pr_rf_face[ml_classifier_and_experts.asc==True], color='red')\n",
    "\n",
    "plt.scatter(ml_classifier_and_experts.Value[ml_classifier_and_experts.asc==False], \n",
    "            ml_classifier_and_experts.pr_rf_face[ml_classifier_and_experts.asc==False], color='blue')\n",
    "\n",
    "plt.xlabel('Expert Rating')\n",
    "plt.ylabel('Face Classifier')\n",
    "plt.xlim(0,10)\n",
    "plt.ylim(0,1)\n",
    "plt.show()"
   ]
  },
  {
   "cell_type": "code",
   "execution_count": null,
   "metadata": {},
   "outputs": [],
   "source": [
    "def simple_plot(df, x, y):\n",
    "    \n",
    "    plt.figure(figsize=(30, 8))  \n",
    "    \n",
    "    #fz=22 #16\n",
    "    #lw=3 #1.5\n",
    "    sns.set_style(\"white\") \n",
    "    \n",
    "    \n",
    "    #experts_AQ=experts[experts.asq>0]\n",
    "    g=sns.lmplot(x=x, y=y, data=df, fit_reg=False,\n",
    "               hue='asc', legend=False,  scatter_kws={\"s\": 100},\n",
    "               markers=[\"o\", \"v\"] ).add_legend(bbox_to_anchor = (0.37, 0.92),  \n",
    "                                               frameon=True, title='', fontsize=16)\n",
    "    new_labels = ['NT', 'ASC']\n",
    "    for t, l in zip(g._legend.texts, new_labels): t.set_text(l)\n",
    "     \n",
    "    #plt.tight_layout()\n",
    "    plt.yticks(fontsize=16)    \n",
    "    plt.xticks(fontsize=16)  \n",
    "    plt.xlabel('Expert Value', fontsize=18) \n",
    "    plt.ylabel('ML Classifier Value', fontsize=18)\n",
    "    #plt.legend(title='ASC', loc = \"upper left\", fontsize=16)\n",
    "    plt.xlim(0,10)\n",
    "    plt.ylim(0,1)\n",
    "    \n",
    "    plt.savefig('Classifier_comparison' + '.pdf', format='pdf', bbox_inches = \"tight\")\n",
    "    plt.savefig('Classifier_comparison' + '.png', format='png', bbox_inches = \"tight\")\n",
    "   \n",
    "    plt.show()\n",
    "    plt.close()\n",
    "\n",
    "\n",
    "simple_plot(ml_classifier_and_experts.reset_index(drop=True), \"pr_rf_experts\", \"pr_rf_full\")"
   ]
  },
  {
   "cell_type": "code",
   "execution_count": null,
   "metadata": {
    "collapsed": true
   },
   "outputs": [],
   "source": [
    "def gender_plot(df, x, y):\n",
    "    plt.figure(figsize=(20, 8))  \n",
    "    \n",
    "    kws = dict(s=50, linewidth=.5, edgecolor=\"w\")\n",
    "    g = sns.FacetGrid(df, col=\"sex\", hue=\"asc\", palette=\"Set1\",\n",
    "                      hue_order=[0, 1],  hue_kws=dict(marker=[\"o\", \"v\"]))\n",
    "    g = (g.map(plt.scatter, x , y,  **kws).add_legend(bbox_to_anchor = (1.1, 0.8)))\n",
    "    g.set(xlabel='Expert Value', ylabel='Face Classifier Value')#, size=18)\n",
    "    #plt.legend(title='Smoker', loc='upper left', labels=['Hell Yeh', 'Nah Bruh'])\n",
    "    new_labels = ['NT', 'ASC']\n",
    "    for t, l in zip(g._legend.texts, new_labels): t.set_text(l)\n",
    "\n",
    "\n",
    "    axes = g.axes.flatten()\n",
    "    axes[0].set_title(\"Female Participants\")\n",
    "    axes[1].set_title(\"Male Participants\")\n",
    "\n",
    "    plt.xlim(0,10)\n",
    "    plt.ylim(0,1)\n",
    "    plt.savefig('gender' +'.pdf', format='pdf', bbox_inches = \"tight\")\n",
    "    plt.savefig('gender' +'.png', format='png', bbox_inches = \"tight\")\n",
    "    plt.tight_layout()\n",
    "    plt.show()   \n",
    "    plt.close()\n",
    "\n",
    "\n"
   ]
  },
  {
   "cell_type": "code",
   "execution_count": null,
   "metadata": {},
   "outputs": [],
   "source": [
    "#gender_plot(ml_classifier_and_experts, 'pr_rf_experts', 'pr_rf_face')\n",
    "#gender_plot(ml_classifier_and_experts, 'pr_rf_experts', 'pr_rf_gaze')\n",
    "#gender_plot(ml_classifier_and_experts, 'pr_rf_experts', 'pr_rf_voice')\n",
    "#gender_plot(ml_classifier_and_experts, 'pr_rf_experts', 'pr_rf_face_full')\n",
    "gender_plot(ml_classifier_and_experts, 'pr_rf_experts', 'pr_rf_full')"
   ]
  },
  {
   "cell_type": "code",
   "execution_count": null,
   "metadata": {
    "collapsed": true
   },
   "outputs": [],
   "source": [
    "predictions = {'voice': ml_classifier_and_experts.pr_rf_voice, \n",
    "               'face': ml_classifier_and_experts.pr_rf_face_full, \n",
    "               'gaze': ml_classifier_and_experts.pr_rf_gaze, \n",
    "               'total': ml_classifier_and_experts.pr_rf_full, \n",
    "               'experts': ml_classifier_and_experts.pr_rf_experts} \n",
    "from sklearn.metrics import roc_curve, auc\n",
    "\n",
    "def all_roc_graph(y_true, predictions, name): \n",
    "   \n",
    "    plt.figure(figsize=(12, 8))  \n",
    "    pred=0\n",
    "    fz=22 #16\n",
    "    lw=3 #1.5\n",
    "    sns.set_style(\"white\") \n",
    "    \n",
    "    colors=[ (0, 128, 128),  (0, 0, 128), (200, 128, 0), (128, 0, 0), (31, 119, 180), (255, 127, 14)]\n",
    "    linestyle = ['-', '-.', '--', ':', '-.', '-', '--', ':']\n",
    "    markers = [' ', ' ', ' ', ' ', 'o', 'x']\n",
    "    \n",
    "    plt.plot([-0.01, 1.01], [-0.01, 1.01], color=(0 / 255., 0 / 255., 0 / 255.), \n",
    "             linestyle='-',lw=0.5)\n",
    "    \n",
    "    for i in range(len(colors)): \n",
    "        r, g, b = colors[i]\n",
    "        colors[i] = (r / 255., g / 255., b / 255.) \n",
    "        \n",
    "    for key in predictions:\n",
    "        \n",
    "        fpr_nn, tpr_nn, thresholds_nn = roc_curve(y_true, predictions[key], drop_intermediate=False)\n",
    "        roc_auc_nn = auc(fpr_nn, tpr_nn)\n",
    "\n",
    "        plt.plot(fpr_nn, tpr_nn, label=key + ': AUC = %0.2f' % (roc_auc_nn),\n",
    "                 lw=lw,\n",
    "                 linestyle=linestyle[pred],\n",
    "                 color=colors[pred],\n",
    "                 marker=markers[pred]\n",
    "                )    \n",
    "        pred=pred+1      \n",
    "        \n",
    "   \n",
    "    plt.xlim([-0.01, 1.01])\n",
    "    plt.ylim([-0.01, 1.01])\n",
    "    plt.yticks(fontsize=fz)    \n",
    "    plt.xticks(fontsize=fz)  \n",
    "    plt.xlabel('False Positive Rate', fontsize=fz)\n",
    "    plt.ylabel('True Positive Rate', fontsize=fz)\n",
    "    plt.title('Receiver Operating Characteristic', fontsize=fz)\n",
    "    plt.legend(loc='lower right', fontsize=fz-2)   \n",
    "    plt.savefig('ROC_' + name +'.png', format='png')\n",
    "    plt.savefig('ROC_' + name +'.pdf', format='pdf')\n",
    "    plt.show()   \n",
    "    plt.close()\n",
    "    \n",
    "all_roc_graph(ml_classifier_and_experts.asc, predictions, 'ROC')\n"
   ]
  },
  {
   "cell_type": "code",
   "execution_count": null,
   "metadata": {},
   "outputs": [],
   "source": [
    "predictions = {'Stimme': ml_classifier_and_experts.pr_rf_voice, \n",
    "               'Gesicht': ml_classifier_and_experts.pr_rf_face_full, \n",
    "               'Blick': ml_classifier_and_experts.pr_rf_gaze, \n",
    "               'Gesamt': ml_classifier_and_experts.pr_rf_full, \n",
    "               'Experten': ml_classifier_and_experts.pr_rf_experts} \n",
    "from sklearn.metrics import roc_curve, auc\n",
    "\n",
    "def all_roc_graph(y_true, predictions, name): \n",
    "   \n",
    "    plt.figure(figsize=(12, 8))  \n",
    "    pred=0\n",
    "    fz=22 #16\n",
    "    lw=3 #1.5\n",
    "    sns.set_style(\"white\") \n",
    "    \n",
    "    colors=[ (0, 128, 128),  (0, 0, 128), (200, 128, 0), (128, 0, 0), (31, 119, 180), (255, 127, 14)]\n",
    "    linestyle = ['-', '-.', '--', ':', '-.', '-', '--', ':']\n",
    "    markers = [' ', ' ', ' ', ' ', 'o', 'x']\n",
    "    \n",
    "    plt.plot([-0.01, 1.01], [-0.01, 1.01], color=(0 / 255., 0 / 255., 0 / 255.), \n",
    "             linestyle='-',lw=0.5)\n",
    "    \n",
    "    for i in range(len(colors)): \n",
    "        r, g, b = colors[i]\n",
    "        colors[i] = (r / 255., g / 255., b / 255.) \n",
    "        \n",
    "    for key in predictions:\n",
    "        \n",
    "        fpr_nn, tpr_nn, thresholds_nn = roc_curve(y_true, predictions[key], drop_intermediate=False)\n",
    "        roc_auc_nn = auc(fpr_nn, tpr_nn)\n",
    "\n",
    "        plt.plot(fpr_nn, tpr_nn, label=key + ': AUC = %0.2f' % (roc_auc_nn),\n",
    "                 lw=lw,\n",
    "                 linestyle=linestyle[pred],\n",
    "                 color=colors[pred],\n",
    "                 marker=markers[pred]\n",
    "                )    \n",
    "        pred=pred+1      \n",
    "        \n",
    "   \n",
    "    plt.xlim([-0.01, 1.01])\n",
    "    plt.ylim([-0.01, 1.01])\n",
    "    plt.yticks(fontsize=fz)    \n",
    "    plt.xticks(fontsize=fz)  \n",
    "    plt.xlabel('Falsch-Positiv-Rate', fontsize=fz)\n",
    "    plt.ylabel('Richtig-Positiv-Rate', fontsize=fz)\n",
    "    plt.title('Receiver Operating Characteristic', fontsize=fz)\n",
    "    plt.legend(loc='lower right', fontsize=fz-2)   \n",
    "    plt.savefig('ROC_' + name +'.png', format='png')\n",
    "    plt.savefig('ROC_' + name +'.pdf', format='pdf')\n",
    "    plt.show()   \n",
    "    plt.close()\n",
    "    \n",
    "all_roc_graph(ml_classifier_and_experts.asc, predictions, 'ROC')\n"
   ]
  },
  {
   "cell_type": "code",
   "execution_count": null,
   "metadata": {
    "collapsed": true
   },
   "outputs": [],
   "source": [
    "def three_d_plt(df, x, y, z):\n",
    "    #sns.set_style(\"whitegrid\", {'axes.grid' : False})\n",
    "\n",
    "    #plt.style.use('seaborn-whitegrid') \n",
    "    fig = plt.figure(figsize=(8,6))\n",
    "\n",
    "    ax = plt.axes(projection='3d')\n",
    "    #ax.grid(False)\n",
    "    ax.xaxis.pane.set_edgecolor('black')\n",
    "    ax.yaxis.pane.set_edgecolor('black')\n",
    "    ax.xaxis.pane.fill = False\n",
    "    ax.yaxis.pane.fill = False\n",
    "    ax.zaxis.pane.fill = False\n",
    "\n",
    "    ax.scatter(df['Value'],\n",
    "               df['pr_rf_face'], \n",
    "               df['pr_rf_gaze'], \n",
    "               alpha=0.8, s=30,\n",
    "               c=gaze_face_experts['asc'], \n",
    "               cmap='viridis', linewidth=0.5,\n",
    "               )\n",
    "    ax.set_xlabel('Expert Raters')\n",
    "    ax.set_ylabel('Face Classifier')\n",
    "    ax.set_zlabel('Voice Classifier')\n",
    "    ax.set_xlim(0,10)\n",
    "    ax.set_ylim(0,1)\n",
    "    ax.set_zlim(0,1)\n",
    "    ax.legend(labels=('NT', 'ASC'))\n",
    "    plt.show()\n",
    "    "
   ]
  },
  {
   "cell_type": "code",
   "execution_count": null,
   "metadata": {
    "collapsed": true
   },
   "outputs": [],
   "source": [
    "three_d_plt(ml_classifier_and_experts, 'Value', 'pr_rf_face_full', 'pr_rf_voice')"
   ]
  },
  {
   "cell_type": "markdown",
   "metadata": {},
   "source": [
    "x-Achse: face\n",
    "y-Achse: voice\n",
    "z-Achse: rater\n",
    "color: tatsächliche Diagnose\n",
    "sign: gender"
   ]
  },
  {
   "cell_type": "code",
   "execution_count": null,
   "metadata": {
    "collapsed": true
   },
   "outputs": [],
   "source": [
    "import scipy \n",
    "a=(ml_classifier_and_experts.pr_rf_voice>0.5)*1==gaze_face_experts.asc\n",
    "b=(ml_classifier_and_experts.Value>0.5)*1==gaze_face_experts.asc\n",
    "\n",
    "scipy.stats.wilcoxon(gaze_face_experts.pr_rf_voice, gaze_face_experts.Value)\n"
   ]
  },
  {
   "cell_type": "code",
   "execution_count": null,
   "metadata": {
    "collapsed": true
   },
   "outputs": [],
   "source": []
  },
  {
   "cell_type": "code",
   "execution_count": null,
   "metadata": {
    "collapsed": true
   },
   "outputs": [],
   "source": [
    "# AQ\n",
    "path='./results/AQ_LogRec_Results.csv'\n",
    "AQ=pd.read_csv(path, header=None, sep=';', na_values=['?'])\n",
    "AQ_pred=AQ.iloc[0,:].astype('str').str.split('  ', expand=True).iloc[:,1].str[0:-1].astype(float)\n",
    "y_true_AQ=AQ.iloc[1,:].astype(float)\n",
    "print (AQ_pred)"
   ]
  },
  {
   "cell_type": "code",
   "execution_count": null,
   "metadata": {
    "collapsed": true
   },
   "outputs": [],
   "source": [
    "print len(y_true_AQ[y_true_AQ==1])\n",
    "print np.sum(y_true_AQ[y_true_AQ==1]==(AQ_pred[y_true_AQ==1]>0.6))\n",
    "print len(y_true_AQ[y_true_AQ==0])\n",
    "print np.sum(y_true_AQ[y_true_AQ==0]==(AQ_pred[y_true_AQ==0]>0.6))"
   ]
  },
  {
   "cell_type": "code",
   "execution_count": null,
   "metadata": {
    "collapsed": true
   },
   "outputs": [],
   "source": [
    "#Total\n",
    "path='./results/SIandAQRF_SVM_Results.csv'\n",
    "pr_rf_combinded, pr_svm_combinded, _, y_true_combinded=load_results(path)"
   ]
  },
  {
   "cell_type": "code",
   "execution_count": null,
   "metadata": {
    "collapsed": true
   },
   "outputs": [],
   "source": [
    "#Total\n",
    "path='./results/totalRF_SVM_Results.csv'\n",
    "pr_rf_total, pr_svm_total, _, y_true_total=load_results(path)\n",
    "\n",
    "#Face\n",
    "path='./results/smallRF_SVM_Results.csv'\n",
    "pr_rf_face, pr_svm_face, _, y_true_face=load_results(path)\n",
    "\n",
    "#Audio\n",
    "path='./results/audio_RF_SVM_Results.csv'\n",
    "pr_rf_audio, pr_svm_audio, _, y_true_audio=load_results(path)\n",
    "\n",
    "#Occurcence AU\n",
    "path='./results/occRF_SVM_Results.csv'\n",
    "pr_rf_occ, pr_svm_occ,_, y_true_occ=load_results(path)\n",
    "\n",
    "#Intensity AU\n",
    "path='./results/intRF_SVM_Results.csv'\n",
    "pr_rf_int, pr_svm_int,_, y_true_int=load_results(path)\n",
    "\n",
    "#Gaze AU\n",
    "path='./results/gazeRF_SVM_Results.csv'\n",
    "pr_rf_gaze, pr_svm_gaze,_, y_true_gaze=load_results(path)\n",
    "\n",
    "#CNNs\n",
    "\n",
    "path='./results/totalcnn_stacked_results.csv'\n",
    "_, _, pr_stackedCNN, y_true_CNN_stacked = load_results(path, 'nn')\n",
    "\n",
    "path='./results/totalsimple_cnnresults.csv'\n",
    "_, _, pr_simpleCNN, y_true_CNN_simple = load_results(path, 'nn')\n",
    "\n",
    "path='./results/totalresults_hyper_sep.csv'\n",
    "_, _, pr_pooledCNN, y_true_CNN_pooled = load_results(path, 'nn')\n"
   ]
  },
  {
   "cell_type": "code",
   "execution_count": null,
   "metadata": {},
   "outputs": [],
   "source": [
    "def check_precision(pred, y_true):\n",
    "    precision = np.sum(((pred>0.5)*1)==y_true)/(len(y_true))\n",
    "    print precision\n",
    "\n",
    "check_precision(pr_svm_audio, y_true_audio)"
   ]
  },
  {
   "cell_type": "markdown",
   "metadata": {},
   "source": [
    "# Graphics"
   ]
  },
  {
   "cell_type": "code",
   "execution_count": null,
   "metadata": {
    "collapsed": true
   },
   "outputs": [],
   "source": [
    "fz=22 #16\n",
    "lw=3 #1.5"
   ]
  },
  {
   "cell_type": "code",
   "execution_count": null,
   "metadata": {
    "collapsed": true
   },
   "outputs": [],
   "source": [
    "def all_roc_graph(y_true, predictions, name='ROC_RF_SVM', aq='off', y_true_AQ=[], AQ_pred=[]): #, probs_hyper, probs_hyper_pool):\n",
    "    \n",
    "    plt.figure(figsize=(12, 8))  \n",
    "    pred=0\n",
    "    \n",
    "    sns.set_style(\"white\")\n",
    " \n",
    "    #colors = [(31, 119, 180), (255, 127, 14),  (44, 160, 44),  (148, 103, 189), (140, 86, 75), \n",
    "    #             (227, 119, 194), (127, 127, 127),  (188, 189, 34), (23, 190, 207)] \n",
    "    #colors=[(31, 119, 180), (255, 127, 14),  (44, 160, 44),  (148, 103, 189)]\n",
    "    \n",
    "    colors=[ (0, 128, 128),  (0, 0, 128), (200, 128, 0), (128, 0, 0), (31, 119, 180), (255, 127, 14)]\n",
    "    linestyle = ['-', '-.', '--', ':', '-.', '-', '--', ':']\n",
    "    markers = [' ', ' ', ' ', ' ', 'o', 'x']\n",
    "    \n",
    "    plt.plot([-0.01, 1.01], [-0.01, 1.01], color=(0 / 255., 0 / 255., 0 / 255.), \n",
    "             linestyle='-',lw=0.5)\n",
    "    \n",
    "    # Scale the RGB values to the [0, 1] range, which is the format matplotlib accepts.    \n",
    "    for i in range(len(colors)): \n",
    "        r, g, b = colors[i]\n",
    "        colors[i] = (r / 255., g / 255., b / 255.)    \n",
    "\n",
    "    for key in predictions:\n",
    "        fpr_nn, tpr_nn, thresholds_nn = roc_curve(y_true[key], predictions[key], drop_intermediate=False)\n",
    "        roc_auc_nn = auc(fpr_nn, tpr_nn)\n",
    "        plt.plot(fpr_nn, tpr_nn, label=key + ': AUC = %0.2f' % (roc_auc_nn), \n",
    "                 lw=lw,\n",
    "                 linestyle=linestyle[pred],\n",
    "                 color=colors[pred],\n",
    "                 marker=markers[pred]\n",
    "                )    \n",
    "        pred=pred+1\n",
    "        \n",
    "        \n",
    "        \n",
    "    if aq=='on':\n",
    "        fpr_nn, tpr_nn, thresholds_nn = roc_curve(y_true_AQ, AQ_pred, drop_intermediate=False)\n",
    "        roc_auc_nn = auc(fpr_nn, tpr_nn)\n",
    "        print pred\n",
    "        plt.plot(fpr_nn, tpr_nn, label='AQ Questionnaire: AUC = %0.2f' % (roc_auc_nn),\n",
    "                 lw=lw, linestyle=linestyle[pred], color=colors[pred])\n",
    "        pred=pred+1\n",
    "\n",
    "            \n",
    "   \n",
    "    plt.xlim([-0.01, 1.01])\n",
    "    plt.ylim([-0.01, 1.01])\n",
    "    plt.yticks(fontsize=fz)    \n",
    "    plt.xticks(fontsize=fz)  \n",
    "    plt.xlabel('False Positive Rate', fontsize=fz)\n",
    "    plt.ylabel('True Positive Rate', fontsize=fz)\n",
    "    plt.title('Receiver Operating Characteristic', fontsize=fz)\n",
    "    plt.legend(loc='lower right', fontsize=fz-2)   \n",
    "    plt.savefig('ROC_' + name +'.pdf', format='pdf')\n",
    "    plt.show()   \n",
    "    plt.close()\n"
   ]
  },
  {
   "cell_type": "markdown",
   "metadata": {},
   "source": [
    "## Fig.1: Comparison of all Learned Models (for the total DF)"
   ]
  },
  {
   "cell_type": "code",
   "execution_count": null,
   "metadata": {
    "collapsed": true
   },
   "outputs": [],
   "source": [
    "predictions = {\"Random Forest\": pr_rf_total,\n",
    "               \"Support Vector Machine\": pr_svm_total, \n",
    "               #\"LSTM\": probs_lstm,\n",
    "              # \"Simple CNN\" : pr_simpleCNN, \n",
    "               \"Stacked CNN\": pr_stackedCNN, \n",
    "               \"Pooled CNN\": pr_pooledCNN}\n",
    "\n",
    "y_true = {\"Random Forest\": y_true_total,\n",
    "          \"Support Vector Machine\": y_true_total, \n",
    "          #\"Simple CNN\" : y_true_CNN_simple, \n",
    "          \"Stacked CNN\": y_true_CNN_stacked,\n",
    "          \"Pooled CNN\": y_true_CNN_pooled} #beim pooled kommen irgendwie andere Werte als beim Original raus...\n",
    "\n",
    "all_roc_graph(y_true, predictions, 'AllClassifiers')"
   ]
  },
  {
   "cell_type": "markdown",
   "metadata": {},
   "source": [
    "## Fig. 2: Comparison of Different Features (for the best Classifier RF)"
   ]
  },
  {
   "cell_type": "code",
   "execution_count": null,
   "metadata": {
    "collapsed": true
   },
   "outputs": [],
   "source": [
    "plt.close()\n",
    "\n",
    "predictions = {\"Combined\": pr_rf_total,\n",
    "               \"Video\": pr_rf_face,\n",
    "               \"Audio\": pr_rf_audio, \n",
    "               \"AU Occurence\": pr_rf_occ,\n",
    "               \"AU Intensity\": pr_rf_int,\n",
    "               \"Gaze\": pr_rf_gaze}\n",
    "\n",
    "y_total= {\"Combined\": y_true_total, \n",
    "          \"Video\": y_true_face, \n",
    "          \"Audio\": y_true_audio, \n",
    "          \"AU Occurence\": y_true_occ,\n",
    "          \"AU Intensity\": y_true_int,\n",
    "          \"Gaze\": y_true_gaze}\n",
    "\n",
    "all_roc_graph(y_total, predictions, 'Feature_Comparison_RF')"
   ]
  },
  {
   "cell_type": "code",
   "execution_count": null,
   "metadata": {
    "collapsed": true
   },
   "outputs": [],
   "source": [
    "plt.close()\n",
    "\n",
    "predictions = {\"Combined\": pr_rf_total,\n",
    "               \"Video\": pr_rf_face,\n",
    "               \"Audio\": pr_rf_audio, \n",
    "               #\"AU Occurence\": pr_rf_occ,\n",
    "               #\"AU Intensity\": pr_rf_int,\n",
    "               \"Gaze\": pr_rf_gaze}\n",
    "\n",
    "y_total= {\"Combined\": y_true_total, \n",
    "          \"Video\": y_true_face, \n",
    "          \"Audio\": y_true_audio, \n",
    "         # \"AU Occurence\": y_true_occ,\n",
    "         # \"AU Intensity\": y_true_int,\n",
    "          \"Gaze\": y_true_gaze}\n",
    "\n",
    "all_roc_graph(y_total, predictions, 'Feature_Comparison_RF')"
   ]
  },
  {
   "cell_type": "markdown",
   "metadata": {},
   "source": [
    "## Fig. 4: Regression - Scatter Plot"
   ]
  },
  {
   "cell_type": "code",
   "execution_count": null,
   "metadata": {
    "collapsed": true
   },
   "outputs": [],
   "source": [
    "def regression_plot(predicition, true, name):\n",
    "    plt.close()\n",
    "    plt.figure(figsize=(12,8))\n",
    "    ax=sns.regplot(predicition, true, ci=None, scatter_kws={'s':100})#, label='small')\n",
    "      \n",
    "    plt.yticks(fontsize=fz)    \n",
    "    plt.xticks(fontsize=fz)  \n",
    "    plt.xlabel('True Values', fontsize=fz)\n",
    "    plt.ylabel('Predicted Values ', fontsize=fz)\n",
    "    plt.title(name, fontsize=fz)\n",
    "    \n",
    "    ax.set(xlabel='Predicted Value', ylabel='True Value')\n",
    "    \n",
    "    plt.savefig('Regression.pdf', format='pdf')\n",
    "    plt.savefig('Regression.eps', format='eps')\n",
    "    plt.show()  \n",
    "    #plt.close()\n",
    "    \n",
    "    print stats.pearsonr(predicition, true) #nv getestet"
   ]
  },
  {
   "cell_type": "code",
   "execution_count": null,
   "metadata": {},
   "outputs": [],
   "source": [
    "#load and plot regressio data (predicition vs. true value)\n",
    "\n",
    "path='./results/workingregressionADIsocial.csv'\n",
    "\n",
    "adir_rf, adir_svm, _, adir_true=load_results(path, 'regression')\n",
    "\n",
    "regression_plot(adir_rf, adir_true, 'ADI-R Social Subscale')"
   ]
  },
  {
   "cell_type": "markdown",
   "metadata": {},
   "source": [
    "# Statistical Testing"
   ]
  },
  {
   "cell_type": "code",
   "execution_count": null,
   "metadata": {
    "collapsed": true
   },
   "outputs": [],
   "source": [
    "def evaluate(y_true, predictions):\n",
    "    i=0\n",
    "    stat_key=[]\n",
    "    stat_M=[]\n",
    "    stat_Mp=[]\n",
    "    stat_R=[]\n",
    "    stat_Rp=[]\n",
    "\n",
    "    for key in predictions:        \n",
    "        pred=predictions[key]>0.5\n",
    "        correcte_pred=np.array((y_true[key]==pred)*1) # Prüft, ob korrekte Vorhersage durch Classifier\n",
    "        correcte_mayority_pred=np.array((np.ones(len(y_true[key]))==y_true[key])*1) #Baseline: Mehrheitsklasse zum vergleichen\n",
    "        \n",
    "        print key\n",
    "        print sign_test((correcte_pred-correcte_mayority_pred), mu0=0) #returns M = (N(+) - N(-))/2 and p\n",
    "        print stats.pointbiserialr(y_true[key], pred)\n",
    "        for second in predictions:\n",
    "                second_pred=predictions[second]>0.5\n",
    "                correcte_second_pred=np.array((y_true[second]==second_pred)*1)\n",
    "                try:\n",
    "                    print str(second) + \" vs. \" + str(key)\n",
    "                    print sign_test((correcte_pred-correcte_second_pred), mu0=0)\n",
    "                except:\n",
    "                    print 'comparison not possible'\n"
   ]
  },
  {
   "cell_type": "code",
   "execution_count": null,
   "metadata": {},
   "outputs": [],
   "source": [
    "\n",
    "predictions = {\"Total\": pr_rf_total,\n",
    "               \"Video\": pr_rf_face,\n",
    "               \"Audio\": pr_rf_audio, \n",
    "               \"AU Occurence\": pr_rf_occ,\n",
    "               \"AU Intensity\": pr_rf_int,\n",
    "               \"Gaze\": pr_rf_gaze}\n",
    "\n",
    "y_total= {\"Total\": y_true_total, \n",
    "          \"Video\": y_true_face, \n",
    "          \"Audio\": y_true_audio, \n",
    "          \"AU Occurence\": y_true_occ,\n",
    "          \"AU Intensity\": y_true_int,\n",
    "          \"Gaze\": y_true_gaze}\n",
    "\n",
    "evaluate(y_total, predictions)\n"
   ]
  },
  {
   "cell_type": "code",
   "execution_count": null,
   "metadata": {},
   "outputs": [],
   "source": [
    "predictions = {\"Random Forest\": pr_rf_total,\n",
    "               \"Support Vector Machine\": pr_svm_total, \n",
    "               #\"LSTM\": probs_lstm,\n",
    "               \"Simple CNN\" : pr_simpleCNN, \n",
    "               \"Stacked CNN\": pr_stackedCNN, \n",
    "               \"Pooled CNN\": pr_pooledCNN,\n",
    "              \"AQ\": AQ_pred}\n",
    "\n",
    "y_total = {\"Random Forest\": y_true_total,\n",
    "          \"Support Vector Machine\": y_true_total, \n",
    "          \"Simple CNN\" : y_true_CNN_simple, \n",
    "          \"Stacked CNN\": y_true_CNN_stacked,\n",
    "          \"Pooled CNN\": y_true_CNN_pooled,\n",
    "          \"AQ\": y_true_AQ}\n",
    "\n",
    "evaluate(y_total, predictions)"
   ]
  },
  {
   "cell_type": "code",
   "execution_count": null,
   "metadata": {
    "collapsed": true
   },
   "outputs": [],
   "source": [
    "'svc__C': [1, 5, 10, 50],\n",
    "'svc__gamma': [0.0001, 0.0005, 0.001, 0.005]\n",
    "            \n",
    "a=[1.00000000e-03,   1.00000000e-02,   1.00000000e-01,  1.00000000e+00,   1.00000000e+01,   1.00000000e+02]"
   ]
  },
  {
   "cell_type": "code",
   "execution_count": null,
   "metadata": {
    "collapsed": true
   },
   "outputs": [],
   "source": [
    "def reg_cor(x, y, x_label, y_label):\n",
    "    plt.figure(figsize=(12,8))\n",
    "    sns.regplot(x, y)\n",
    "    plt.yticks(fontsize=14)    \n",
    "    plt.xticks(fontsize=14)  \n",
    "    plt.xlabel(x_label, fontsize=16) \n",
    "    plt.ylabel(y_label, fontsize=16) \n",
    "    plt.savefig(x_label + y_label + '_Regression_Correlation.png')\n",
    "    plt.show()\n",
    "    plt.close()\n",
    "    \n",
    "plt.scatter(df[df.asc==1].groupby('vpn').adir_social.mean(), df[df.asc==1].groupby('vpn').asq.mean())\n",
    "plt.show()\n",
    "\n",
    "\n",
    "sns.regplot(df[df.ados_total>0].groupby('vpn').mean().asq, df[df.ados_total>0].groupby('vpn').mean().ados_social)\n",
    "plt.show()\n",
    "\n",
    "plt.scatter(df[df.ados_total>0].groupby('vpn').mean().asq, df[df.ados_total>0].groupby('vpn').mean().ados_commu)\n",
    "plt.show()"
   ]
  },
  {
   "cell_type": "code",
   "execution_count": null,
   "metadata": {
    "collapsed": true
   },
   "outputs": [],
   "source": []
  }
 ],
 "metadata": {
  "kernelspec": {
   "display_name": "Python 3",
   "language": "python",
   "name": "python3"
  },
  "language_info": {
   "codemirror_mode": {
    "name": "ipython",
    "version": 3
   },
   "file_extension": ".py",
   "mimetype": "text/x-python",
   "name": "python",
   "nbconvert_exporter": "python",
   "pygments_lexer": "ipython3",
   "version": "3.6.3"
  }
 },
 "nbformat": 4,
 "nbformat_minor": 2
}
