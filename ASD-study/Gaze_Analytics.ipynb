{
 "cells": [
  {
   "cell_type": "markdown",
   "metadata": {
    "collapsed": true
   },
   "source": [
    "## Combining the CSV of all Participants"
   ]
  },
  {
   "cell_type": "code",
   "execution_count": null,
   "metadata": {},
   "outputs": [],
   "source": [
    "#Basicsimport os\n",
    "import sys\n",
    "print (os.getcwd())\n",
    "sys.path.append('/home/Hanna.Drimalla/ml-autism/scripts')\n",
    "\n",
    "from __future__ import division\n",
    "\n",
    "%matplotlib inline\n",
    "import os\n",
    "import pandas as pd\n",
    "import datetime as dt\n",
    "import imageio\n",
    "import numpy as np\n",
    "import subprocess\n",
    "import seaborn as sns\n",
    "import matplotlib.pyplot as plt\n",
    "#from keras.models import Sequential, Model\n",
    "\n",
    "\n",
    "#Stats\n",
    "#import mne\n",
    "import statsmodels.api as sm\n",
    "import statsmodels.formula.api as smf\n",
    "import scipy\n",
    "from scipy import stats\n",
    "from statsmodels.formula.api import ols\n",
    "from statsmodels.stats.anova import anova_lm\n",
    "from statsmodels.graphics.factorplots import interaction_plot\n",
    "\n",
    "# Graphics\n",
    "import matplotlib.pyplot as plt\n",
    "import statsmodels.api as sm\n",
    "from statsmodels.regression.mixed_linear_model import MixedLMParams\n",
    "from statsmodels.stats.weightstats import DescrStatsW\n",
    "\n",
    "\n",
    "#import pyvttbl as pt\n",
    "import statsmodels.stats.api as sms\n",
    "import statsmodels.api as sm\n",
    "import statsmodels.formula.api as smf\n",
    "import sklearn\n",
    "import warnings\n",
    "from scipy.stats.mstats import zscore\n",
    "#matplotlib.use('TkAgg')  \n",
    "from mpl_toolkits.mplot3d import Axes3D\n",
    "from sklearn import decomposition\n",
    "from sklearn.decomposition import PCA as sklearnPCA\n",
    "from sklearn.preprocessing import StandardScaler\n",
    "import scipy.cluster.hierarchy as hac\n",
    "from sklearn.pipeline import Pipeline\n",
    "from sklearn.preprocessing import PolynomialFeatures\n",
    "from sklearn.linear_model import LinearRegression\n",
    "#from sklearn.model_selection import cross_val_score\n",
    "import mycharite\n",
    "import mystats "
   ]
  },
  {
   "cell_type": "code",
   "execution_count": null,
   "metadata": {
    "collapsed": true
   },
   "outputs": [],
   "source": [
    "study='charite'"
   ]
  },
  {
   "cell_type": "code",
   "execution_count": null,
   "metadata": {
    "collapsed": true
   },
   "outputs": [],
   "source": [
    "def smooth(df):\n",
    "    round_df=df\n",
    "    for i in set(df.vpn):\n",
    "        for au in action_r:\n",
    "            round_df.loc[round_df.vpn==i, au]=round_df.loc[round_df.vpn==i, au].rolling(30, win_type='triang').mean()\n",
    "    return round_df"
   ]
  },
  {
   "cell_type": "code",
   "execution_count": null,
   "metadata": {},
   "outputs": [],
   "source": [
    "# load dataframe\n",
    "df, df_audio, action_r, action_c, gaze, audio =mycharite.load('charite')\n",
    "df=mycharite.aq_charite(df)\n",
    "df=mycharite.ados_charite(df)\n",
    "\n",
    "print ('NT ' + str(sum(df.groupby('vpn').mean().asc==0)))\n",
    "print ('ASC ' + str(sum(df.groupby('vpn').mean().asc==1)))\n",
    "\n",
    "df=mycharite.exclude_outlier(df)\n",
    "\n",
    "print ('NT ' + str(sum(df.groupby('vpn').mean().asc==0)))\n",
    "print ('ASC ' + str(sum(df.groupby('vpn').mean().asc==1)))\n",
    "\n",
    "df=mycharite.adapt_times(df)"
   ]
  },
  {
   "cell_type": "code",
   "execution_count": null,
   "metadata": {},
   "outputs": [],
   "source": [
    "var=['gaze_angle_x', 'gaze_angle_y']\n",
    "df_speed_acc=mycharite.calc_speed(df, var)\n",
    "df=mycharite.calc_gaze_var(df)"
   ]
  },
  {
   "cell_type": "code",
   "execution_count": null,
   "metadata": {
    "collapsed": true
   },
   "outputs": [],
   "source": [
    "df=pd.merge(df, df_speed_acc, on=['vpn', 'conversation'], how='left')"
   ]
  },
  {
   "cell_type": "code",
   "execution_count": null,
   "metadata": {
    "collapsed": true
   },
   "outputs": [],
   "source": [
    "new_features=['gaze_angle_x', 'gaze_angle_y',\n",
    "              'gaze_angle_x_centered', 'gaze_angle_y_centered',\n",
    "              'gaze_angle_x_abs', 'gaze_angle_y_abs', \n",
    "              'gaze_angle_total_centered_abs',\n",
    "              'mean_speed_gaze_angle_x', 'mean_acc_gaze_angle_x',\n",
    "              'var_speed_gaze_angle_x', 'var_acc_gaze_angle_x', \n",
    "              'mean_speed_gaze_angle_y', 'mean_acc_gaze_angle_y', \n",
    "              'var_speed_gaze_angle_y', 'var_acc_gaze_angle_y']"
   ]
  },
  {
   "cell_type": "markdown",
   "metadata": {},
   "source": [
    "## Descriptives"
   ]
  },
  {
   "cell_type": "code",
   "execution_count": null,
   "metadata": {},
   "outputs": [],
   "source": [
    "for i in new_features:\n",
    "    print (i)\n",
    "    print (df.groupby('vpn').mean().groupby('asc')[i].describe())"
   ]
  },
  {
   "cell_type": "code",
   "execution_count": null,
   "metadata": {},
   "outputs": [],
   "source": [
    "def group_comparison(df):\n",
    "    var=['mean_speed_gaze_angle_x', 'mean_acc_gaze_angle_x',\n",
    "              'mean_speed_gaze_angle_y', 'mean_acc_gaze_angle_y']\n",
    "    \n",
    "    \n",
    "\n",
    "    for i in var:\n",
    "        print (i)\n",
    "        df1=df[df.asc==0].groupby('vpn').mean()\n",
    "        df2=df[df.asc==1].groupby('vpn').mean()\n",
    "        mystats.two_ind_sample_tests(df1, df2, i)\n",
    "        \n",
    "group_comparison(df)"
   ]
  },
  {
   "cell_type": "markdown",
   "metadata": {},
   "source": [
    "# Smooth"
   ]
  },
  {
   "cell_type": "code",
   "execution_count": null,
   "metadata": {
    "collapsed": true
   },
   "outputs": [],
   "source": [
    "def smooth(df):\n",
    "    df.index = pd.to_datetime(df['timepoint'].astype('float64'), unit='s')\n",
    "    df=df.groupby(['vpn']).resample('S').mean().reset_index(drop=True)\n",
    "    return df"
   ]
  },
  {
   "cell_type": "code",
   "execution_count": null,
   "metadata": {
    "collapsed": true
   },
   "outputs": [],
   "source": [
    "df_small=df.groupby(['vpn', 'conversation']).mean().reset_index()\n",
    "df_small=pd.merge(df_small, df_speed_acc, on=['vpn', 'conversation'])"
   ]
  },
  {
   "cell_type": "markdown",
   "metadata": {
    "collapsed": true
   },
   "source": [
    "# Graphs"
   ]
  },
  {
   "cell_type": "code",
   "execution_count": null,
   "metadata": {
    "collapsed": true
   },
   "outputs": [],
   "source": [
    "def time_plot(df, var, title):\n",
    "    plt.plot(np.array(df.reset_index(drop=True).groupby(['counter']).mean()[var]), color='green')\n",
    "    plt.plot(np.array(df[df.asc==0].reset_index(drop=True).groupby(['counter']).mean()[var]), color='blue')\n",
    "    #scale!!!\n",
    "    plt.title(str(title))\n",
    "    plt.show()"
   ]
  },
  {
   "cell_type": "code",
   "execution_count": null,
   "metadata": {},
   "outputs": [],
   "source": [
    "for con in np.unique(df.conversation):\n",
    "    time_plot(df[df.conversation==con], 'gaze_angle_x', con)"
   ]
  },
  {
   "cell_type": "code",
   "execution_count": null,
   "metadata": {},
   "outputs": [],
   "source": [
    "for con in np.unique(df.conversation):\n",
    "    time_plot(df[df.conversation==con], 'gaze_angle_y', con)"
   ]
  },
  {
   "cell_type": "code",
   "execution_count": null,
   "metadata": {
    "collapsed": true
   },
   "outputs": [],
   "source": [
    "def gaze_heat(df, title):\n",
    "    plt.close()\n",
    "    sns.kdeplot(df.gaze_angle_x_centered, df.gaze_angle_y_centered, cmap=\"Reds\", shade=True, shade_lowest=False)\n",
    "    plt.ylim(-0.1, 0.1)\n",
    "    plt.xlim(-0.2, 0.2)\n",
    "    plt.yticks(fontsize=16)    \n",
    "    plt.xticks(fontsize=16)  \n",
    "    plt.xlabel('X-Angle of Gaze', fontsize=18) \n",
    "    plt.ylabel(('Y-Angle of Gaze'), fontsize=18)\n",
    "    plt.legend(loc='upper left', fontsize=16)  \n",
    "    plt.savefig('Gaze_'+ str(title) + '_.png')\n",
    "    plt.show() \n"
   ]
  },
  {
   "cell_type": "code",
   "execution_count": null,
   "metadata": {
    "collapsed": true
   },
   "outputs": [],
   "source": [
    "def gaze_heat_not_centered(df, title):\n",
    "    plt.close()\n",
    "    sns.kdeplot(df.gaze_angle_x, df.gaze_angle_y, cmap=\"Reds\", shade=True, shade_lowest=False)\n",
    "    plt.ylim(-0.1, 0.1)\n",
    "    plt.xlim(-0.2, 0.2)\n",
    "    plt.yticks(fontsize=16)    \n",
    "    plt.xticks(fontsize=16)  \n",
    "    plt.xlabel('X-Angle of Gaze', fontsize=18) \n",
    "    plt.ylabel(('Y-Angle of Gaze'), fontsize=18)\n",
    "    plt.legend(loc='upper left', fontsize=16)  \n",
    "    plt.savefig('Gaze_'+ str(title) + '_.png')\n",
    "    plt.show() \n"
   ]
  },
  {
   "cell_type": "code",
   "execution_count": null,
   "metadata": {},
   "outputs": [],
   "source": [
    "gaze_heat(df[df.asc==1].reset_index(drop=True), 'ASC')\n",
    "gaze_heat(df[df.asc==0].reset_index(drop=True), 'ASC')"
   ]
  },
  {
   "cell_type": "code",
   "execution_count": null,
   "metadata": {},
   "outputs": [],
   "source": [
    "gaze_heat_not_centered(df[df.asc==1].reset_index(drop=True), 'ASC')\n",
    "gaze_heat_not_centered(df[df.asc==0].reset_index(drop=True), 'ASC')"
   ]
  },
  {
   "cell_type": "code",
   "execution_count": null,
   "metadata": {},
   "outputs": [],
   "source": [
    "plt.hist(df[df.asc==0].groupby('vpn').max().gaze_angle_y)\n",
    "plt.show()\n",
    "\n",
    "plt.hist(df[df.asc==1].groupby('vpn').max().gaze_angle_y)\n",
    "plt.show()"
   ]
  },
  {
   "cell_type": "code",
   "execution_count": null,
   "metadata": {},
   "outputs": [],
   "source": [
    "plt.hist(df[df.sex==1][df.asc==0].groupby('vpn').mean().gaze_angle_y)\n",
    "plt.show()\n",
    "\n",
    "plt.hist(df[df.sex==1][df.asc==1].groupby('vpn').mean().gaze_angle_y)\n",
    "plt.show()"
   ]
  },
  {
   "cell_type": "code",
   "execution_count": null,
   "metadata": {
    "collapsed": true
   },
   "outputs": [],
   "source": [
    "#df.groupby('vpn').max().counter"
   ]
  },
  {
   "cell_type": "code",
   "execution_count": null,
   "metadata": {},
   "outputs": [],
   "source": [
    "window=1000\n",
    "i=10\n",
    "plt.plot(df[df.vpn==i]['gaze_angle_y'].reset_index(drop=True).rolling(window=window).mean().reset_index(drop=True), color='blue')\n",
    "#plt.plot(df[df.vpn==i]['gaze_angle_x'], color='red')\n",
    "\n",
    "#plt.ylim(-0.15, 0.15)\n",
    "#plt.plot(np.mean(speeds_nt.iloc[:, 0:-2].rolling(window=window).mean(), axis=0), color='green')\n",
    "plt.show()"
   ]
  },
  {
   "cell_type": "code",
   "execution_count": null,
   "metadata": {},
   "outputs": [],
   "source": [
    "accs_asc=accs[(accs.asc==1)]\n",
    "accs_nt=accs[(accs.asc==0)]\n",
    "\n",
    "plt.plot(np.mean(accs_asc.iloc[:,0:-2], axis=0), color='blue')\n",
    "plt.plot(np.mean(accs_nt.iloc[:, 0:-2], axis=0), color='green')\n",
    "plt.show()"
   ]
  },
  {
   "cell_type": "code",
   "execution_count": null,
   "metadata": {},
   "outputs": [],
   "source": [
    "plt.hist(((df[df.asc==0].groupby('vpn').mean().gaze_angle_x_centered_abs)))\n",
    "plt.show()"
   ]
  },
  {
   "cell_type": "code",
   "execution_count": null,
   "metadata": {
    "collapsed": true
   },
   "outputs": [],
   "source": [
    "plt.hist(((df[df.asc==1].groupby('vpn').mean().gaze_angle_x_centered_abs)))\n",
    "plt.show()"
   ]
  },
  {
   "cell_type": "code",
   "execution_count": null,
   "metadata": {
    "collapsed": true
   },
   "outputs": [],
   "source": [
    "plt.scatter(df.groupby('vpn').mean()['gaze_angle_x_centered_abs'],\n",
    "           df.groupby('vpn').mean()['asq'])\n",
    "plt.show()"
   ]
  },
  {
   "cell_type": "markdown",
   "metadata": {},
   "source": [
    "# Calculations "
   ]
  },
  {
   "cell_type": "markdown",
   "metadata": {},
   "source": [
    "### Group Comparsiond: Gaze Variation"
   ]
  },
  {
   "cell_type": "code",
   "execution_count": null,
   "metadata": {},
   "outputs": [],
   "source": [
    "# 1 is female\n",
    "\n",
    "var = ['gaze_angle_y',\n",
    "       'gaze_angle_x', 'gaze_angle_x_abs',\n",
    "       'gaze_angle_y_abs', \n",
    "       'mean_speed_gaze_angle_x', 'mean_acc_gaze_angle_x',\n",
    "       'mean_speed_gaze_angle_y', 'mean_acc_gaze_angle_y']\n",
    "\n",
    "df_small=df_small[df_small.conversation!='intro']\n",
    "df_small=df_small[df_small.vpn!=1]\n",
    "   \n",
    "for v in var:\n",
    "    print (v)\n",
    "    print (mystats.two_ind_sample_tests(df_small[(df_small.asc==0)].groupby('vpn').mean(), \n",
    "                         df_small[(df_small.asc==1)].groupby('vpn').mean(), v))"
   ]
  },
  {
   "cell_type": "code",
   "execution_count": null,
   "metadata": {},
   "outputs": [],
   "source": [
    "def correlations (df, traits, gaze_features):\n",
    "    for trait in traits:\n",
    "\n",
    "        for gaz in gaze_features:\n",
    "            try:\n",
    "                print (gaz)\n",
    "                print (trait)\n",
    "                a=df[df[trait]>0].groupby('vpn').mean()[[trait, gaz]].dropna()\n",
    "                mystats.correlation(a[trait], a[gaz])\n",
    "                plt.scatter(a[trait], a[gaz])\n",
    "                plt.show()\n",
    "            except: \n",
    "                print ('not calculable')\n",
    "       \n",
    "        \n",
    "gaze_features=['gaze_angle_y',\n",
    "       'gaze_angle_x', 'gaze_angle_x_abs',\n",
    "       'gaze_angle_y_abs',\n",
    "       'mean_speed_gaze_angle_x', 'mean_acc_gaze_angle_x',\n",
    "       'mean_speed_gaze_angle_y', 'mean_acc_gaze_angle_y']\n",
    "\n",
    "traits=['ados_commu', 'ados_social', 'ados_total', 'adir_social', 'adir_commu', 'adir_behav',\n",
    "       'adir_onset']\n",
    "\n",
    "correlations (df_small, traits, gaze_features)"
   ]
  },
  {
   "cell_type": "code",
   "execution_count": null,
   "metadata": {
    "collapsed": true
   },
   "outputs": [],
   "source": [
    "def graphics(df):\n",
    "    df_nt=df_small[df_small.asc==0].groupby(['vpn']).mean().reset_index(drop=True)\n",
    "    df_asc=df_small[df_small.asc==1].groupby(['vpn']).mean().reset_index(drop=True)\n",
    "\n",
    "    var = ['gaze_angle_x',\n",
    "           'gaze_angle_y', 'gaze_angle_x_abs',\n",
    "           'gaze_angle_y_abs', \n",
    "           'mean_speed_gaze_angle_x', 'mean_acc_gaze_angle_x',\n",
    "           'var_speed_gaze_angle_x', 'var_acc_gaze_angle_x',\n",
    "           'mean_speed_gaze_angle_y', 'mean_acc_gaze_angle_y',\n",
    "           'var_speed_gaze_angle_y', 'var_acc_gaze_angle_y']\n",
    "\n",
    "    for v in var:\n",
    "        print (v)\n",
    "        #mystats.two_ind_sample_tests(df_nt, df_asc, v)\n",
    "        plt.hist(df_nt[v], color='blue')\n",
    "        plt.hist(df_asc[v], color='red')\n",
    "        plt.show()"
   ]
  },
  {
   "cell_type": "code",
   "execution_count": null,
   "metadata": {
    "collapsed": true
   },
   "outputs": [],
   "source": [
    "# ACHTUNG: 1 is female!!!\n",
    "\n",
    "def gender_analysis(df):\n",
    "    gender=[1, 2]\n",
    "    var = ['gaze_angle_y',\n",
    "           'gaze_angle_x', 'gaze_angle_x_abs',\n",
    "           'gaze_angle_y_abs', \n",
    "           'mean_speed_gaze_angle_x', 'mean_acc_gaze_angle_x',\n",
    "           'mean_speed_gaze_angle_y', 'mean_acc_gaze_angle_y']\n",
    "    df_small=df_small[df_small.conversation!='intro']\n",
    "\n",
    "    for g in gender:\n",
    "        print (g)\n",
    "        print (len(df_small[ (df_small.sex==g) &(df_small.asc==0)].groupby('vpn').mean()))\n",
    "        print (len(df_small[ (df_small.sex==g) &(df_small.asc==1)].groupby('vpn').mean()))\n",
    "        for v in var:\n",
    "            print (v)\n",
    "            print (mystats.two_ind_sample_tests(df_small[ (df_small.sex==g) &(df_small.asc==0)].groupby('vpn').mean(), \n",
    "                                 df_small[(df_small.sex==g) &(df_small.asc==1)].groupby('vpn').mean(), v))\n",
    "\n",
    "\n",
    "    gender=[1, 2]\n",
    "    var = ['gaze_angle_y',\n",
    "           'gaze_angle_x', 'gaze_angle_x_abs',\n",
    "           'gaze_angle_y_abs', \n",
    "           'mean_speed_gaze_angle_x', 'mean_acc_gaze_angle_x',\n",
    "           'mean_speed_gaze_angle_y', 'mean_acc_gaze_angle_y']\n",
    "    df_small=df_small[df_small.conversation!='intro']\n",
    "    for g in gender:\n",
    "        print (g)\n",
    "        for v in var:\n",
    "            print (v)\n",
    "            print (mystats.two_ind_sample_tests(df_small[ (df_small.sex==g) &(df_small.asc==0)].groupby('vpn').mean(), \n",
    "                                 df_small[(df_small.sex==g) &(df_small.asc==1)].groupby('vpn').mean(), v))\n",
    "\n",
    "    print (np.mean(df[(df.sex==1) & (df.asc==0)].groupby('vpn').mean().gaze_angle_y))\n",
    "    print (np.mean(df[(df.sex==1) &(df.asc==1)].groupby('vpn').mean().gaze_angle_y))\n",
    "    print (np.mean(df[(df.sex==2) & (df.asc==0)].groupby('vpn').mean().gaze_angle_y))\n",
    "    print (np.mean(df[(df.sex==2) &(df.asc==1)].groupby('vpn').mean().gaze_angle_y))\n",
    "    print (np.mean(df[(df.sex==1) & (df.asc==0)].groupby('vpn').std().gaze_angle_y))\n",
    "    print (np.mean(df[(df.sex==1) &(df.asc==1)].groupby('vpn').std().gaze_angle_y))\n",
    "    print (np.mean(df[(df.sex==2) & (df.asc==0)].groupby('vpn').std().gaze_angle_y))\n",
    "    print (np.mean(df[(df.sex==2) &(df.asc==1)].groupby('vpn').std().gaze_angle_y))\n"
   ]
  },
  {
   "cell_type": "code",
   "execution_count": null,
   "metadata": {
    "collapsed": true
   },
   "outputs": [],
   "source": [
    "df.columns\n",
    "from sklearn.preprocessing import LabelEncoder\n",
    "\n",
    "LE = LabelEncoder()\n",
    "df['conversationpart'] = LE.fit_transform(df['conversation'])"
   ]
  },
  {
   "cell_type": "markdown",
   "metadata": {},
   "source": [
    "### seperated by Speaker"
   ]
  },
  {
   "cell_type": "code",
   "execution_count": null,
   "metadata": {},
   "outputs": [],
   "source": [
    "for i in set(df.whospeaks):\n",
    "\n",
    "    df_nt=df[df.whospeaks==i][df.asc==0].groupby(['vpn']).mean().reset_index(drop=True)\n",
    "    df_asc=df[df.whospeaks==i][df.asc==1].groupby(['vpn']).mean().reset_index(drop=True)\n",
    "\n",
    "\n",
    "    mystats.two_ind_sample_tests(df_nt, df_asc, 'gaze_angle_x_centered')\n",
    "    mystats.two_ind_sample_tests(df_nt, df_asc, 'gaze_angle_y_centered')\n"
   ]
  },
  {
   "cell_type": "code",
   "execution_count": null,
   "metadata": {
    "collapsed": true
   },
   "outputs": [],
   "source": [
    "speeds_asc=speeds[(speeds.asc==1)]\n",
    "speeds_nt=speeds[(speeds.asc==0)]\n",
    "\n",
    "print scipy.stats.ttest_ind(np.mean(speeds_asc.iloc[:, 0:-2], axis=1),\n",
    "                           np.mean(speeds_nt.iloc[:, 0:-2], axis=1))#, color='green')\n",
    "print np.mean(np.mean(speeds_asc.iloc[:, 0:-2]))\n",
    "print np.mean(np.mean(speeds_nt.iloc[:, 0:-2]))\n",
    "        \n",
    "print scipy.stats.ttest_ind(np.var(speeds_asc.iloc[:, 0:-2], axis=1),\n",
    "                           np.var(speeds_nt.iloc[:, 0:-2], axis=1))#, color='green')"
   ]
  },
  {
   "cell_type": "markdown",
   "metadata": {},
   "source": [
    "### over whole conversation"
   ]
  },
  {
   "cell_type": "code",
   "execution_count": null,
   "metadata": {
    "collapsed": true
   },
   "outputs": [],
   "source": [
    "data=df[df.whospeaks=='proband'].groupby(['vpn', 'conversationpart']).mean().reset_index()\n",
    "model = sm.MixedLM.from_formula('gaze_angle_x_centered' + \" ~ asc\", data, groups=data['vpn']) #, re_formula=\"~conversationpart\")\n",
    "mdf = model.fit()\n",
    "print(mdf.summary())"
   ]
  },
  {
   "cell_type": "code",
   "execution_count": null,
   "metadata": {
    "collapsed": true
   },
   "outputs": [],
   "source": []
  }
 ],
 "metadata": {
  "kernelspec": {
   "display_name": "Python 3",
   "language": "python",
   "name": "python3"
  },
  "language_info": {
   "codemirror_mode": {
    "name": "ipython",
    "version": 3
   },
   "file_extension": ".py",
   "mimetype": "text/x-python",
   "name": "python",
   "nbconvert_exporter": "python",
   "pygments_lexer": "ipython3",
   "version": "3.6.3"
  }
 },
 "nbformat": 4,
 "nbformat_minor": 2
}
